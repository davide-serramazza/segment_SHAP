{
 "cells": [
  {
   "cell_type": "code",
   "execution_count": 1,
   "metadata": {
    "ExecuteTime": {
     "end_time": "2025-02-14T16:55:33.056664Z",
     "start_time": "2025-02-14T16:55:31.742154Z"
    }
   },
   "outputs": [],
   "source": [
    "import os\n",
    "import sys\n",
    "#sys.path.insert(0, os.path.dirname(os.getcwd()))\n",
    "import pickle\n",
    "\n",
    "import numpy as np\n",
    "import torch\n",
    "#import torch.cuda\n",
    "import timeit\n",
    "import pandas as pd\n",
    "#import argparse\n",
    "import itertools\n",
    "from load_data import load_data # segment_SHAP\n",
    "from evaluation.metrics.segmentstats import SegmentStats_metric\n",
    "from models.predictor_utils import load_predictor\n",
    "from pickle import dump\n",
    "\n"
   ]
  },
  {
   "cell_type": "code",
   "execution_count": null,
   "metadata": {
    "ExecuteTime": {
     "end_time": "2025-02-14T16:55:33.064947Z",
     "start_time": "2025-02-14T16:55:33.062727Z"
    }
   },
   "outputs": [],
   "source": []
  },
  {
   "cell_type": "code",
   "execution_count": 2,
   "metadata": {
    "ExecuteTime": {
     "end_time": "2025-02-14T16:55:33.118472Z",
     "start_time": "2025-02-14T16:55:33.115581Z"
    }
   },
   "outputs": [],
   "source": [
    "# PATHS\n",
    "datasets_folder_path = None\n",
    "attributions_folder_path = None\n",
    "trained_models_folder_path = None\n",
    "save_results_folder_path = None"
   ]
  },
  {
   "cell_type": "code",
   "execution_count": 3,
   "metadata": {
    "ExecuteTime": {
     "end_time": "2025-02-14T16:55:33.166525Z",
     "start_time": "2025-02-14T16:55:33.162975Z"
    }
   },
   "outputs": [],
   "source": [
    "demo_mode = False"
   ]
  },
  {
   "cell_type": "code",
   "execution_count": 4,
   "metadata": {
    "ExecuteTime": {
     "end_time": "2025-02-14T16:55:33.258854Z",
     "start_time": "2025-02-14T16:55:33.236855Z"
    }
   },
   "outputs": [],
   "source": [
    "# settings\n",
    "dataset_names = ['UWAVE', \"KeplerLightCurves\", \"MP8\", \"gunpoint\", \"EOG\"]    #[sys.argv[1]] # ['UWAVE', \"KeplerLightCurves\", \"MP8\", \"gunpoint\", \"EOG\"]\n",
    "segmentation_names = [\"clasp\",\"greedygaussian\", \"equal\", \"infogain\",\"nnsegment\"] # [\"clasp\",\"greedygaussian\", \"equal\", \"infogain\",\"nnsegment\"] \n",
    "\n",
    "\n",
    "metric_name = \"segmentstats\"\n",
    "results_prefix = \"segmentstats\" #\"evaluation\"\n",
    "\n",
    "\n",
    "demo_mode_samples = 25\n",
    "# demo\n",
    "if demo_mode:\n",
    "    dataset_names = ['UWAVE']\n",
    "    predictor_names = ['resNet'] #['randomForest', 'resNet', 'miniRocket']\n",
    "    segmentation_names = ['nnsegment']\n",
    "    background_names = [\"average\"]#, 'zero','sampling']\n",
    "    normalization_names = [\"default\", \"normalized\"]\n",
    "\n",
    "# optional\n",
    "# # get infos about which explanations are evaluated\n",
    "# datasets = list( explanations['attributions'].keys() )\n",
    "# segmentations = list( explanations['attributions'][datasets[0]].keys() )\n",
    "# predictors = list( explanations['attributions'][datasets[0]][segmentations[0]].keys() )\n",
    "# backgrounds = list( explanations['attributions'][datasets[0]][segmentations[0]][predictors[0]].keys() )\n",
    "# result_types = ['default','normalized']\n",
    "\n",
    "cwd = os.getcwd()\n",
    "if datasets_folder_path is None:\n",
    "    datasets_folder_path = \"datasets\" #os.path.join(cwd, \"datasets\")\n",
    "if attributions_folder_path is None:\n",
    "    attributions_folder_path = \"attributions\"\n",
    "if trained_models_folder_path is None:\n",
    "    trained_models_folder_path = \"trained_models\"\n",
    "if save_results_folder_path is None:\n",
    "    save_results_folder_path = os.path.join(\"evaluation\", \"results\", \"segmentstats_results\")\n",
    "\n",
    "\n",
    "default_results = (('entropy_mean', 0),\n",
    "                    ('entropy_std', 0),\n",
    "                    ('n_segments_mean', 0.0),\n",
    "                    ('n_segments_std', 0.0),)"
   ]
  },
  {
   "cell_type": "code",
   "execution_count": 5,
   "metadata": {
    "ExecuteTime": {
     "end_time": "2025-02-14T16:55:33.300260Z",
     "start_time": "2025-02-14T16:55:33.294179Z"
    }
   },
   "outputs": [],
   "source": [
    "# column_names = ['Dataset', 'Segmentation', 'ML model', 'Background', 'Normalization', 'Metric', 'Perturb', \"Result\"]\n",
    "# df = pd.DataFrame(data=data_list, columns = column_names)"
   ]
  },
  {
   "cell_type": "code",
   "execution_count": null,
   "metadata": {
    "ExecuteTime": {
     "end_time": "2025-02-14T16:55:33.625040Z",
     "start_time": "2025-02-14T16:55:33.623083Z"
    }
   },
   "outputs": [],
   "source": []
  },
  {
   "cell_type": "code",
   "execution_count": null,
   "metadata": {
    "ExecuteTime": {
     "end_time": "2025-02-14T16:55:34.240190Z",
     "start_time": "2025-02-14T16:55:34.235327Z"
    }
   },
   "outputs": [],
   "source": []
  },
  {
   "cell_type": "code",
   "execution_count": 6,
   "metadata": {
    "ExecuteTime": {
     "end_time": "2025-02-14T16:55:34.652089Z",
     "start_time": "2025-02-14T16:55:34.648330Z"
    }
   },
   "outputs": [],
   "source": [
    "# df"
   ]
  },
  {
   "cell_type": "code",
   "execution_count": 7,
   "metadata": {
    "ExecuteTime": {
     "end_time": "2025-02-14T16:57:46.599128Z",
     "start_time": "2025-02-14T16:57:25.392327Z"
    }
   },
   "outputs": [
    {
     "name": "stdout",
     "output_type": "stream",
     "text": [
      "Dataset:  UWAVE\n"
     ]
    },
    {
     "name": "stdout",
     "output_type": "stream",
     "text": [
      "\tassessing binSeg\n",
      "\tassessing bottomUp\n",
      "\tassessing kernelCPD\n",
      "\tassessing windowBased\n",
      "\tassessing clasp\n",
      "\tassessing equal\n",
      "\tassessing greedygaussian\n",
      "\tassessing infogain\n",
      "\tassessing nnsegment\n",
      "\tassessing bottomUp\n",
      "\tassessing binSeg\n",
      "\tassessing kernelCPD\n",
      "\tassessing windowBased\n",
      "\tassessing equal\n",
      "\tassessing clasp\n",
      "\tassessing greedygaussian\n",
      "\tassessing infogain\n",
      "\tassessing nnsegment\n",
      "\tassessing bottomUp\n",
      "\tassessing binSeg\n",
      "\tassessing kernelCPD\n",
      "\tassessing windowBased\n",
      "\tassessing equal\n",
      "\tassessing clasp\n",
      "\tassessing greedygaussian\n",
      "\tassessing infogain\n",
      "\tassessing nnsegment\n",
      "\tassessing binSeg\n",
      "\tassessing windowBased\n",
      "\tassessing bottomUp\n",
      "\tassessing kernelCPD\n",
      "\tassessing equal\n",
      "\tassessing clasp\n",
      "\tassessing greedygaussian\n",
      "\tassessing infogain\n",
      "\tassessing nnsegment\n",
      "Dataset:  KeplerLightCurves\n",
      "\tassessing bottomUp\n",
      "\tassessing binSeg\n",
      "\tassessing kernelCPD\n",
      "\tassessing windowBased\n",
      "\tassessing equal\n",
      "\tassessing clasp\n",
      "\tassessing greedygaussian\n",
      "\tassessing infogain\n",
      "\tassessing nnsegment\n",
      "\tassessing binSeg\n",
      "\tassessing kernelCPD\n",
      "\tassessing bottomUp\n",
      "\tassessing windowBased\n",
      "\tassessing equal\n",
      "\tassessing clasp\n",
      "\tassessing greedygaussian\n",
      "\tassessing infogain\n",
      "\tassessing nnsegment\n",
      "\tassessing bottomUp\n",
      "\tassessing kernelCPD\n",
      "\tassessing binSeg\n",
      "\tassessing windowBased\n",
      "\tassessing equal\n",
      "\tassessing clasp\n",
      "\tassessing greedygaussian\n",
      "\tassessing infogain\n",
      "\tassessing nnsegment\n",
      "\tassessing windowBased\n",
      "\tassessing bottomUp\n",
      "\tassessing binSeg\n",
      "\tassessing kernelCPD\n",
      "\tassessing equal\n",
      "\tassessing clasp\n",
      "\tassessing greedygaussian\n",
      "\tassessing infogain\n",
      "\tassessing nnsegment\n",
      "Dataset:  MP8\n",
      "\tassessing bottomUp\n",
      "\tassessing binSeg\n",
      "\tassessing kernelCPD\n",
      "\tassessing windowBased\n",
      "\tassessing equal\n",
      "\tassessing clasp\n",
      "\tassessing greedygaussian\n",
      "\tassessing infogain\n",
      "\tassessing nnsegment\n",
      "\tassessing binSeg\n",
      "\tassessing kernelCPD\n",
      "\tassessing bottomUp\n",
      "\tassessing windowBased\n",
      "\tassessing equal\n",
      "\tassessing clasp\n",
      "\tassessing greedygaussian\n",
      "\tassessing infogain\n",
      "\tassessing nnsegment\n",
      "\tassessing binSeg\n",
      "\tassessing bottomUp\n",
      "\tassessing windowBased\n",
      "\tassessing kernelCPD\n",
      "\tassessing equal\n",
      "\tassessing clasp\n",
      "\tassessing greedygaussian\n",
      "\tassessing infogain\n",
      "\tassessing nnsegment\n",
      "\tassessing bottomUp\n",
      "\tassessing windowBased\n",
      "\tassessing kernelCPD\n",
      "\tassessing binSeg\n",
      "\tassessing equal\n",
      "\tassessing clasp\n",
      "\tassessing greedygaussian\n",
      "\tassessing infogain\n",
      "\tassessing nnsegment\n",
      "Dataset:  gunpoint\n",
      "\tassessing bottomUp\n",
      "\tassessing binSeg\n",
      "\tassessing kernelCPD\n",
      "\tassessing windowBased\n",
      "\tassessing nnsegment\n",
      "\tassessing equal\n",
      "\tassessing clasp\n",
      "\tassessing greedygaussian\n",
      "\tassessing infogain\n",
      "\tassessing kernelCPD\n",
      "\tassessing binSeg\n",
      "\tassessing windowBased\n",
      "\tassessing bottomUp\n",
      "\tassessing equal\n",
      "\tassessing clasp\n",
      "\tassessing greedygaussian\n",
      "\tassessing infogain\n",
      "\tassessing nnsegment\n",
      "\tassessing windowBased\n",
      "\tassessing binSeg\n",
      "\tassessing bottomUp\n",
      "\tassessing kernelCPD\n",
      "\tassessing equal\n",
      "\tassessing clasp\n",
      "\tassessing greedygaussian\n",
      "\tassessing infogain\n",
      "\tassessing nnsegment\n",
      "\tassessing bottomUp\n",
      "\tassessing kernelCPD\n",
      "\tassessing binSeg\n",
      "\tassessing windowBased\n",
      "\tassessing equal\n",
      "\tassessing clasp\n",
      "\tassessing greedygaussian\n",
      "\tassessing infogain\n",
      "\tassessing nnsegment\n",
      "Dataset:  EOG\n",
      "\tassessing binSeg\n",
      "\tassessing bottomUp\n",
      "\tassessing kernelCPD\n",
      "\tassessing windowBased\n",
      "\tassessing equal\n",
      "\tassessing clasp\n",
      "\tassessing greedygaussian\n",
      "\tassessing infogain\n",
      "\tassessing nnsegment\n",
      "\tassessing kernelCPD\n",
      "\tassessing bottomUp\n",
      "\tassessing windowBased\n",
      "\tassessing binSeg\n",
      "\tassessing equal\n",
      "\tassessing clasp\n",
      "\tassessing greedygaussian\n",
      "\tassessing infogain\n",
      "\tassessing nnsegment\n",
      "\tassessing bottomUp\n",
      "\tassessing binSeg\n",
      "\tassessing windowBased\n",
      "\tassessing kernelCPD\n",
      "\tassessing equal\n",
      "\tassessing clasp\n",
      "\tassessing greedygaussian\n",
      "\tassessing infogain\n",
      "\tassessing nnsegment\n",
      "\tassessing binSeg\n",
      "\tassessing bottomUp\n",
      "\tassessing windowBased\n",
      "\tassessing kernelCPD\n",
      "\tassessing equal\n",
      "\tassessing clasp\n",
      "\tassessing greedygaussian\n",
      "\tassessing infogain\n",
      "\tassessing nnsegment\n"
     ]
    }
   ],
   "source": [
    "\n",
    "\n",
    "# device\n",
    "device = \"cuda\" if torch.cuda.is_available() else \"cpu\"\n",
    "\n",
    "#starttime = timeit.default_timer()\n",
    "\n",
    "eval_metric = SegmentStats_metric()\n",
    "\n",
    "for dataset_name in dataset_names:\n",
    "    print(\"Dataset: \", dataset_name)\n",
    "    # loading dataset\n",
    "    X_train, X_test, y_train, y_test, enc = load_data(subset='all', dataset_name=dataset_name, path=datasets_folder_path)\n",
    "    if demo_mode:\n",
    "        X_test, y_test = X_test[:demo_mode_samples], y_test[:demo_mode_samples]\n",
    "\n",
    "    eval_metric.fit_data(X_train, X_test, y_train, y_test)\n",
    "\n",
    "\n",
    "    filenames = np.array(os.listdir(attributions_folder_path))\n",
    "    filenames_relevant_to_dataset = filenames[np.array([dataset_name in filename for filename in filenames])]\n",
    "    # filenames_exp_format = filenames_relevant_to_dataset[np.array([\"all_results\" in filename for filename in filenames_relevant_to_dataset])]\n",
    "    # filenames_seg_format = filenames_relevant_to_dataset[np.array([\"segmentations\" in filename for filename in filenames_relevant_to_dataset])]\n",
    "\n",
    "    data_list = []\n",
    "\n",
    "    for attribution_filename in filenames_relevant_to_dataset:\n",
    "\n",
    "        explanations = np.load(os.path.join(attributions_folder_path, attribution_filename), allow_pickle=True).item() # FileNotFoundError\n",
    "        segmentation_names = np.array(list(explanations[\"segments\"][dataset_name].keys()))\n",
    "        # label_mapping = explanations['label_mapping'][dataset_name]\n",
    "\n",
    "        for segmentation_name in segmentation_names:\n",
    "\n",
    "            print(\"\\tassessing\", segmentation_name)\n",
    "\n",
    "            # load model and explanations to access\n",
    "            segments = explanations['segments'][dataset_name][segmentation_name]\n",
    "\n",
    "            try:\n",
    "\n",
    "                results = eval_metric.evaluate(segments)\n",
    "            \n",
    "            except Exception as e:\n",
    "                print(\"\\terror found, using default value\")\n",
    "                print(\"\\t\", e) \n",
    "                results = default_results\n",
    "\n",
    "            for result_tuple in results:\n",
    "                data_list.append((dataset_name, segmentation_name, metric_name) + result_tuple)\n",
    "\n",
    "            #print(\"elapsed time\", (timeit.default_timer() - starttime))\n",
    "\n",
    "\n",
    "        # save\n",
    "        column_names = ['Dataset', 'Segmentation', 'Metric', 'Perturb', \"Result\"]\n",
    "        df = pd.DataFrame(data=data_list, columns = column_names)\n",
    "        file_name = \"_\".join((results_prefix, dataset_name))\n",
    "        result_path = os.path.join(save_results_folder_path, file_name)\n",
    "        if not demo_mode:\n",
    "            df.to_csv(result_path)\n"
   ]
  },
  {
   "cell_type": "code",
   "execution_count": 8,
   "metadata": {
    "ExecuteTime": {
     "end_time": "2025-02-14T16:57:49.574948Z",
     "start_time": "2025-02-14T16:57:49.568083Z"
    }
   },
   "outputs": [
    {
     "data": {
      "text/html": [
       "<div>\n",
       "<style scoped>\n",
       "    .dataframe tbody tr th:only-of-type {\n",
       "        vertical-align: middle;\n",
       "    }\n",
       "\n",
       "    .dataframe tbody tr th {\n",
       "        vertical-align: top;\n",
       "    }\n",
       "\n",
       "    .dataframe thead th {\n",
       "        text-align: right;\n",
       "    }\n",
       "</style>\n",
       "<table border=\"1\" class=\"dataframe\">\n",
       "  <thead>\n",
       "    <tr style=\"text-align: right;\">\n",
       "      <th></th>\n",
       "      <th>Dataset</th>\n",
       "      <th>Segmentation</th>\n",
       "      <th>Metric</th>\n",
       "      <th>Perturb</th>\n",
       "      <th>Result</th>\n",
       "    </tr>\n",
       "  </thead>\n",
       "  <tbody>\n",
       "    <tr>\n",
       "      <th>0</th>\n",
       "      <td>EOG</td>\n",
       "      <td>binSeg</td>\n",
       "      <td>segmentstats</td>\n",
       "      <td>entropy_mean</td>\n",
       "      <td>0.797561</td>\n",
       "    </tr>\n",
       "    <tr>\n",
       "      <th>1</th>\n",
       "      <td>EOG</td>\n",
       "      <td>binSeg</td>\n",
       "      <td>segmentstats</td>\n",
       "      <td>entropy_std</td>\n",
       "      <td>0.115816</td>\n",
       "    </tr>\n",
       "    <tr>\n",
       "      <th>2</th>\n",
       "      <td>EOG</td>\n",
       "      <td>binSeg</td>\n",
       "      <td>segmentstats</td>\n",
       "      <td>n_segments_mean</td>\n",
       "      <td>5.000000</td>\n",
       "    </tr>\n",
       "    <tr>\n",
       "      <th>3</th>\n",
       "      <td>EOG</td>\n",
       "      <td>binSeg</td>\n",
       "      <td>segmentstats</td>\n",
       "      <td>n_segments_std</td>\n",
       "      <td>0.000000</td>\n",
       "    </tr>\n",
       "    <tr>\n",
       "      <th>4</th>\n",
       "      <td>EOG</td>\n",
       "      <td>bottomUp</td>\n",
       "      <td>segmentstats</td>\n",
       "      <td>entropy_mean</td>\n",
       "      <td>0.800438</td>\n",
       "    </tr>\n",
       "  </tbody>\n",
       "</table>\n",
       "</div>"
      ],
      "text/plain": [
       "  Dataset Segmentation        Metric          Perturb    Result\n",
       "0     EOG       binSeg  segmentstats     entropy_mean  0.797561\n",
       "1     EOG       binSeg  segmentstats      entropy_std  0.115816\n",
       "2     EOG       binSeg  segmentstats  n_segments_mean  5.000000\n",
       "3     EOG       binSeg  segmentstats   n_segments_std  0.000000\n",
       "4     EOG     bottomUp  segmentstats     entropy_mean  0.800438"
      ]
     },
     "execution_count": 8,
     "metadata": {},
     "output_type": "execute_result"
    }
   ],
   "source": [
    "df.head()"
   ]
  },
  {
   "cell_type": "code",
   "execution_count": 9,
   "metadata": {
    "ExecuteTime": {
     "end_time": "2025-02-14T16:57:51.074490Z",
     "start_time": "2025-02-14T16:57:51.071813Z"
    }
   },
   "outputs": [],
   "source": [
    "# 0/0"
   ]
  },
  {
   "cell_type": "code",
   "execution_count": 10,
   "metadata": {
    "ExecuteTime": {
     "end_time": "2025-02-14T16:57:51.928742Z",
     "start_time": "2025-02-14T16:57:51.925650Z"
    }
   },
   "outputs": [
    {
     "data": {
      "text/plain": [
       "'evaluation\\\\results\\\\segmentstats_results'"
      ]
     },
     "execution_count": 10,
     "metadata": {},
     "output_type": "execute_result"
    }
   ],
   "source": [
    "save_results_folder_path"
   ]
  },
  {
   "cell_type": "code",
   "execution_count": 11,
   "metadata": {
    "ExecuteTime": {
     "end_time": "2025-02-14T16:57:53.117653Z",
     "start_time": "2025-02-14T16:57:53.106411Z"
    }
   },
   "outputs": [
    {
     "data": {
      "text/html": [
       "<div>\n",
       "<style scoped>\n",
       "    .dataframe tbody tr th:only-of-type {\n",
       "        vertical-align: middle;\n",
       "    }\n",
       "\n",
       "    .dataframe tbody tr th {\n",
       "        vertical-align: top;\n",
       "    }\n",
       "\n",
       "    .dataframe thead th {\n",
       "        text-align: right;\n",
       "    }\n",
       "</style>\n",
       "<table border=\"1\" class=\"dataframe\">\n",
       "  <thead>\n",
       "    <tr style=\"text-align: right;\">\n",
       "      <th></th>\n",
       "      <th>Dataset</th>\n",
       "      <th>Segmentation</th>\n",
       "      <th>Metric</th>\n",
       "      <th>Perturb</th>\n",
       "      <th>Result</th>\n",
       "    </tr>\n",
       "  </thead>\n",
       "  <tbody>\n",
       "    <tr>\n",
       "      <th>0</th>\n",
       "      <td>EOG</td>\n",
       "      <td>binSeg</td>\n",
       "      <td>segmentstats</td>\n",
       "      <td>entropy_mean</td>\n",
       "      <td>0.797561</td>\n",
       "    </tr>\n",
       "    <tr>\n",
       "      <th>1</th>\n",
       "      <td>EOG</td>\n",
       "      <td>binSeg</td>\n",
       "      <td>segmentstats</td>\n",
       "      <td>entropy_std</td>\n",
       "      <td>0.115816</td>\n",
       "    </tr>\n",
       "    <tr>\n",
       "      <th>2</th>\n",
       "      <td>EOG</td>\n",
       "      <td>binSeg</td>\n",
       "      <td>segmentstats</td>\n",
       "      <td>n_segments_mean</td>\n",
       "      <td>5.000000</td>\n",
       "    </tr>\n",
       "    <tr>\n",
       "      <th>3</th>\n",
       "      <td>EOG</td>\n",
       "      <td>binSeg</td>\n",
       "      <td>segmentstats</td>\n",
       "      <td>n_segments_std</td>\n",
       "      <td>0.000000</td>\n",
       "    </tr>\n",
       "    <tr>\n",
       "      <th>4</th>\n",
       "      <td>EOG</td>\n",
       "      <td>bottomUp</td>\n",
       "      <td>segmentstats</td>\n",
       "      <td>entropy_mean</td>\n",
       "      <td>0.800438</td>\n",
       "    </tr>\n",
       "    <tr>\n",
       "      <th>...</th>\n",
       "      <td>...</td>\n",
       "      <td>...</td>\n",
       "      <td>...</td>\n",
       "      <td>...</td>\n",
       "      <td>...</td>\n",
       "    </tr>\n",
       "    <tr>\n",
       "      <th>139</th>\n",
       "      <td>UWAVE</td>\n",
       "      <td>infogain</td>\n",
       "      <td>segmentstats</td>\n",
       "      <td>n_segments_std</td>\n",
       "      <td>0.000000</td>\n",
       "    </tr>\n",
       "    <tr>\n",
       "      <th>140</th>\n",
       "      <td>UWAVE</td>\n",
       "      <td>nnsegment</td>\n",
       "      <td>segmentstats</td>\n",
       "      <td>entropy_mean</td>\n",
       "      <td>0.973800</td>\n",
       "    </tr>\n",
       "    <tr>\n",
       "      <th>141</th>\n",
       "      <td>UWAVE</td>\n",
       "      <td>nnsegment</td>\n",
       "      <td>segmentstats</td>\n",
       "      <td>entropy_std</td>\n",
       "      <td>0.011122</td>\n",
       "    </tr>\n",
       "    <tr>\n",
       "      <th>142</th>\n",
       "      <td>UWAVE</td>\n",
       "      <td>nnsegment</td>\n",
       "      <td>segmentstats</td>\n",
       "      <td>n_segments_mean</td>\n",
       "      <td>6.443925</td>\n",
       "    </tr>\n",
       "    <tr>\n",
       "      <th>143</th>\n",
       "      <td>UWAVE</td>\n",
       "      <td>nnsegment</td>\n",
       "      <td>segmentstats</td>\n",
       "      <td>n_segments_std</td>\n",
       "      <td>0.606919</td>\n",
       "    </tr>\n",
       "  </tbody>\n",
       "</table>\n",
       "<p>720 rows × 5 columns</p>\n",
       "</div>"
      ],
      "text/plain": [
       "    Dataset Segmentation        Metric          Perturb    Result\n",
       "0       EOG       binSeg  segmentstats     entropy_mean  0.797561\n",
       "1       EOG       binSeg  segmentstats      entropy_std  0.115816\n",
       "2       EOG       binSeg  segmentstats  n_segments_mean  5.000000\n",
       "3       EOG       binSeg  segmentstats   n_segments_std  0.000000\n",
       "4       EOG     bottomUp  segmentstats     entropy_mean  0.800438\n",
       "..      ...          ...           ...              ...       ...\n",
       "139   UWAVE     infogain  segmentstats   n_segments_std  0.000000\n",
       "140   UWAVE    nnsegment  segmentstats     entropy_mean  0.973800\n",
       "141   UWAVE    nnsegment  segmentstats      entropy_std  0.011122\n",
       "142   UWAVE    nnsegment  segmentstats  n_segments_mean  6.443925\n",
       "143   UWAVE    nnsegment  segmentstats   n_segments_std  0.606919\n",
       "\n",
       "[720 rows x 5 columns]"
      ]
     },
     "execution_count": 11,
     "metadata": {},
     "output_type": "execute_result"
    }
   ],
   "source": [
    "path = os.path.join(save_results_folder_path)\n",
    "filenames = os.listdir(path) # [filename for filename in os.listdir(mypath) if os.path.isfile(os.path.join(mypath, filename))] # excludes floders\n",
    "df_list = []\n",
    "for filename in filenames:\n",
    "    filepath = os.path.join(path, filename)\n",
    "    df_0 = pd.read_csv(filepath, index_col=0)\n",
    "    df_list.append(df_0)\n",
    "merged_df = pd.concat(df_list)\n",
    "df = merged_df\n",
    "df"
   ]
  },
  {
   "cell_type": "code",
   "execution_count": 12,
   "metadata": {
    "ExecuteTime": {
     "end_time": "2025-02-14T16:57:56.213244Z",
     "start_time": "2025-02-14T16:57:56.211325Z"
    }
   },
   "outputs": [],
   "source": [
    "import matplotlib.pyplot as plt"
   ]
  },
  {
   "cell_type": "markdown",
   "metadata": {},
   "source": [
    "Entropy"
   ]
  },
  {
   "cell_type": "code",
   "execution_count": 13,
   "metadata": {
    "ExecuteTime": {
     "end_time": "2025-02-14T17:00:33.190512Z",
     "start_time": "2025-02-14T17:00:33.086669Z"
    }
   },
   "outputs": [
    {
     "data": {
      "image/png": "[encoded data removed]",
      "text/plain": [
       "<Figure size 1900x400 with 5 Axes>"
      ]
     },
     "metadata": {},
     "output_type": "display_data"
    }
   ],
   "source": [
    "dataset_names = df[\"Dataset\"].unique()\n",
    "segmentation_names = df['Segmentation'].unique()\n",
    "\n",
    "mask = (df[\"Metric\"]==\"segmentstats\")\n",
    "df2 = df.loc[mask, [\"Dataset\", \"Segmentation\", \"Perturb\", \"Result\"]]\n",
    "\n",
    "fig, ax = plt.subplots(1, len(dataset_names), figsize = (19,4), sharex=False, sharey=True)\n",
    "\n",
    "for i, dataset_name in enumerate(dataset_names):\n",
    "\n",
    "    mask = (df2[\"Dataset\"]==dataset_name)\n",
    "    df3 = df2.loc[mask, [\"Segmentation\", \"Perturb\", \"Result\"]]\n",
    "    ax[i].set_title(dataset_name)\n",
    "\n",
    "    mask = (df3[\"Perturb\"]==\"entropy_mean\")\n",
    "    df4 = df3.loc[mask, [\"Segmentation\", \"Result\"]]\n",
    "\n",
    "    x = df4[\"Segmentation\"].values\n",
    "    y = df4[\"Result\"].values\n",
    "\n",
    "    mask = (df3[\"Perturb\"]==\"entropy_std\")\n",
    "    df5 = df3.loc[mask, [\"Segmentation\", \"Result\"]]\n",
    "    e = df5[\"Result\"].values\n",
    "\n",
    "    ax[i].errorbar(x, y, e, linestyle='None', marker='o', capsize=3)\n",
    "    ax[i].grid()\n",
    "    ax[i].tick_params(\"x\", rotation=85)\n",
    "\n",
    "fig.suptitle(\"Normalized Entropy of Segmentations for each Dataset\")\n",
    "fig.tight_layout()"
   ]
  },
  {
   "cell_type": "code",
   "execution_count": 14,
   "metadata": {
    "ExecuteTime": {
     "end_time": "2025-02-14T16:57:59.212938Z",
     "start_time": "2025-02-14T16:57:59.092330Z"
    }
   },
   "outputs": [
    {
     "data": {
      "image/png": "[encoded data removed]",
      "text/plain": [
       "<Figure size 1900x400 with 5 Axes>"
      ]
     },
     "metadata": {},
     "output_type": "display_data"
    }
   ],
   "source": [
    "dataset_names = df[\"Dataset\"].unique()\n",
    "segmentation_names = df['Segmentation'].unique()\n",
    "\n",
    "mask = (df[\"Metric\"]==\"segmentstats\")\n",
    "df2 = df.loc[mask, [\"Dataset\", \"Segmentation\", \"Perturb\", \"Result\"]]\n",
    "\n",
    "fig, ax = plt.subplots(1, len(dataset_names), figsize = (19,4), sharex=False, sharey=True)\n",
    "\n",
    "for i, dataset_name in enumerate(dataset_names):\n",
    "\n",
    "    mask = (df2[\"Dataset\"]==dataset_name)\n",
    "    df3 = df2.loc[mask, [\"Segmentation\", \"Perturb\", \"Result\"]]\n",
    "    ax[i].set_title(dataset_name)\n",
    "\n",
    "    mask = (df3[\"Perturb\"]==\"n_segments_mean\")\n",
    "    df4 = df3.loc[mask, [\"Segmentation\", \"Result\"]]\n",
    "\n",
    "    x = df4[\"Segmentation\"].values\n",
    "    y = df4[\"Result\"].values\n",
    "\n",
    "    mask = (df3[\"Perturb\"]==\"n_segments_std\")\n",
    "    df5 = df3.loc[mask, [\"Segmentation\", \"Result\"]]\n",
    "    e = df5[\"Result\"].values\n",
    "\n",
    "    ax[i].errorbar(x, y, e, linestyle='None', marker='o', capsize=3)\n",
    "    ax[i].grid()\n",
    "    ax[i].tick_params(\"x\", rotation=85)\n",
    "\n",
    "fig.suptitle(\"Expected number of Segments for each Channel\")\n",
    "fig.tight_layout()"
   ]
  },
  {
   "cell_type": "code",
   "execution_count": null,
   "metadata": {},
   "outputs": [],
   "source": []
  }
 ],
 "metadata": {
  "kernelspec": {
   "display_name": "segment_shap",
   "language": "python",
   "name": "python3"
  },
  "language_info": {
   "codemirror_mode": {
    "name": "ipython",
    "version": 3
   },
   "file_extension": ".py",
   "mimetype": "text/x-python",
   "name": "python",
   "nbconvert_exporter": "python",
   "pygments_lexer": "ipython3",
   "version": "3.11.9"
  }
 },
 "nbformat": 4,
 "nbformat_minor": 2
}
