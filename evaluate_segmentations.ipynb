{
 "cells": [
  {
   "cell_type": "code",
   "metadata": {
    "ExecuteTime": {
     "end_time": "2025-02-14T16:55:33.056664Z",
     "start_time": "2025-02-14T16:55:31.742154Z"
    }
   },
   "source": [
    "import os\n",
    "import sys\n",
    "#sys.path.insert(0, os.path.dirname(os.getcwd()))\n",
    "import pickle\n",
    "\n",
    "import numpy as np\n",
    "import torch\n",
    "#import torch.cuda\n",
    "import timeit\n",
    "import pandas as pd\n",
    "#import argparse\n",
    "import itertools\n",
    "from load_data import load_data # segment_SHAP\n",
    "from evaluation.metrics.segmentstats import SegmentStats_metric\n",
    "from models.predictor_utils import load_predictor\n",
    "from pickle import dump\n",
    "\n"
   ],
   "outputs": [],
   "execution_count": 1
  },
  {
   "cell_type": "code",
   "metadata": {
    "ExecuteTime": {
     "end_time": "2025-02-14T16:55:33.064947Z",
     "start_time": "2025-02-14T16:55:33.062727Z"
    }
   },
   "source": [],
   "outputs": [],
   "execution_count": null
  },
  {
   "cell_type": "code",
   "metadata": {
    "ExecuteTime": {
     "end_time": "2025-02-14T16:55:33.118472Z",
     "start_time": "2025-02-14T16:55:33.115581Z"
    }
   },
   "source": [
    "# PATHS\n",
    "datasets_folder_path = None\n",
    "attributions_folder_path = None\n",
    "trained_models_folder_path = None\n",
    "save_results_folder_path = None"
   ],
   "outputs": [],
   "execution_count": 2
  },
  {
   "cell_type": "code",
   "metadata": {
    "ExecuteTime": {
     "end_time": "2025-02-14T16:55:33.166525Z",
     "start_time": "2025-02-14T16:55:33.162975Z"
    }
   },
   "source": [
    "demo_mode = False"
   ],
   "outputs": [],
   "execution_count": 3
  },
  {
   "cell_type": "code",
   "metadata": {
    "ExecuteTime": {
     "end_time": "2025-02-14T16:55:33.258854Z",
     "start_time": "2025-02-14T16:55:33.236855Z"
    }
   },
   "source": [
    "# settings\n",
    "dataset_names =[\"MP8\"] #['UWAVE', \"KeplerLightCurves\", \"MP8\", \"gunpoint\", \"EOG\"]    #[sys.argv[1]] # ['UWAVE', \"KeplerLightCurves\", \"MP8\", \"gunpoint\", \"EOG\"]\n",
    "segmentation_names = [\"clasp\",\"greedygaussian\", \"equal\", \"infogain\",\"nnsegment\"] # [\"clasp\",\"greedygaussian\", \"equal\", \"infogain\",\"nnsegment\"] \n",
    "\n",
    "\n",
    "metric_name = \"segmentstats\"\n",
    "results_prefix = \"segmentstats\" #\"evaluation\"\n",
    "\n",
    "\n",
    "demo_mode_samples = 25\n",
    "# demo\n",
    "if demo_mode:\n",
    "    dataset_names = ['UWAVE']\n",
    "    predictor_names = ['resNet'] #['randomForest', 'resNet', 'miniRocket']\n",
    "    segmentation_names = ['nnsegment']\n",
    "    background_names = [\"average\"]#, 'zero','sampling']\n",
    "    normalization_names = [\"default\", \"normalized\"]\n",
    "\n",
    "# optional\n",
    "# # get infos about which explanations are evaluated\n",
    "# datasets = list( explanations['attributions'].keys() )\n",
    "# segmentations = list( explanations['attributions'][datasets[0]].keys() )\n",
    "# predictors = list( explanations['attributions'][datasets[0]][segmentations[0]].keys() )\n",
    "# backgrounds = list( explanations['attributions'][datasets[0]][segmentations[0]][predictors[0]].keys() )\n",
    "# result_types = ['default','normalized']\n",
    "\n",
    "cwd = os.getcwd()\n",
    "if datasets_folder_path is None:\n",
    "    datasets_folder_path = \"datasets\" #os.path.join(cwd, \"datasets\")\n",
    "if attributions_folder_path is None:\n",
    "    attributions_folder_path = \"attributions\"\n",
    "if trained_models_folder_path is None:\n",
    "    trained_models_folder_path = \"trained_models\"\n",
    "if save_results_folder_path is None:\n",
    "    save_results_folder_path = os.path.join(\"evaluation\", \"results\", \"segmentstats_results\")\n",
    "\n",
    "\n",
    "default_results = (('entropy_mean', 0),\n",
    "                    ('entropy_std', 0),\n",
    "                    ('n_segments_mean', 0.0),\n",
    "                    ('n_segments_std', 0.0),)"
   ],
   "outputs": [],
   "execution_count": 4
  },
  {
   "cell_type": "code",
   "metadata": {
    "ExecuteTime": {
     "end_time": "2025-02-14T16:55:33.300260Z",
     "start_time": "2025-02-14T16:55:33.294179Z"
    }
   },
   "source": [
    "# column_names = ['Dataset', 'Segmentation', 'ML model', 'Background', 'Normalization', 'Metric', 'Perturb', \"Result\"]\n",
    "# df = pd.DataFrame(data=data_list, columns = column_names)"
   ],
   "outputs": [],
   "execution_count": 5
  },
  {
   "cell_type": "code",
   "metadata": {
    "ExecuteTime": {
     "end_time": "2025-02-14T16:55:33.625040Z",
     "start_time": "2025-02-14T16:55:33.623083Z"
    }
   },
   "source": [],
   "outputs": [],
   "execution_count": null
  },
  {
   "cell_type": "code",
   "metadata": {
    "ExecuteTime": {
     "end_time": "2025-02-14T16:55:34.240190Z",
     "start_time": "2025-02-14T16:55:34.235327Z"
    }
   },
   "source": [],
   "outputs": [],
   "execution_count": null
  },
  {
   "cell_type": "code",
   "metadata": {
    "ExecuteTime": {
     "end_time": "2025-02-14T16:55:34.652089Z",
     "start_time": "2025-02-14T16:55:34.648330Z"
    }
   },
   "source": [
    "# df"
   ],
   "outputs": [],
   "execution_count": 6
  },
  {
   "cell_type": "code",
   "metadata": {
    "ExecuteTime": {
     "end_time": "2025-02-14T16:57:46.599128Z",
     "start_time": "2025-02-14T16:57:25.392327Z"
    }
   },
   "source": [
    "\n",
    "\n",
    "# device\n",
    "device = \"cuda\" if torch.cuda.is_available() else \"cpu\"\n",
    "\n",
    "#starttime = timeit.default_timer()\n",
    "\n",
    "eval_metric = SegmentStats_metric()\n",
    "\n",
    "for dataset_name in dataset_names:\n",
    "    print(\"Dataset: \", dataset_name)\n",
    "    # loading dataset\n",
    "    X_train, X_test, y_train, y_test, enc = load_data(subset='all', dataset_name=dataset_name, path=datasets_folder_path)\n",
    "    if demo_mode:\n",
    "        X_test, y_test = X_test[:demo_mode_samples], y_test[:demo_mode_samples]\n",
    "\n",
    "    eval_metric.fit_data(X_train, X_test, y_train, y_test)\n",
    "\n",
    "\n",
    "    filenames = np.array(os.listdir(attributions_folder_path))\n",
    "    filenames_relevant_to_dataset = filenames[np.array([dataset_name in filename for filename in filenames])]\n",
    "    filenames_exp_format = filenames_relevant_to_dataset[np.array([\"all_results\" in filename for filename in filenames_relevant_to_dataset])]\n",
    "    filenames_seg_format = filenames_relevant_to_dataset[np.array([\"segmentations\" in filename for filename in filenames_relevant_to_dataset])]\n",
    "\n",
    "    data_list = []\n",
    "\n",
    "    for attribution_filename in filenames_relevant_to_dataset:\n",
    "\n",
    "        explanations = np.load(os.path.join(attributions_folder_path, attribution_filename), allow_pickle=True).item() # FileNotFoundError\n",
    "        segmentation_names = np.array(list(explanations[\"segments\"][dataset_name].keys()))\n",
    "        # label_mapping = explanations['label_mapping'][dataset_name]\n",
    "\n",
    "        for segmentation_name in segmentation_names:\n",
    "\n",
    "            print(\"assessing\", segmentation_name)\n",
    "\n",
    "            # load model and explanations to access\n",
    "            segments = explanations['segments'][dataset_name][segmentation_name]\n",
    "\n",
    "            #try:\n",
    "\n",
    "            results = eval_metric.evaluate(segments)\n",
    "            \n",
    "            # except Exception as e:\n",
    "            #     print(\"error found, using default value\")\n",
    "            #     print(e) \n",
    "            #     results = default_results\n",
    "\n",
    "            for result_tuple in results:\n",
    "                data_list.append((dataset_name, segmentation_name, metric_name) + result_tuple)\n",
    "\n",
    "            #print(\"elapsed time\", (timeit.default_timer() - starttime))\n",
    "\n",
    "\n",
    "        # save\n",
    "        column_names = ['Dataset', 'Segmentation', 'Metric', 'Perturb', \"Result\"]\n",
    "        df = pd.DataFrame(data=data_list, columns = column_names)\n",
    "        file_name = \"_\".join((results_prefix, dataset_name))\n",
    "        result_path = os.path.join(save_results_folder_path, file_name)\n",
    "        if not demo_mode:\n",
    "            df.to_csv(result_path)\n",
    "            #with open( \"_\".join( (dataset_name,classifier_name)) ,\"wb\") as f:\n",
    "            #    pickle.dump(results_dict, f)"
   ],
   "outputs": [
    {
     "name": "stdout",
     "output_type": "stream",
     "text": [
      "Dataset:  MP8\n",
      "assessing equal\n",
      "assessing clasp\n",
      "assessing greedygaussian\n",
      "assessing infogain\n",
      "assessing nnsegment\n",
      "assessing equal\n",
      "assessing clasp\n",
      "assessing greedygaussian\n",
      "assessing infogain\n",
      "assessing nnsegment\n",
      "assessing equal\n",
      "assessing clasp\n",
      "assessing greedygaussian\n",
      "assessing infogain\n",
      "assessing nnsegment\n",
      "assessing equal\n",
      "assessing clasp\n",
      "assessing greedygaussian\n",
      "assessing infogain\n",
      "assessing nnsegment\n",
      "assessing equal\n",
      "assessing clasp\n",
      "assessing greedygaussian\n",
      "assessing infogain\n",
      "assessing nnsegment\n",
      "assessing equal\n",
      "assessing clasp\n",
      "assessing greedygaussian\n",
      "assessing infogain\n",
      "assessing nnsegment\n"
     ]
    }
   ],
   "execution_count": 8
  },
  {
   "cell_type": "code",
   "metadata": {
    "ExecuteTime": {
     "end_time": "2025-02-14T16:57:49.574948Z",
     "start_time": "2025-02-14T16:57:49.568083Z"
    }
   },
   "source": [
    "df.head()"
   ],
   "outputs": [
    {
     "data": {
      "text/plain": [
       "  Dataset Segmentation        Metric          Perturb        Result\n",
       "0     MP8        equal  segmentstats     entropy_mean  9.999359e-01\n",
       "1     MP8        equal  segmentstats      entropy_std  3.330669e-16\n",
       "2     MP8        equal  segmentstats  n_segments_mean  8.000000e+00\n",
       "3     MP8        equal  segmentstats   n_segments_std  0.000000e+00\n",
       "4     MP8        clasp  segmentstats     entropy_mean  9.014987e-01"
      ],
      "text/html": [
       "<div>\n",
       "<style scoped>\n",
       "    .dataframe tbody tr th:only-of-type {\n",
       "        vertical-align: middle;\n",
       "    }\n",
       "\n",
       "    .dataframe tbody tr th {\n",
       "        vertical-align: top;\n",
       "    }\n",
       "\n",
       "    .dataframe thead th {\n",
       "        text-align: right;\n",
       "    }\n",
       "</style>\n",
       "<table border=\"1\" class=\"dataframe\">\n",
       "  <thead>\n",
       "    <tr style=\"text-align: right;\">\n",
       "      <th></th>\n",
       "      <th>Dataset</th>\n",
       "      <th>Segmentation</th>\n",
       "      <th>Metric</th>\n",
       "      <th>Perturb</th>\n",
       "      <th>Result</th>\n",
       "    </tr>\n",
       "  </thead>\n",
       "  <tbody>\n",
       "    <tr>\n",
       "      <th>0</th>\n",
       "      <td>MP8</td>\n",
       "      <td>equal</td>\n",
       "      <td>segmentstats</td>\n",
       "      <td>entropy_mean</td>\n",
       "      <td>9.999359e-01</td>\n",
       "    </tr>\n",
       "    <tr>\n",
       "      <th>1</th>\n",
       "      <td>MP8</td>\n",
       "      <td>equal</td>\n",
       "      <td>segmentstats</td>\n",
       "      <td>entropy_std</td>\n",
       "      <td>3.330669e-16</td>\n",
       "    </tr>\n",
       "    <tr>\n",
       "      <th>2</th>\n",
       "      <td>MP8</td>\n",
       "      <td>equal</td>\n",
       "      <td>segmentstats</td>\n",
       "      <td>n_segments_mean</td>\n",
       "      <td>8.000000e+00</td>\n",
       "    </tr>\n",
       "    <tr>\n",
       "      <th>3</th>\n",
       "      <td>MP8</td>\n",
       "      <td>equal</td>\n",
       "      <td>segmentstats</td>\n",
       "      <td>n_segments_std</td>\n",
       "      <td>0.000000e+00</td>\n",
       "    </tr>\n",
       "    <tr>\n",
       "      <th>4</th>\n",
       "      <td>MP8</td>\n",
       "      <td>clasp</td>\n",
       "      <td>segmentstats</td>\n",
       "      <td>entropy_mean</td>\n",
       "      <td>9.014987e-01</td>\n",
       "    </tr>\n",
       "  </tbody>\n",
       "</table>\n",
       "</div>"
      ]
     },
     "execution_count": 9,
     "metadata": {},
     "output_type": "execute_result"
    }
   ],
   "execution_count": 9
  },
  {
   "cell_type": "code",
   "metadata": {
    "ExecuteTime": {
     "end_time": "2025-02-14T16:57:51.074490Z",
     "start_time": "2025-02-14T16:57:51.071813Z"
    }
   },
   "source": [
    "# 0/0"
   ],
   "outputs": [],
   "execution_count": 10
  },
  {
   "cell_type": "code",
   "metadata": {
    "ExecuteTime": {
     "end_time": "2025-02-14T16:57:51.928742Z",
     "start_time": "2025-02-14T16:57:51.925650Z"
    }
   },
   "source": [
    "save_results_folder_path"
   ],
   "outputs": [
    {
     "data": {
      "text/plain": [
       "'evaluation/results/segmentstats_results'"
      ]
     },
     "execution_count": 11,
     "metadata": {},
     "output_type": "execute_result"
    }
   ],
   "execution_count": 11
  },
  {
   "cell_type": "code",
   "metadata": {
    "ExecuteTime": {
     "end_time": "2025-02-14T16:57:53.117653Z",
     "start_time": "2025-02-14T16:57:53.106411Z"
    }
   },
   "source": [
    "path = os.path.join(save_results_folder_path)\n",
    "filenames = os.listdir(path) # [filename for filename in os.listdir(mypath) if os.path.isfile(os.path.join(mypath, filename))] # excludes floders\n",
    "df_list = []\n",
    "for filename in filenames:\n",
    "    filepath = os.path.join(path, filename)\n",
    "    df_0 = pd.read_csv(filepath, index_col=0)\n",
    "    df_list.append(df_0)\n",
    "merged_df = pd.concat(df_list)\n",
    "df = merged_df\n",
    "df"
   ],
   "outputs": [
    {
     "data": {
      "text/plain": [
       "    Dataset Segmentation        Metric          Perturb        Result\n",
       "0       MP8        equal  segmentstats     entropy_mean  9.999359e-01\n",
       "1       MP8        equal  segmentstats      entropy_std  3.330669e-16\n",
       "2       MP8        equal  segmentstats  n_segments_mean  8.000000e+00\n",
       "3       MP8        equal  segmentstats   n_segments_std  0.000000e+00\n",
       "4       MP8        clasp  segmentstats     entropy_mean  9.014987e-01\n",
       "..      ...          ...           ...              ...           ...\n",
       "115     MP8     infogain  segmentstats   n_segments_std  0.000000e+00\n",
       "116     MP8    nnsegment  segmentstats     entropy_mean  9.722527e-01\n",
       "117     MP8    nnsegment  segmentstats      entropy_std  1.354545e-02\n",
       "118     MP8    nnsegment  segmentstats  n_segments_mean  6.172269e+00\n",
       "119     MP8    nnsegment  segmentstats   n_segments_std  7.160729e-01\n",
       "\n",
       "[120 rows x 5 columns]"
      ],
      "text/html": [
       "<div>\n",
       "<style scoped>\n",
       "    .dataframe tbody tr th:only-of-type {\n",
       "        vertical-align: middle;\n",
       "    }\n",
       "\n",
       "    .dataframe tbody tr th {\n",
       "        vertical-align: top;\n",
       "    }\n",
       "\n",
       "    .dataframe thead th {\n",
       "        text-align: right;\n",
       "    }\n",
       "</style>\n",
       "<table border=\"1\" class=\"dataframe\">\n",
       "  <thead>\n",
       "    <tr style=\"text-align: right;\">\n",
       "      <th></th>\n",
       "      <th>Dataset</th>\n",
       "      <th>Segmentation</th>\n",
       "      <th>Metric</th>\n",
       "      <th>Perturb</th>\n",
       "      <th>Result</th>\n",
       "    </tr>\n",
       "  </thead>\n",
       "  <tbody>\n",
       "    <tr>\n",
       "      <th>0</th>\n",
       "      <td>MP8</td>\n",
       "      <td>equal</td>\n",
       "      <td>segmentstats</td>\n",
       "      <td>entropy_mean</td>\n",
       "      <td>9.999359e-01</td>\n",
       "    </tr>\n",
       "    <tr>\n",
       "      <th>1</th>\n",
       "      <td>MP8</td>\n",
       "      <td>equal</td>\n",
       "      <td>segmentstats</td>\n",
       "      <td>entropy_std</td>\n",
       "      <td>3.330669e-16</td>\n",
       "    </tr>\n",
       "    <tr>\n",
       "      <th>2</th>\n",
       "      <td>MP8</td>\n",
       "      <td>equal</td>\n",
       "      <td>segmentstats</td>\n",
       "      <td>n_segments_mean</td>\n",
       "      <td>8.000000e+00</td>\n",
       "    </tr>\n",
       "    <tr>\n",
       "      <th>3</th>\n",
       "      <td>MP8</td>\n",
       "      <td>equal</td>\n",
       "      <td>segmentstats</td>\n",
       "      <td>n_segments_std</td>\n",
       "      <td>0.000000e+00</td>\n",
       "    </tr>\n",
       "    <tr>\n",
       "      <th>4</th>\n",
       "      <td>MP8</td>\n",
       "      <td>clasp</td>\n",
       "      <td>segmentstats</td>\n",
       "      <td>entropy_mean</td>\n",
       "      <td>9.014987e-01</td>\n",
       "    </tr>\n",
       "    <tr>\n",
       "      <th>...</th>\n",
       "      <td>...</td>\n",
       "      <td>...</td>\n",
       "      <td>...</td>\n",
       "      <td>...</td>\n",
       "      <td>...</td>\n",
       "    </tr>\n",
       "    <tr>\n",
       "      <th>115</th>\n",
       "      <td>MP8</td>\n",
       "      <td>infogain</td>\n",
       "      <td>segmentstats</td>\n",
       "      <td>n_segments_std</td>\n",
       "      <td>0.000000e+00</td>\n",
       "    </tr>\n",
       "    <tr>\n",
       "      <th>116</th>\n",
       "      <td>MP8</td>\n",
       "      <td>nnsegment</td>\n",
       "      <td>segmentstats</td>\n",
       "      <td>entropy_mean</td>\n",
       "      <td>9.722527e-01</td>\n",
       "    </tr>\n",
       "    <tr>\n",
       "      <th>117</th>\n",
       "      <td>MP8</td>\n",
       "      <td>nnsegment</td>\n",
       "      <td>segmentstats</td>\n",
       "      <td>entropy_std</td>\n",
       "      <td>1.354545e-02</td>\n",
       "    </tr>\n",
       "    <tr>\n",
       "      <th>118</th>\n",
       "      <td>MP8</td>\n",
       "      <td>nnsegment</td>\n",
       "      <td>segmentstats</td>\n",
       "      <td>n_segments_mean</td>\n",
       "      <td>6.172269e+00</td>\n",
       "    </tr>\n",
       "    <tr>\n",
       "      <th>119</th>\n",
       "      <td>MP8</td>\n",
       "      <td>nnsegment</td>\n",
       "      <td>segmentstats</td>\n",
       "      <td>n_segments_std</td>\n",
       "      <td>7.160729e-01</td>\n",
       "    </tr>\n",
       "  </tbody>\n",
       "</table>\n",
       "<p>120 rows × 5 columns</p>\n",
       "</div>"
      ]
     },
     "execution_count": 12,
     "metadata": {},
     "output_type": "execute_result"
    }
   ],
   "execution_count": 12
  },
  {
   "cell_type": "code",
   "metadata": {
    "ExecuteTime": {
     "end_time": "2025-02-14T16:57:54.973462Z",
     "start_time": "2025-02-14T16:57:54.969174Z"
    }
   },
   "source": [
    "df.iloc[220: 250]"
   ],
   "outputs": [
    {
     "data": {
      "text/plain": [
       "Empty DataFrame\n",
       "Columns: [Dataset, Segmentation, Metric, Perturb, Result]\n",
       "Index: []"
      ],
      "text/html": [
       "<div>\n",
       "<style scoped>\n",
       "    .dataframe tbody tr th:only-of-type {\n",
       "        vertical-align: middle;\n",
       "    }\n",
       "\n",
       "    .dataframe tbody tr th {\n",
       "        vertical-align: top;\n",
       "    }\n",
       "\n",
       "    .dataframe thead th {\n",
       "        text-align: right;\n",
       "    }\n",
       "</style>\n",
       "<table border=\"1\" class=\"dataframe\">\n",
       "  <thead>\n",
       "    <tr style=\"text-align: right;\">\n",
       "      <th></th>\n",
       "      <th>Dataset</th>\n",
       "      <th>Segmentation</th>\n",
       "      <th>Metric</th>\n",
       "      <th>Perturb</th>\n",
       "      <th>Result</th>\n",
       "    </tr>\n",
       "  </thead>\n",
       "  <tbody>\n",
       "  </tbody>\n",
       "</table>\n",
       "</div>"
      ]
     },
     "execution_count": 13,
     "metadata": {},
     "output_type": "execute_result"
    }
   ],
   "execution_count": 13
  },
  {
   "cell_type": "code",
   "metadata": {
    "ExecuteTime": {
     "end_time": "2025-02-14T16:57:56.213244Z",
     "start_time": "2025-02-14T16:57:56.211325Z"
    }
   },
   "source": [
    "import matplotlib.pyplot as plt"
   ],
   "outputs": [],
   "execution_count": 14
  },
  {
   "cell_type": "markdown",
   "metadata": {},
   "source": [
    "Entropy"
   ]
  },
  {
   "cell_type": "code",
   "metadata": {
    "ExecuteTime": {
     "end_time": "2025-02-14T17:00:33.190512Z",
     "start_time": "2025-02-14T17:00:33.086669Z"
    }
   },
   "source": [
    "dataset_names = df[\"Dataset\"].unique()\n",
    "segmentation_names = df['Segmentation'].unique()\n",
    "\n",
    "mask = (df[\"Metric\"]==\"segmentstats\")\n",
    "df2 = df.loc[mask, [\"Dataset\", \"Segmentation\", \"Perturb\", \"Result\"]]\n",
    "\n",
    "fig, ax = plt.subplots(1, len(dataset_names), figsize = (19,4), sharex=False, sharey=True)\n",
    "\n",
    "for i, dataset_name in enumerate(dataset_names):\n",
    "\n",
    "    mask = (df2[\"Dataset\"]==dataset_name)\n",
    "    df3 = df2.loc[mask, [\"Segmentation\", \"Perturb\", \"Result\"]]\n",
    "    ax[i].set_title(dataset_name)\n",
    "\n",
    "    mask = (df3[\"Perturb\"]==\"entropy_mean\")\n",
    "    df4 = df3.loc[mask, [\"Segmentation\", \"Result\"]]\n",
    "\n",
    "    x = df4[\"Segmentation\"].values\n",
    "    y = df4[\"Result\"].values\n",
    "\n",
    "    mask = (df3[\"Perturb\"]==\"entropy_std\")\n",
    "    df5 = df3.loc[mask, [\"Segmentation\", \"Result\"]]\n",
    "    e = df5[\"Result\"].values\n",
    "\n",
    "    ax[i].errorbar(x, y, e, linestyle='None', marker='o', capsize=3)\n",
    "    ax[i].grid()\n",
    "    ax[i].tick_params(\"x\", rotation=85)\n",
    "\n",
    "fig.suptitle(\"Normalized Entropy of Segmentations for each Dataset\")\n",
    "fig.tight_layout()"
   ],
   "outputs": [
    {
     "ename": "TypeError",
     "evalue": "'Axes' object is not subscriptable",
     "output_type": "error",
     "traceback": [
      "\u001B[0;31m---------------------------------------------------------------------------\u001B[0m",
      "\u001B[0;31mTypeError\u001B[0m                                 Traceback (most recent call last)",
      "Cell \u001B[0;32mIn[23], line 13\u001B[0m\n\u001B[1;32m     11\u001B[0m mask \u001B[38;5;241m=\u001B[39m (df2[\u001B[38;5;124m\"\u001B[39m\u001B[38;5;124mDataset\u001B[39m\u001B[38;5;124m\"\u001B[39m]\u001B[38;5;241m==\u001B[39mdataset_name)\n\u001B[1;32m     12\u001B[0m df3 \u001B[38;5;241m=\u001B[39m df2\u001B[38;5;241m.\u001B[39mloc[mask, [\u001B[38;5;124m\"\u001B[39m\u001B[38;5;124mSegmentation\u001B[39m\u001B[38;5;124m\"\u001B[39m, \u001B[38;5;124m\"\u001B[39m\u001B[38;5;124mPerturb\u001B[39m\u001B[38;5;124m\"\u001B[39m, \u001B[38;5;124m\"\u001B[39m\u001B[38;5;124mResult\u001B[39m\u001B[38;5;124m\"\u001B[39m]]\n\u001B[0;32m---> 13\u001B[0m \u001B[43max\u001B[49m\u001B[43m[\u001B[49m\u001B[43mi\u001B[49m\u001B[43m]\u001B[49m\u001B[38;5;241m.\u001B[39mset_title(dataset_name)\n\u001B[1;32m     15\u001B[0m mask \u001B[38;5;241m=\u001B[39m (df3[\u001B[38;5;124m\"\u001B[39m\u001B[38;5;124mPerturb\u001B[39m\u001B[38;5;124m\"\u001B[39m]\u001B[38;5;241m==\u001B[39m\u001B[38;5;124m\"\u001B[39m\u001B[38;5;124mentropy_mean\u001B[39m\u001B[38;5;124m\"\u001B[39m)\n\u001B[1;32m     16\u001B[0m df4 \u001B[38;5;241m=\u001B[39m df3\u001B[38;5;241m.\u001B[39mloc[mask, [\u001B[38;5;124m\"\u001B[39m\u001B[38;5;124mSegmentation\u001B[39m\u001B[38;5;124m\"\u001B[39m, \u001B[38;5;124m\"\u001B[39m\u001B[38;5;124mResult\u001B[39m\u001B[38;5;124m\"\u001B[39m]]\n",
      "\u001B[0;31mTypeError\u001B[0m: 'Axes' object is not subscriptable"
     ]
    },
    {
     "data": {
      "text/plain": [
       "<Figure size 1900x400 with 1 Axes>"
      ],
      "image/png": "[encoded data removed]"
     },
     "metadata": {},
     "output_type": "display_data"
    }
   ],
   "execution_count": 23
  },
  {
   "cell_type": "code",
   "metadata": {
    "ExecuteTime": {
     "end_time": "2025-02-14T16:57:59.212938Z",
     "start_time": "2025-02-14T16:57:59.092330Z"
    }
   },
   "source": [
    "dataset_names = df[\"Dataset\"].unique()\n",
    "segmentation_names = df['Segmentation'].unique()\n",
    "\n",
    "mask = (df[\"Metric\"]==\"segmentstats\")\n",
    "df2 = df.loc[mask, [\"Dataset\", \"Segmentation\", \"Perturb\", \"Result\"]]\n",
    "\n",
    "fig, ax = plt.subplots(1, len(dataset_names), figsize = (19,4), sharex=False, sharey=True)\n",
    "\n",
    "for i, dataset_name in enumerate(dataset_names):\n",
    "\n",
    "    mask = (df2[\"Dataset\"]==dataset_name)\n",
    "    df3 = df2.loc[mask, [\"Segmentation\", \"Perturb\", \"Result\"]]\n",
    "    ax[i].set_title(dataset_name)\n",
    "\n",
    "    mask = (df3[\"Perturb\"]==\"n_segments_mean\")\n",
    "    df4 = df3.loc[mask, [\"Segmentation\", \"Result\"]]\n",
    "\n",
    "    x = df4[\"Segmentation\"].values\n",
    "    y = df4[\"Result\"].values\n",
    "\n",
    "    mask = (df3[\"Perturb\"]==\"n_segments_std\")\n",
    "    df5 = df3.loc[mask, [\"Segmentation\", \"Result\"]]\n",
    "    e = df5[\"Result\"].values\n",
    "\n",
    "    ax[i].errorbar(x, y, e, linestyle='None', marker='o', capsize=3)\n",
    "    ax[i].grid()\n",
    "    ax[i].tick_params(\"x\", rotation=85)\n",
    "\n",
    "fig.suptitle(\"Expected number of Segments for each Channel\")\n",
    "fig.tight_layout()"
   ],
   "outputs": [
    {
     "ename": "TypeError",
     "evalue": "'Axes' object is not subscriptable",
     "output_type": "error",
     "traceback": [
      "\u001B[0;31m---------------------------------------------------------------------------\u001B[0m",
      "\u001B[0;31mTypeError\u001B[0m                                 Traceback (most recent call last)",
      "Cell \u001B[0;32mIn[16], line 13\u001B[0m\n\u001B[1;32m     11\u001B[0m mask \u001B[38;5;241m=\u001B[39m (df2[\u001B[38;5;124m\"\u001B[39m\u001B[38;5;124mDataset\u001B[39m\u001B[38;5;124m\"\u001B[39m]\u001B[38;5;241m==\u001B[39mdataset_name)\n\u001B[1;32m     12\u001B[0m df3 \u001B[38;5;241m=\u001B[39m df2\u001B[38;5;241m.\u001B[39mloc[mask, [\u001B[38;5;124m\"\u001B[39m\u001B[38;5;124mSegmentation\u001B[39m\u001B[38;5;124m\"\u001B[39m, \u001B[38;5;124m\"\u001B[39m\u001B[38;5;124mPerturb\u001B[39m\u001B[38;5;124m\"\u001B[39m, \u001B[38;5;124m\"\u001B[39m\u001B[38;5;124mResult\u001B[39m\u001B[38;5;124m\"\u001B[39m]]\n\u001B[0;32m---> 13\u001B[0m \u001B[43max\u001B[49m\u001B[43m[\u001B[49m\u001B[43mi\u001B[49m\u001B[43m]\u001B[49m\u001B[38;5;241m.\u001B[39mset_title(dataset_name)\n\u001B[1;32m     15\u001B[0m mask \u001B[38;5;241m=\u001B[39m (df3[\u001B[38;5;124m\"\u001B[39m\u001B[38;5;124mPerturb\u001B[39m\u001B[38;5;124m\"\u001B[39m]\u001B[38;5;241m==\u001B[39m\u001B[38;5;124m\"\u001B[39m\u001B[38;5;124mn_segments_mean\u001B[39m\u001B[38;5;124m\"\u001B[39m)\n\u001B[1;32m     16\u001B[0m df4 \u001B[38;5;241m=\u001B[39m df3\u001B[38;5;241m.\u001B[39mloc[mask, [\u001B[38;5;124m\"\u001B[39m\u001B[38;5;124mSegmentation\u001B[39m\u001B[38;5;124m\"\u001B[39m, \u001B[38;5;124m\"\u001B[39m\u001B[38;5;124mResult\u001B[39m\u001B[38;5;124m\"\u001B[39m]]\n",
      "\u001B[0;31mTypeError\u001B[0m: 'Axes' object is not subscriptable"
     ]
    },
    {
     "data": {
      "text/plain": [
       "<Figure size 1900x400 with 1 Axes>"
      ],
      "image/png": "[encoded data removed]"
     },
     "metadata": {},
     "output_type": "display_data"
    }
   ],
   "execution_count": 16
  },
  {
   "cell_type": "code",
   "metadata": {
    "ExecuteTime": {
     "end_time": "2025-02-14T16:58:00.265021Z",
     "start_time": "2025-02-14T16:58:00.255834Z"
    }
   },
   "source": [
    "x"
   ],
   "outputs": [
    {
     "ename": "NameError",
     "evalue": "name 'x' is not defined",
     "output_type": "error",
     "traceback": [
      "\u001B[0;31m---------------------------------------------------------------------------\u001B[0m",
      "\u001B[0;31mNameError\u001B[0m                                 Traceback (most recent call last)",
      "Cell \u001B[0;32mIn[17], line 1\u001B[0m\n\u001B[0;32m----> 1\u001B[0m \u001B[43mx\u001B[49m\n",
      "\u001B[0;31mNameError\u001B[0m: name 'x' is not defined"
     ]
    }
   ],
   "execution_count": 17
  },
  {
   "cell_type": "code",
   "metadata": {
    "ExecuteTime": {
     "end_time": "2025-02-14T16:58:00.759331Z",
     "start_time": "2025-02-14T16:58:00.745806Z"
    }
   },
   "source": [
    "y"
   ],
   "outputs": [
    {
     "ename": "NameError",
     "evalue": "name 'y' is not defined",
     "output_type": "error",
     "traceback": [
      "\u001B[0;31m---------------------------------------------------------------------------\u001B[0m",
      "\u001B[0;31mNameError\u001B[0m                                 Traceback (most recent call last)",
      "Cell \u001B[0;32mIn[18], line 1\u001B[0m\n\u001B[0;32m----> 1\u001B[0m \u001B[43my\u001B[49m\n",
      "\u001B[0;31mNameError\u001B[0m: name 'y' is not defined"
     ]
    }
   ],
   "execution_count": 18
  },
  {
   "cell_type": "code",
   "execution_count": 17,
   "metadata": {},
   "outputs": [
    {
     "data": {
      "text/plain": [
       "array([1.94041912, 0.38142836, 0.        , 0.        , 0.60691923])"
      ]
     },
     "execution_count": 17,
     "metadata": {},
     "output_type": "execute_result"
    }
   ],
   "source": [
    "e"
   ]
  },
  {
   "cell_type": "code",
   "execution_count": null,
   "metadata": {},
   "outputs": [],
   "source": []
  }
 ],
 "metadata": {
  "kernelspec": {
   "display_name": "segment_shap",
   "language": "python",
   "name": "python3"
  },
  "language_info": {
   "codemirror_mode": {
    "name": "ipython",
    "version": 3
   },
   "file_extension": ".py",
   "mimetype": "text/x-python",
   "name": "python",
   "nbconvert_exporter": "python",
   "pygments_lexer": "ipython3",
   "version": "3.11.9"
  }
 },
 "nbformat": 4,
 "nbformat_minor": 2
}
