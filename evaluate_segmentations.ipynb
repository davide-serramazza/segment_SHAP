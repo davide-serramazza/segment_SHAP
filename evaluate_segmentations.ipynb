{
 "cells": [
  {
   "cell_type": "code",
   "execution_count": 1,
   "metadata": {
    "ExecuteTime": {
     "end_time": "2024-08-23T10:15:35.368184Z",
     "start_time": "2024-08-23T10:15:34.342597Z"
    }
   },
   "outputs": [],
   "source": [
    "import os\n",
    "import sys\n",
    "#sys.path.insert(0, os.path.dirname(os.getcwd()))\n",
    "import pickle\n",
    "\n",
    "import numpy as np\n",
    "import torch\n",
    "#import torch.cuda\n",
    "import timeit\n",
    "import pandas as pd\n",
    "#import argparse\n",
    "import itertools\n",
    "from load_data import load_data # segment_SHAP\n",
    "from evaluation.metrics.segmentstats import SegmentStats_metric\n",
    "from models.predictor_utils import load_predictor\n",
    "from pickle import dump\n",
    "\n"
   ]
  },
  {
   "cell_type": "code",
   "execution_count": null,
   "metadata": {},
   "outputs": [],
   "source": []
  },
  {
   "cell_type": "code",
   "execution_count": 2,
   "metadata": {
    "ExecuteTime": {
     "end_time": "2024-08-23T10:15:35.373483Z",
     "start_time": "2024-08-23T10:15:35.371673Z"
    }
   },
   "outputs": [],
   "source": [
    "# PATHS\n",
    "datasets_folder_path = None\n",
    "attributions_folder_path = None\n",
    "trained_models_folder_path = None\n",
    "save_results_folder_path = None"
   ]
  },
  {
   "cell_type": "code",
   "execution_count": 3,
   "metadata": {},
   "outputs": [],
   "source": [
    "demo_mode = False"
   ]
  },
  {
   "cell_type": "code",
   "execution_count": 4,
   "metadata": {
    "ExecuteTime": {
     "end_time": "2024-08-23T10:15:43.829274Z",
     "start_time": "2024-08-23T10:15:43.826547Z"
    }
   },
   "outputs": [],
   "source": [
    "# settings\n",
    "dataset_names = ['UWAVE', \"KeplerLightCurves\", \"MP8\", \"gunpoint\", \"EOG\"]    #[sys.argv[1]] # ['UWAVE', \"KeplerLightCurves\", \"MP8\", \"gunpoint\", \"EOG\"] \n",
    "predictor_names = ['resNet']    #[sys.argv[2]] [\"randomForest\", 'miniRocket', 'resNet', \"QUANT\"]\n",
    "segmentation_names = [\"clasp\",\"greedygaussian\", \"equal\", \"infogain\",\"nnsegment\"] # [\"clasp\",\"greedygaussian\", \"equal\", \"infogain\",\"nnsegment\"] \n",
    "background_names =  [\"average\"] #[\"average\", \"zero\", \"sampling\"]\n",
    "normalization_names = [\"default\"] #[\"default\", \"normalized\"]\n",
    "\n",
    "metric_names = [\"segmentstats\"]\n",
    "results_prefix = \"segmentstats\" #\"evaluation\"\n",
    "\n",
    "\n",
    "demo_mode_samples = 25\n",
    "# demo\n",
    "if demo_mode:\n",
    "    dataset_names = ['UWAVE']\n",
    "    predictor_names = ['resNet'] #['randomForest', 'resNet', 'miniRocket']\n",
    "    segmentation_names = ['nnsegment']\n",
    "    background_names = [\"average\"]#, 'zero','sampling']\n",
    "    normalization_names = [\"default\", \"normalized\"]\n",
    "\n",
    "# optional\n",
    "# # get infos about which explanations are evaluated\n",
    "# datasets = list( explanations['attributions'].keys() )\n",
    "# segmentations = list( explanations['attributions'][datasets[0]].keys() )\n",
    "# predictors = list( explanations['attributions'][datasets[0]][segmentations[0]].keys() )\n",
    "# backgrounds = list( explanations['attributions'][datasets[0]][segmentations[0]][predictors[0]].keys() )\n",
    "# result_types = ['default','normalized']"
   ]
  },
  {
   "cell_type": "code",
   "execution_count": 5,
   "metadata": {
    "ExecuteTime": {
     "end_time": "2024-08-23T10:15:44.413374Z",
     "start_time": "2024-08-23T10:15:44.410522Z"
    }
   },
   "outputs": [],
   "source": [
    "# column_names = ['Dataset', 'Segmentation', 'ML model', 'Background', 'Normalization', 'Metric', 'Perturb', \"Result\"]\n",
    "# df = pd.DataFrame(data=data_list, columns = column_names)"
   ]
  },
  {
   "cell_type": "code",
   "execution_count": 6,
   "metadata": {
    "ExecuteTime": {
     "end_time": "2024-08-23T10:15:44.579741Z",
     "start_time": "2024-08-23T10:15:44.576671Z"
    }
   },
   "outputs": [],
   "source": [
    "# df"
   ]
  },
  {
   "cell_type": "code",
   "execution_count": 7,
   "metadata": {
    "ExecuteTime": {
     "end_time": "2024-08-23T10:15:47.048165Z",
     "start_time": "2024-08-23T10:15:45.314377Z"
    }
   },
   "outputs": [
    {
     "name": "stdout",
     "output_type": "stream",
     "text": [
      "Dataset:  UWAVE\n",
      "Predictor:  resNet\n",
      "assessing ('clasp', 'average', 'default', 'segmentstats')\n",
      "elapsed time 0.6815049999859184\n",
      "assessing ('greedygaussian', 'average', 'default', 'segmentstats')\n",
      "elapsed time 1.3523644000524655\n",
      "assessing ('equal', 'average', 'default', 'segmentstats')\n",
      "elapsed time 1.962738599977456\n",
      "assessing ('infogain', 'average', 'default', 'segmentstats')\n",
      "elapsed time 2.5828141000820324\n",
      "assessing ('nnsegment', 'average', 'default', 'segmentstats')\n",
      "elapsed time 3.2152875000610948\n",
      "Dataset:  KeplerLightCurves\n",
      "Predictor:  resNet\n",
      "assessing ('clasp', 'average', 'default', 'segmentstats')\n",
      "elapsed time 6.586615700041875\n",
      "assessing ('greedygaussian', 'average', 'default', 'segmentstats')\n",
      "elapsed time 6.776610000059009\n",
      "assessing ('equal', 'average', 'default', 'segmentstats')\n",
      "elapsed time 6.975776200066321\n",
      "assessing ('infogain', 'average', 'default', 'segmentstats')\n",
      "elapsed time 7.174629800021648\n",
      "assessing ('nnsegment', 'average', 'default', 'segmentstats')\n",
      "elapsed time 7.332543600001372\n",
      "Dataset:  MP8\n",
      "Predictor:  resNet\n",
      "assessing ('clasp', 'average', 'default', 'segmentstats')\n",
      "elapsed time 9.391696600010619\n",
      "assessing ('greedygaussian', 'average', 'default', 'segmentstats')\n",
      "elapsed time 11.374363500042818\n",
      "assessing ('equal', 'average', 'default', 'segmentstats')\n",
      "elapsed time 13.425695099984296\n",
      "assessing ('infogain', 'average', 'default', 'segmentstats')\n",
      "elapsed time 15.292700799996965\n",
      "assessing ('nnsegment', 'average', 'default', 'segmentstats')\n",
      "elapsed time 17.243547399993986\n",
      "Dataset:  gunpoint\n",
      "Predictor:  resNet\n",
      "assessing ('clasp', 'average', 'default', 'segmentstats')\n",
      "elapsed time 17.390131800086237\n",
      "assessing ('greedygaussian', 'average', 'default', 'segmentstats')\n",
      "elapsed time 17.449748200015165\n",
      "assessing ('equal', 'average', 'default', 'segmentstats')\n",
      "elapsed time 17.526159400003962\n",
      "assessing ('infogain', 'average', 'default', 'segmentstats')\n",
      "elapsed time 17.595824900083244\n",
      "assessing ('nnsegment', 'average', 'default', 'segmentstats')\n",
      "elapsed time 17.66536179999821\n",
      "Dataset:  EOG\n",
      "Predictor:  resNet\n",
      "assessing ('clasp', 'average', 'default', 'segmentstats')\n",
      "elapsed time 18.773461100063287\n",
      "assessing ('greedygaussian', 'average', 'default', 'segmentstats')\n",
      "elapsed time 19.08707270002924\n",
      "assessing ('equal', 'average', 'default', 'segmentstats')\n",
      "elapsed time 19.382092999992892\n",
      "assessing ('infogain', 'average', 'default', 'segmentstats')\n",
      "elapsed time 19.68964210001286\n",
      "assessing ('nnsegment', 'average', 'default', 'segmentstats')\n",
      "elapsed time 20.049317600089125\n"
     ]
    }
   ],
   "source": [
    "cwd = os.getcwd()\n",
    "if datasets_folder_path is None:\n",
    "    datasets_folder_path = \"datasets\" #os.path.join(cwd, \"datasets\")\n",
    "if attributions_folder_path is None:\n",
    "    attributions_folder_path = \"attributions\"\n",
    "if trained_models_folder_path is None:\n",
    "    trained_models_folder_path = \"trained_models\"\n",
    "if save_results_folder_path is None:\n",
    "    save_results_folder_path = os.path.join(\"evaluation\", \"results\", \"segmentstats_results\")\n",
    "\n",
    "# device\n",
    "device = \"cuda\" if torch.cuda.is_available() else \"cpu\"\n",
    "\n",
    "starttime = timeit.default_timer()\n",
    "\n",
    "eval_metric = SegmentStats_metric()\n",
    "\n",
    "for dataset_name in dataset_names:\n",
    "    print(\"Dataset: \", dataset_name)\n",
    "    # loading dataset\n",
    "    X_train, X_test, y_train, y_test, enc = load_data(subset='all', dataset_name=dataset_name, path=datasets_folder_path)\n",
    "    if demo_mode:\n",
    "        X_test, y_test = X_test[:demo_mode_samples], y_test[:demo_mode_samples]\n",
    "\n",
    "    eval_metric.fit_data(X_train, X_test, y_train, y_test)\n",
    "\n",
    "    for predictor_name in predictor_names:\n",
    "        print(\"Predictor: \", predictor_name)\n",
    "\n",
    "        # load classifier\n",
    "        predictor = load_predictor(path=trained_models_folder_path, predictor_name=predictor_name, dataset_name=dataset_name, device=device) # torch.device(device)\n",
    "\n",
    "        # load explanations\n",
    "        attribution_filename = \"_\".join((\"all_results\", dataset_name, predictor_name)) + \".npy\"\n",
    "        explanations = np.load(os.path.join(attributions_folder_path, attribution_filename), allow_pickle=True).item() # FileNotFoundError\n",
    "        label_mapping = explanations['label_mapping'][dataset_name]\n",
    "\n",
    "        for eval_metric in eval_metrics.values():\n",
    "            eval_metric.fit_ml_model(predictor)\n",
    "\n",
    "        data_list = []\n",
    "\n",
    "        for key in itertools.product(segmentation_names, background_names, normalization_names, metric_names):\n",
    "            segmentation_name, background_name, normalization_name, metric_name = key\n",
    "            print(\"assessing\", key)\n",
    "\n",
    "            # load model and explanations to access\n",
    "            attributions = explanations['attributions'][dataset_name][segmentation_name][predictor_name][background_name][normalization_name]\n",
    "            y_test_pred = explanations['y_test_pred'][dataset_name][predictor_name]\n",
    "            segments = explanations['segments'][dataset_name][segmentation_name]\n",
    "\n",
    "            eval_metric = eval_metrics[metric_name]\n",
    "            results = eval_metric.evaluate(segments)\n",
    "\n",
    "            for result_tuple in results:\n",
    "                data_list.append((dataset_name, segmentation_name, metric_name) + result_tuple)\n",
    "\n",
    "            print(\"elapsed time\", (timeit.default_timer() - starttime))\n",
    "\n",
    "        # save\n",
    "        column_names = ['Dataset', 'Segmentation', 'Metric', 'Perturb', \"Result\"]\n",
    "        df = pd.DataFrame(data=data_list, columns = column_names)\n",
    "        file_name = \"_\".join((results_prefix, dataset_name))\n",
    "        result_path = os.path.join(save_results_folder_path, file_name)\n",
    "        if not demo_mode:\n",
    "            df.to_csv(result_path)\n",
    "            # with open( \"_\".join( (dataset_name,classifier_name)) ,\"wb\") as f:\n",
    "            #     pickle.dump(results_dict, f)"
   ]
  },
  {
   "cell_type": "code",
   "execution_count": 8,
   "metadata": {},
   "outputs": [
    {
     "data": {
      "text/html": [
       "<div>\n",
       "<style scoped>\n",
       "    .dataframe tbody tr th:only-of-type {\n",
       "        vertical-align: middle;\n",
       "    }\n",
       "\n",
       "    .dataframe tbody tr th {\n",
       "        vertical-align: top;\n",
       "    }\n",
       "\n",
       "    .dataframe thead th {\n",
       "        text-align: right;\n",
       "    }\n",
       "</style>\n",
       "<table border=\"1\" class=\"dataframe\">\n",
       "  <thead>\n",
       "    <tr style=\"text-align: right;\">\n",
       "      <th></th>\n",
       "      <th>Dataset</th>\n",
       "      <th>Segmentation</th>\n",
       "      <th>Metric</th>\n",
       "      <th>Perturb</th>\n",
       "      <th>Result</th>\n",
       "    </tr>\n",
       "  </thead>\n",
       "  <tbody>\n",
       "    <tr>\n",
       "      <th>0</th>\n",
       "      <td>EOG</td>\n",
       "      <td>clasp</td>\n",
       "      <td>segmentstats</td>\n",
       "      <td>entropy_mean</td>\n",
       "      <td>0.733957</td>\n",
       "    </tr>\n",
       "    <tr>\n",
       "      <th>1</th>\n",
       "      <td>EOG</td>\n",
       "      <td>clasp</td>\n",
       "      <td>segmentstats</td>\n",
       "      <td>entropy_std</td>\n",
       "      <td>0.204484</td>\n",
       "    </tr>\n",
       "    <tr>\n",
       "      <th>2</th>\n",
       "      <td>EOG</td>\n",
       "      <td>clasp</td>\n",
       "      <td>segmentstats</td>\n",
       "      <td>n_segments_mean</td>\n",
       "      <td>3.946133</td>\n",
       "    </tr>\n",
       "    <tr>\n",
       "      <th>3</th>\n",
       "      <td>EOG</td>\n",
       "      <td>clasp</td>\n",
       "      <td>segmentstats</td>\n",
       "      <td>n_segments_std</td>\n",
       "      <td>1.677318</td>\n",
       "    </tr>\n",
       "    <tr>\n",
       "      <th>4</th>\n",
       "      <td>EOG</td>\n",
       "      <td>greedygaussian</td>\n",
       "      <td>segmentstats</td>\n",
       "      <td>entropy_mean</td>\n",
       "      <td>0.918827</td>\n",
       "    </tr>\n",
       "  </tbody>\n",
       "</table>\n",
       "</div>"
      ],
      "text/plain": [
       "  Dataset    Segmentation        Metric          Perturb    Result\n",
       "0     EOG           clasp  segmentstats     entropy_mean  0.733957\n",
       "1     EOG           clasp  segmentstats      entropy_std  0.204484\n",
       "2     EOG           clasp  segmentstats  n_segments_mean  3.946133\n",
       "3     EOG           clasp  segmentstats   n_segments_std  1.677318\n",
       "4     EOG  greedygaussian  segmentstats     entropy_mean  0.918827"
      ]
     },
     "execution_count": 8,
     "metadata": {},
     "output_type": "execute_result"
    }
   ],
   "source": [
    "df.head()"
   ]
  },
  {
   "cell_type": "code",
   "execution_count": 9,
   "metadata": {},
   "outputs": [],
   "source": [
    "# 0/0"
   ]
  },
  {
   "cell_type": "code",
   "execution_count": 10,
   "metadata": {},
   "outputs": [
    {
     "data": {
      "text/plain": [
       "'evaluation\\\\results\\\\segmentstats_results'"
      ]
     },
     "execution_count": 10,
     "metadata": {},
     "output_type": "execute_result"
    }
   ],
   "source": [
    "save_results_folder_path"
   ]
  },
  {
   "cell_type": "code",
   "execution_count": 11,
   "metadata": {},
   "outputs": [
    {
     "data": {
      "text/html": [
       "<div>\n",
       "<style scoped>\n",
       "    .dataframe tbody tr th:only-of-type {\n",
       "        vertical-align: middle;\n",
       "    }\n",
       "\n",
       "    .dataframe tbody tr th {\n",
       "        vertical-align: top;\n",
       "    }\n",
       "\n",
       "    .dataframe thead th {\n",
       "        text-align: right;\n",
       "    }\n",
       "</style>\n",
       "<table border=\"1\" class=\"dataframe\">\n",
       "  <thead>\n",
       "    <tr style=\"text-align: right;\">\n",
       "      <th></th>\n",
       "      <th>Dataset</th>\n",
       "      <th>Segmentation</th>\n",
       "      <th>Metric</th>\n",
       "      <th>Perturb</th>\n",
       "      <th>Result</th>\n",
       "    </tr>\n",
       "  </thead>\n",
       "  <tbody>\n",
       "    <tr>\n",
       "      <th>0</th>\n",
       "      <td>EOG</td>\n",
       "      <td>clasp</td>\n",
       "      <td>segmentstats</td>\n",
       "      <td>entropy_mean</td>\n",
       "      <td>0.733957</td>\n",
       "    </tr>\n",
       "    <tr>\n",
       "      <th>1</th>\n",
       "      <td>EOG</td>\n",
       "      <td>clasp</td>\n",
       "      <td>segmentstats</td>\n",
       "      <td>entropy_std</td>\n",
       "      <td>0.204484</td>\n",
       "    </tr>\n",
       "    <tr>\n",
       "      <th>2</th>\n",
       "      <td>EOG</td>\n",
       "      <td>clasp</td>\n",
       "      <td>segmentstats</td>\n",
       "      <td>n_segments_mean</td>\n",
       "      <td>3.946133</td>\n",
       "    </tr>\n",
       "    <tr>\n",
       "      <th>3</th>\n",
       "      <td>EOG</td>\n",
       "      <td>clasp</td>\n",
       "      <td>segmentstats</td>\n",
       "      <td>n_segments_std</td>\n",
       "      <td>1.677318</td>\n",
       "    </tr>\n",
       "    <tr>\n",
       "      <th>4</th>\n",
       "      <td>EOG</td>\n",
       "      <td>greedygaussian</td>\n",
       "      <td>segmentstats</td>\n",
       "      <td>entropy_mean</td>\n",
       "      <td>0.918827</td>\n",
       "    </tr>\n",
       "    <tr>\n",
       "      <th>...</th>\n",
       "      <td>...</td>\n",
       "      <td>...</td>\n",
       "      <td>...</td>\n",
       "      <td>...</td>\n",
       "      <td>...</td>\n",
       "    </tr>\n",
       "    <tr>\n",
       "      <th>15</th>\n",
       "      <td>UWAVE</td>\n",
       "      <td>infogain</td>\n",
       "      <td>segmentstats</td>\n",
       "      <td>n_segments_std</td>\n",
       "      <td>0.000000</td>\n",
       "    </tr>\n",
       "    <tr>\n",
       "      <th>16</th>\n",
       "      <td>UWAVE</td>\n",
       "      <td>nnsegment</td>\n",
       "      <td>segmentstats</td>\n",
       "      <td>entropy_mean</td>\n",
       "      <td>0.973800</td>\n",
       "    </tr>\n",
       "    <tr>\n",
       "      <th>17</th>\n",
       "      <td>UWAVE</td>\n",
       "      <td>nnsegment</td>\n",
       "      <td>segmentstats</td>\n",
       "      <td>entropy_std</td>\n",
       "      <td>0.011122</td>\n",
       "    </tr>\n",
       "    <tr>\n",
       "      <th>18</th>\n",
       "      <td>UWAVE</td>\n",
       "      <td>nnsegment</td>\n",
       "      <td>segmentstats</td>\n",
       "      <td>n_segments_mean</td>\n",
       "      <td>6.443925</td>\n",
       "    </tr>\n",
       "    <tr>\n",
       "      <th>19</th>\n",
       "      <td>UWAVE</td>\n",
       "      <td>nnsegment</td>\n",
       "      <td>segmentstats</td>\n",
       "      <td>n_segments_std</td>\n",
       "      <td>0.606919</td>\n",
       "    </tr>\n",
       "  </tbody>\n",
       "</table>\n",
       "<p>100 rows × 5 columns</p>\n",
       "</div>"
      ],
      "text/plain": [
       "   Dataset    Segmentation        Metric          Perturb    Result\n",
       "0      EOG           clasp  segmentstats     entropy_mean  0.733957\n",
       "1      EOG           clasp  segmentstats      entropy_std  0.204484\n",
       "2      EOG           clasp  segmentstats  n_segments_mean  3.946133\n",
       "3      EOG           clasp  segmentstats   n_segments_std  1.677318\n",
       "4      EOG  greedygaussian  segmentstats     entropy_mean  0.918827\n",
       "..     ...             ...           ...              ...       ...\n",
       "15   UWAVE        infogain  segmentstats   n_segments_std  0.000000\n",
       "16   UWAVE       nnsegment  segmentstats     entropy_mean  0.973800\n",
       "17   UWAVE       nnsegment  segmentstats      entropy_std  0.011122\n",
       "18   UWAVE       nnsegment  segmentstats  n_segments_mean  6.443925\n",
       "19   UWAVE       nnsegment  segmentstats   n_segments_std  0.606919\n",
       "\n",
       "[100 rows x 5 columns]"
      ]
     },
     "execution_count": 11,
     "metadata": {},
     "output_type": "execute_result"
    }
   ],
   "source": [
    "path = os.path.join(save_results_folder_path)\n",
    "filenames = os.listdir(path) # [filename for filename in os.listdir(mypath) if os.path.isfile(os.path.join(mypath, filename))] # excludes floders\n",
    "df_list = []\n",
    "for filename in filenames:\n",
    "    filepath = os.path.join(path, filename)\n",
    "    df_0 = pd.read_csv(filepath, index_col=0)\n",
    "    df_list.append(df_0)\n",
    "merged_df = pd.concat(df_list)\n",
    "df = merged_df\n",
    "df"
   ]
  },
  {
   "cell_type": "code",
   "execution_count": null,
   "metadata": {},
   "outputs": [],
   "source": []
  },
  {
   "cell_type": "code",
   "execution_count": 12,
   "metadata": {},
   "outputs": [],
   "source": [
    "import matplotlib.pyplot as plt"
   ]
  },
  {
   "cell_type": "markdown",
   "metadata": {},
   "source": [
    "Entropy"
   ]
  },
  {
   "cell_type": "code",
   "execution_count": 13,
   "metadata": {},
   "outputs": [
    {
     "data": {
      "image/png": "[encoded data removed]",
      "text/plain": [
       "<Figure size 1500x400 with 5 Axes>"
      ]
     },
     "metadata": {},
     "output_type": "display_data"
    }
   ],
   "source": [
    "dataset_names = df[\"Dataset\"].unique()\n",
    "segmentation_names = df['Segmentation'].unique()\n",
    "\n",
    "mask = (df[\"Metric\"]==\"segmentstats\")\n",
    "df2 = df.loc[mask, [\"Dataset\", \"Segmentation\", \"Perturb\", \"Result\"]]\n",
    "\n",
    "fig, ax = plt.subplots(1, len(dataset_names), figsize = (15,4), sharex=False, sharey=True)\n",
    "\n",
    "for i, dataset_name in enumerate(dataset_names):\n",
    "\n",
    "    mask = (df2[\"Dataset\"]==dataset_name)\n",
    "    df3 = df2.loc[mask, [\"Segmentation\", \"Perturb\", \"Result\"]]\n",
    "    ax[i].set_title(dataset_name)\n",
    "\n",
    "    mask = (df3[\"Perturb\"]==\"entropy_mean\")\n",
    "    df4 = df3.loc[mask, [\"Segmentation\", \"Result\"]]\n",
    "\n",
    "    x = df4[\"Segmentation\"].values\n",
    "    y = 1-df4[\"Result\"].values\n",
    "\n",
    "    mask = (df3[\"Perturb\"]==\"entropy_std\")\n",
    "    df5 = df3.loc[mask, [\"Segmentation\", \"Result\"]]\n",
    "    e = df5[\"Result\"].values\n",
    "\n",
    "    ax[i].errorbar(x, y, e, linestyle='None', marker='o', capsize=3)\n",
    "    ax[i].grid()\n",
    "    ax[i].tick_params(\"x\", rotation=45)\n",
    "\n",
    "fig.suptitle(\"Normalized Entropy of Segmentations for each Dataset\")\n",
    "fig.tight_layout()"
   ]
  },
  {
   "cell_type": "code",
   "execution_count": 14,
   "metadata": {},
   "outputs": [
    {
     "data": {
      "image/png": "[encoded data removed]",
      "text/plain": [
       "<Figure size 1500x400 with 5 Axes>"
      ]
     },
     "metadata": {},
     "output_type": "display_data"
    }
   ],
   "source": [
    "dataset_names = df[\"Dataset\"].unique()\n",
    "segmentation_names = df['Segmentation'].unique()\n",
    "\n",
    "mask = (df[\"Metric\"]==\"segmentstats\")\n",
    "df2 = df.loc[mask, [\"Dataset\", \"Segmentation\", \"Perturb\", \"Result\"]]\n",
    "\n",
    "fig, ax = plt.subplots(1, len(dataset_names), figsize = (15,4), sharex=False, sharey=True)\n",
    "\n",
    "for i, dataset_name in enumerate(dataset_names):\n",
    "\n",
    "    mask = (df2[\"Dataset\"]==dataset_name)\n",
    "    df3 = df2.loc[mask, [\"Segmentation\", \"Perturb\", \"Result\"]]\n",
    "    ax[i].set_title(dataset_name)\n",
    "\n",
    "    mask = (df3[\"Perturb\"]==\"n_segments_mean\")\n",
    "    df4 = df3.loc[mask, [\"Segmentation\", \"Result\"]]\n",
    "\n",
    "    x = df4[\"Segmentation\"].values\n",
    "    y = df4[\"Result\"].values\n",
    "\n",
    "    mask = (df3[\"Perturb\"]==\"n_segments_std\")\n",
    "    df5 = df3.loc[mask, [\"Segmentation\", \"Result\"]]\n",
    "    e = df5[\"Result\"].values\n",
    "\n",
    "    ax[i].errorbar(x, y, e, linestyle='None', marker='o', capsize=3)\n",
    "    ax[i].grid()\n",
    "    ax[i].tick_params(\"x\", rotation=45)\n",
    "\n",
    "fig.suptitle(\"Expected number of Segments for each Channel\")\n",
    "fig.tight_layout()"
   ]
  },
  {
   "cell_type": "code",
   "execution_count": 15,
   "metadata": {},
   "outputs": [
    {
     "data": {
      "text/plain": [
       "array(['clasp', 'greedygaussian', 'equal', 'infogain', 'nnsegment'],\n",
       "      dtype=object)"
      ]
     },
     "execution_count": 15,
     "metadata": {},
     "output_type": "execute_result"
    }
   ],
   "source": [
    "x"
   ]
  },
  {
   "cell_type": "code",
   "execution_count": 16,
   "metadata": {},
   "outputs": [
    {
     "data": {
      "text/plain": [
       "array([6.26246106, 6.89485981, 7.        , 7.        , 6.44392523])"
      ]
     },
     "execution_count": 16,
     "metadata": {},
     "output_type": "execute_result"
    }
   ],
   "source": [
    "y"
   ]
  },
  {
   "cell_type": "code",
   "execution_count": 17,
   "metadata": {},
   "outputs": [
    {
     "data": {
      "text/plain": [
       "array([1.94041912, 0.38142836, 0.        , 0.        , 0.60691923])"
      ]
     },
     "execution_count": 17,
     "metadata": {},
     "output_type": "execute_result"
    }
   ],
   "source": [
    "e"
   ]
  },
  {
   "cell_type": "code",
   "execution_count": null,
   "metadata": {},
   "outputs": [],
   "source": []
  }
 ],
 "metadata": {
  "kernelspec": {
   "display_name": "segment_shap",
   "language": "python",
   "name": "python3"
  },
  "language_info": {
   "codemirror_mode": {
    "name": "ipython",
    "version": 3
   },
   "file_extension": ".py",
   "mimetype": "text/x-python",
   "name": "python",
   "nbconvert_exporter": "python",
   "pygments_lexer": "ipython3",
   "version": "3.11.9"
  }
 },
 "nbformat": 4,
 "nbformat_minor": 2
}
