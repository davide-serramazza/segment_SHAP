{
 "cells": [
  {
   "cell_type": "code",
   "metadata": {
    "ExecuteTime": {
     "end_time": "2024-06-11T10:04:36.293712Z",
     "start_time": "2024-06-11T10:04:34.413693Z"
    }
   },
   "source": [
    "import numpy as np\n",
    "import torch\n",
    "from captum.attr import ShapleyValueSampling\n",
    "from tqdm import trange\n",
    "\n",
    "from load_data import load_data\n",
    "from train_models import *\n",
    "from segmentation import *\n",
    "from utils import *\n",
    "import os"
   ],
   "outputs": [],
   "execution_count": 1
  },
  {
   "cell_type": "code",
   "metadata": {
    "ExecuteTime": {
     "end_time": "2024-06-11T10:04:36.297318Z",
     "start_time": "2024-06-11T10:04:36.294753Z"
    }
   },
   "source": [
    "# to utils.py\n",
    "\n",
    "def change_points_to_lengths(change_points, array_length):\n",
    "\t# change points is 1D iterable of idxs\n",
    "\t# assumes that each change point is the start of a new segment, aka change_points = start points\n",
    "\tstart_points = np.array(change_points)\n",
    "\tend_points = np.append(change_points[1:], [array_length])\n",
    "\tprint(start_points, end_points)\n",
    "\tlengths = end_points - start_points\n",
    "\treturn lengths\n",
    "\n",
    "def lengths_to_weights(lengths):\n",
    "\t# lengths is 1D iterable of positive ints\n",
    "\tstart_idx = 0\n",
    "\tend_idx = 0\n",
    "\tsegment_weights = 1 / lengths\n",
    "\tweights = np.ones(lengths.sum())\n",
    "\tfor segment_weight, length in zip(segment_weights, lengths):\n",
    "\t\tend_idx += length\n",
    "\t\tweights[start_idx: end_idx] = segment_weight\n",
    "\t\tstart_idx = end_idx\n",
    "\treturn weights\n",
    "\n"
   ],
   "outputs": [],
   "execution_count": 2
  },
  {
   "metadata": {
    "ExecuteTime": {
     "end_time": "2024-06-11T10:04:37.402351Z",
     "start_time": "2024-06-11T10:04:36.297831Z"
    }
   },
   "cell_type": "code",
   "source": [
    "# device for torch\n",
    "from torch.cuda import is_available as is_GPU_available\n",
    "device = \"cuda\" if is_GPU_available() else \"cpu\"\n",
    "\n",
    "# dictionary mapping predictors to torch vs other, necessary for Captum \n",
    "predictors = {\n",
    "\t'torch' : ['resNet'],\n",
    "\t'scikit' : ['miniRocket','randomForest']\n",
    "}"
   ],
   "outputs": [],
   "execution_count": 3
  },
  {
   "metadata": {
    "ExecuteTime": {
     "end_time": "2024-06-11T10:04:39.442848Z",
     "start_time": "2024-06-11T10:04:37.403377Z"
    }
   },
   "cell_type": "code",
   "source": [
    "# load data\n",
    "dataset_name = 'gunpoint'\n",
    "predictor_name = 'resNet'\n",
    "\n",
    "# I've returned also a Label encoder from load_data to have a mapping between dataset label\n",
    "# which can be string while captum requires idx (integers)\n",
    "X_train, X_test, y_train, y_test, enc = load_data(subset='all', dataset_name=dataset_name)\n",
    "\n",
    "# train model\n",
    "if predictor_name=='resNet':\n",
    "\tclf,preds = train_ResNet(X_train, y_train, X_test, y_test, dataset_name,device=device)\n",
    "elif predictor_name=='miniRocket':\n",
    "\tclf,preds = train_miniRocket(X_train, y_train, X_test, y_test, dataset_name)\n",
    "\n",
    "# create a dictionary to be dumped containing attribution and metadata\n",
    "# initialize data structure meant to contain the segments\n",
    "segments =  np.empty( (X_test.shape[0] , X_test.shape[1]), dtype=object) if X_test.shape[1] > 1  else (\n",
    "\tnp.empty( X_test.shape[0] , dtype=object))\n",
    "\n",
    "results = {\n",
    "\t'attributions' : {},\n",
    "\t'segments' : segments,\n",
    "\t'y_test_true' : y_test,\n",
    "\t'y_test_pred' : preds,\n",
    "\t'label_mapping' : enc,\n",
    "}"
   ],
   "outputs": [
    {
     "name": "stdout",
     "output_type": "stream",
     "text": [
      "training ResNet\n",
      "Epoch 1: train loss:  0.671, \t train accuracy  0.520 \n",
      "          test loss:  0.588,  \t test accuracy  0.667\n",
      "Epoch 11: train loss:  0.239, \t train accuracy  0.980 \n",
      "          test loss:  0.293,  \t test accuracy  0.927\n",
      "Epoch 21: train loss:  0.130, \t train accuracy  1.000 \n",
      "          test loss:  0.151,  \t test accuracy  1.000\n",
      "Epoch 31: train loss:  0.078, \t train accuracy  1.000 \n",
      "          test loss:  0.100,  \t test accuracy  1.000\n",
      "Epoch 41: train loss:  0.069, \t train accuracy  1.000 \n",
      "          test loss:  0.085,  \t test accuracy  1.000\n",
      "training early stopped! Final stats are:\n",
      "Epoch 48: train loss:  0.035, \t train accuracy  1.000 \n",
      "          test loss:  0.070,  \t test accuracy  1.000\n",
      "accuracy for resNet is  1.0\n"
     ]
    }
   ],
   "execution_count": 4
  },
  {
   "cell_type": "code",
   "metadata": {
    "ExecuteTime": {
     "end_time": "2024-06-11T10:07:17.199063Z",
     "start_time": "2024-06-11T10:05:06.579703Z"
    }
   },
   "source": [
    "n_background = 50\n",
    "background_types = [\"average\",\"zero\",\"sampling\"] # zero, constant, average, multisample\n",
    "\n",
    "# TODO for each baseline so that I don't retrain a model each time \n",
    "\n",
    "with torch.no_grad():\n",
    "    SHAP = ShapleyValueSampling(clf) if predictor_name in predictors['torch'] else ShapleyValueSampling(forward_classification)\n",
    "    \n",
    "    for i in trange ( X_test.shape[0] ) : #\n",
    "    \n",
    "        # get current sample and label\n",
    "        ts, y = X_test[i] , torch.tensor( y_test[i:i+1] )\n",
    "        \n",
    "        # get segment and its tensor representation\n",
    "        current_segments = get_claSP_segmentation(ts)[:X_test.shape[1]]\n",
    "        results['segments'][i] = current_segments\n",
    "        mask = get_feature_mask(current_segments,ts.shape[-1])\n",
    "  \n",
    "        ts = torch.tensor(ts).repeat(1,1,1)\n",
    "    \n",
    "        for background_type in background_types:\n",
    "        \n",
    "            results['attributions'][background_type] = np.empty( X_test.shape ,dtype=np.float32 )\n",
    "        \n",
    "            # background data\n",
    "            if background_type==\"zero\":\n",
    "                background_dataset = torch.zeros((1,) + X_train.shape[1:])\n",
    "            elif background_type==\"sampling\":\n",
    "                background_dataset = sample_background(X_train, n_background)\n",
    "            elif background_type==\"average\":\n",
    "                background_dataset = sample_background(X_train, n_background).mean(axis=0, keepdim=True)\n",
    "        \n",
    "            ts = ts.repeat(background_dataset.shape[0],1,1) if background_type==\"sampling\" else ts\n",
    "        \n",
    "            # data structure with room for each sample in the background dataset\n",
    "            if predictor_name in predictors['scikit']:\n",
    "                tmp = SHAP.attribute( ts, target=y , feature_mask=mask, baselines=background_dataset, additional_forward_args=clf)\n",
    "            elif predictor_name in predictors['torch']:\n",
    "                ts = ts.to(device); y = y.to(device)\n",
    "                mask = mask.to(device) ; background_dataset =  background_dataset.to(device)\n",
    "        \n",
    "                tmp = SHAP.attribute( ts, target=y , feature_mask=mask, baselines=background_dataset)\n",
    "                ########  only for random forest as every instance should be a 1D tensor    ########\n",
    "                #current_attr[j:j+actual_size] = tmp.reshape(actual_size,X_test.shape[1],X_test.shape[2])\n",
    "                ###############################################################################\n",
    "        \n",
    "            # compute as final explanation mean of each explanation using a different baseline\n",
    "            results['attributions'][background_type][i] = torch.mean(tmp, dim=0).cpu().numpy() if \\\n",
    "                background_type==\"sampling\" else tmp.cpu().numpy()"
   ],
   "outputs": [
    {
     "name": "stderr",
     "output_type": "stream",
     "text": [
      "100%|██████████| 150/150 [02:10<00:00,  1.15it/s]\n"
     ]
    }
   ],
   "execution_count": 7
  },
  {
   "metadata": {
    "ExecuteTime": {
     "end_time": "2024-06-11T10:12:09.738239Z",
     "start_time": "2024-06-11T10:12:09.720335Z"
    }
   },
   "cell_type": "code",
   "source": [
    " # normalized weights\n",
    "weights = np.array(list(map(lambda x: list(map(lambda y: lengths_to_weights(change_points_to_lengths(y, X_train.shape[-1])), x)), results[\"segments\"])))\n",
    "results[\"attributions\"][background_type] *= weights"
   ],
   "outputs": [
    {
     "name": "stdout",
     "output_type": "stream",
     "text": [
      "[  0   7  16  47  96 109 118] [  7  16  47  96 109 118 150]\n",
      "[  0  35  45  68  78 101 132] [ 35  45  68  78 101 132 150]\n",
      "[  0  23  47  69 106 119 131] [ 23  47  69 106 119 131 150]\n",
      "[  0  27  61  96 111 119 135] [ 27  61  96 111 119 135 150]\n",
      "[0] [150]\n",
      "[  0   9  19  42  63 112 129] [  9  19  42  63 112 129 150]\n",
      "[ 0 56 64 72 86 99] [ 56  64  72  86  99 150]\n",
      "[  0 123] [123 150]\n",
      "[  0  27  42  80 110 124 141] [ 27  42  80 110 124 141 150]\n",
      "[  0  15  41  57  87 100 132] [ 15  41  57  87 100 132 150]\n",
      "[  0  80  87  99 108 119 137] [ 80  87  99 108 119 137 150]\n",
      "[ 0 10 39 46 63 88 97] [ 10  39  46  63  88  97 150]\n",
      "[  0   9  18  39  77 114 139] [  9  18  39  77 114 139 150]\n",
      "[  0  79  99 131 138] [ 79  99 131 138 150]\n",
      "[  0  15  65  88 103 119 138] [ 15  65  88 103 119 138 150]\n",
      "[ 0 12 83] [ 12  83 150]\n",
      "[  0  34  69 120] [ 34  69 120 150]\n",
      "[ 0  8 19 34 42 77 98] [  8  19  34  42  77  98 150]\n",
      "[0] [150]\n",
      "[  0  33  40  48  65  77 106] [ 33  40  48  65  77 106 150]\n",
      "[  0  26 129] [ 26 129 150]\n",
      "[  0  16  38  70  87  96 115] [ 16  38  70  87  96 115 150]\n",
      "[ 0  7 19] [  7  19 150]\n",
      "[  0  10  40  63  74  88 131] [ 10  40  63  74  88 131 150]\n",
      "[  0  41  50  61  71 128 139] [ 41  50  61  71 128 139 150]\n",
      "[  0  15  24  39  95 111 123] [ 15  24  39  95 111 123 150]\n",
      "[  0  15  47  82 103 124 137] [ 15  47  82 103 124 137 150]\n",
      "[  0  51  83  91  99 109 134] [ 51  83  91  99 109 134 150]\n",
      "[  0  34  42 128 137] [ 34  42 128 137 150]\n",
      "[  0 135] [135 150]\n",
      "[  0  28  45  55  64  76 124] [ 28  45  55  64  76 124 150]\n",
      "[  0  11  86 116 137] [ 11  86 116 137 150]\n",
      "[  0  26  43  51 125] [ 26  43  51 125 150]\n",
      "[  0  68  83  95 108 115 130] [ 68  83  95 108 115 130 150]\n",
      "[  0  11  62  78 128] [ 11  62  78 128 150]\n",
      "[  0  22  45  82 111 121 134] [ 22  45  82 111 121 134 150]\n",
      "[  0  19  34  69  83 110 140] [ 19  34  69  83 110 140 150]\n",
      "[  0 109 124 137] [109 124 137 150]\n",
      "[  0  56 141] [ 56 141 150]\n",
      "[  0   7  17  31  41  62 120] [  7  17  31  41  62 120 150]\n",
      "[  0  36  53  78 109 118 131] [ 36  53  78 109 118 131 150]\n",
      "[  0  18  37  52  66 141] [ 18  37  52  66 141 150]\n",
      "[  0  73  88 101 116 131] [ 73  88 101 116 131 150]\n",
      "[0] [150]\n",
      "[0] [150]\n",
      "[  0  13 100] [ 13 100 150]\n",
      "[ 0 20] [ 20 150]\n",
      "[  0  41  75  89 102 110 119] [ 41  75  89 102 110 119 150]\n",
      "[  0   9  22  40  62 122 133] [  9  22  40  62 122 133 150]\n",
      "[  0  27  71  81 111 126 137] [ 27  71  81 111 126 137 150]\n",
      "[ 0 17 34 44 61 69 79] [ 17  34  44  61  69  79 150]\n",
      "[  0 100] [100 150]\n",
      "[  0  76  86  98 111 118 130] [ 76  86  98 111 118 130 150]\n",
      "[  0  31  41  75  91 110 138] [ 31  41  75  91 110 138 150]\n",
      "[  0  60  71  84  93 107 137] [ 60  71  84  93 107 137 150]\n",
      "[  0  38  60  95 118 128 140] [ 38  60  95 118 128 140 150]\n",
      "[  0  11  23  44 104 119 129] [ 11  23  44 104 119 129 150]\n",
      "[  0  85 131] [ 85 131 150]\n",
      "[  0  19  75  97 107 114 126] [ 19  75  97 107 114 126 150]\n",
      "[  0  32  68  79  97 122 140] [ 32  68  79  97 122 140 150]\n",
      "[  0  14  51 103 117 125 137] [ 14  51 103 117 125 137 150]\n",
      "[  0   9  24  37 133 141] [  9  24  37 133 141 150]\n",
      "[  0  38  49  56  84 117 136] [ 38  49  56  84 117 136 150]\n",
      "[  0  22  31  70  87 123 138] [ 22  31  70  87 123 138 150]\n",
      "[  0 106] [106 150]\n",
      "[ 0  8 75 84] [  8  75  84 150]\n",
      "[  0  13  39  49  68 100 137] [ 13  39  49  68 100 137 150]\n",
      "[  0  66  74  95 105 114 136] [ 66  74  95 105 114 136 150]\n",
      "[  0  27  78  99 119 129] [ 27  78  99 119 129 150]\n",
      "[0] [150]\n",
      "[  0  11  46  69  83 106 125] [ 11  46  69  83 106 125 150]\n",
      "[  0   8  16  36  70 103 122] [  8  16  36  70 103 122 150]\n",
      "[  0  44  67  77 108 122 132] [ 44  67  77 108 122 132 150]\n",
      "[  0  14  37  62  84 107 116] [ 14  37  62  84 107 116 150]\n",
      "[  0  14  30  45  54  91 112] [ 14  30  45  54  91 112 150]\n",
      "[  0  13  34  43  75  86 103] [ 13  34  43  75  86 103 150]\n",
      "[  0  33  62  78  90 104 134] [ 33  62  78  90 104 134 150]\n",
      "[  0  43  57  71  99 119 139] [ 43  57  71  99 119 139 150]\n",
      "[  0  20  34  42  94 131] [ 20  34  42  94 131 150]\n",
      "[  0  28  62 103 125 133 141] [ 28  62 103 125 133 141 150]\n",
      "[  0  32  57  68 104 112 123] [ 32  57  68 104 112 123 150]\n",
      "[ 0  7 19 44 64 83 98] [  7  19  44  64  83  98 150]\n",
      "[  0  21  33  50 128 136] [ 21  33  50 128 136 150]\n",
      "[  0  22  33  46  80 101] [ 22  33  46  80 101 150]\n",
      "[ 0 30 39 75] [ 30  39  75 150]\n",
      "[0] [150]\n",
      "[0] [150]\n",
      "[ 0  9 32 40 48 56 72] [  9  32  40  48  56  72 150]\n",
      "[  0  25  50  70  83 104 134] [ 25  50  70  83 104 134 150]\n",
      "[ 0 23 60 67 80] [ 23  60  67  80 150]\n",
      "[  0  27  41  52  59  72 122] [ 27  41  52  59  72 122 150]\n",
      "[  0  43  88 101 109 120 132] [ 43  88 101 109 120 132 150]\n",
      "[ 0 12 30 72 81] [ 12  30  72  81 150]\n",
      "[  0  11  28  41  65  76 132] [ 11  28  41  65  76 132 150]\n",
      "[0] [150]\n",
      "[  0   7  19  30  75 124 139] [  7  19  30  75 124 139 150]\n",
      "[  0  28  74  82  94 102 135] [ 28  74  82  94 102 135 150]\n",
      "[  0  16  78 101 112 124 137] [ 16  78 101 112 124 137 150]\n",
      "[  0  70  78  94 106 122 140] [ 70  78  94 106 122 140 150]\n",
      "[  0  10  31  55  67 108 139] [ 10  31  55  67 108 139 150]\n",
      "[  0   8  62  77  87 107 120] [  8  62  77  87 107 120 150]\n",
      "[  0  18  63  85 113 126 141] [ 18  63  85 113 126 141 150]\n",
      "[  0  84  96 107 125 139] [ 84  96 107 125 139 150]\n",
      "[  0  87  95 113 132] [ 87  95 113 132 150]\n",
      "[ 0 34 41 54 66] [ 34  41  54  66 150]\n",
      "[  0  25  66 109 117 129 137] [ 25  66 109 117 129 137 150]\n",
      "[  0  65  76 106 119 132] [ 65  76 106 119 132 150]\n",
      "[  0  13  30  99 110 128] [ 13  30  99 110 128 150]\n",
      "[  0   9  25  32  42  67 128] [  9  25  32  42  67 128 150]\n",
      "[  0  15  30  41  66 122] [ 15  30  41  66 122 150]\n",
      "[  0  13  35  77 101 117 141] [ 13  35  77 101 117 141 150]\n",
      "[  0  14 118 137] [ 14 118 137 150]\n",
      "[  0  16  47  67  78  89 138] [ 16  47  67  78  89 138 150]\n",
      "[  0  16  43  62  79  99 126] [ 16  43  62  79  99 126 150]\n",
      "[  0  14  28  43  56  67 111] [ 14  28  43  56  67 111 150]\n",
      "[0] [150]\n",
      "[ 0 15 22 37 69 87 96] [ 15  22  37  69  87  96 150]\n",
      "[  0  34  42  53  81 108] [ 34  42  53  81 108 150]\n",
      "[ 0 19 29] [ 19  29 150]\n",
      "[  0  22  34  49  64  87 104] [ 22  34  49  64  87 104 150]\n",
      "[  0  15  34  45  56  72 125] [ 15  34  45  56  72 125 150]\n",
      "[  0  19  36  69  99 131 141] [ 19  36  69  99 131 141 150]\n",
      "[  0  27  76  84 102 117 137] [ 27  76  84 102 117 137 150]\n",
      "[  0   9 102 109 121 139] [  9 102 109 121 139 150]\n",
      "[  0  19  88 101 117 129] [ 19  88 101 117 129 150]\n",
      "[ 0 25 39 65 82 97] [ 25  39  65  82  97 150]\n",
      "[  0  39  62  79  87 103 119] [ 39  62  79  87 103 119 150]\n",
      "[  0  11  34  54  68  80 139] [ 11  34  54  68  80 139 150]\n",
      "[  0 112 137] [112 137 150]\n",
      "[  0  17  37  56 106 121 137] [ 17  37  56 106 121 137 150]\n",
      "[  0  80  94 107 128 137] [ 80  94 107 128 137 150]\n",
      "[0] [150]\n",
      "[  0  73  84  91 102 117 132] [ 73  84  91 102 117 132 150]\n",
      "[  0  10  19  39  77  93 109] [ 10  19  39  77  93 109 150]\n",
      "[  0  16  42  55  71 109] [ 16  42  55  71 109 150]\n",
      "[  0  23  40  56 117 125 134] [ 23  40  56 117 125 134 150]\n",
      "[ 0 14 38 47 56 85 96] [ 14  38  47  56  85  96 150]\n",
      "[  0  21  42  60  70 128 138] [ 21  42  60  70 128 138 150]\n",
      "[  0   7  50  92 103 111 124] [  7  50  92 103 111 124 150]\n",
      "[  0  74  89  97 110 118 128] [ 74  89  97 110 118 128 150]\n",
      "[0] [150]\n",
      "[  0 111 122 136] [111 122 136 150]\n",
      "[  0  70  79 101] [ 70  79 101 150]\n",
      "[  0  20  31  78  94 125] [ 20  31  78  94 125 150]\n",
      "[  0  72  85 100 112 123 137] [ 72  85 100 112 123 137 150]\n",
      "[  0  37  48  69  76  98 123] [ 37  48  69  76  98 123 150]\n",
      "[  0  57  69  79  98 105 135] [ 57  69  79  98 105 135 150]\n",
      "[  0  13  37  44  77  84 138] [ 13  37  44  77  84 138 150]\n",
      "[  0  19  40  69 101 129] [ 19  40  69 101 129 150]\n",
      "[  0  28  41  49  66 103 115] [ 28  41  49  66 103 115 150]\n"
     ]
    }
   ],
   "execution_count": 11
  },
  {
   "metadata": {
    "ExecuteTime": {
     "end_time": "2024-06-11T10:08:32.529635Z",
     "start_time": "2024-06-11T10:08:32.523599Z"
    }
   },
   "cell_type": "code",
   "source": [
    "# dump result to disk\n",
    "file_name = \"_\".join ( (predictor_name,dataset_name) )+\".npy\"\n",
    "file_path = os.path.join(\"attributions\", file_name)\n",
    "np.save( file_path, results )"
   ],
   "outputs": [],
   "execution_count": 9
  },
  {
   "cell_type": "code",
   "metadata": {
    "ExecuteTime": {
     "end_time": "2024-06-11T10:11:31.076660Z",
     "start_time": "2024-06-11T10:11:31.072107Z"
    }
   },
   "source": "results['attributions'][background_type].sum(axis=(1,2))",
   "outputs": [
    {
     "data": {
      "text/plain": [
       "array([-9.56390083e-01,  1.16674888e+00, -9.35321808e-01, -2.09154630e+00,\n",
       "        0.00000000e+00, -2.31724024e+00,  3.04134130e+00,  2.32914448e-01,\n",
       "       -1.60881102e+00, -4.77749467e-01,  2.40988350e+00,  1.65474248e+00,\n",
       "       -3.25472403e+00, -1.07835209e+00, -1.11364555e+00, -6.46999717e-01,\n",
       "       -9.66670513e-02,  3.48845720e-01,  0.00000000e+00,  2.36834955e+00,\n",
       "       -1.00147939e+00,  3.35213482e-01, -1.20195460e+00,  5.22527516e-01,\n",
       "        9.73926544e-01, -2.35491610e+00, -1.34536564e+00,  4.10208464e-01,\n",
       "       -2.00159597e+00, -9.68097568e-01,  1.86761975e+00, -1.96810460e+00,\n",
       "       -1.70643485e+00, -1.25338584e-01, -2.20549047e-01, -1.71060979e+00,\n",
       "       -1.42822599e+00, -1.99016660e-01, -8.47679138e-01, -2.16994834e+00,\n",
       "       -8.49690735e-01, -1.80075645e+00, -9.20104146e-01, -1.11758709e-08,\n",
       "        0.00000000e+00, -1.27716613e+00, -4.94556427e-01,  6.41708255e-01,\n",
       "       -2.58888578e+00, -1.17992020e+00,  8.71414661e-01, -1.26081228e-01,\n",
       "        2.19527149e+00,  2.18708396e-01,  2.10976338e+00, -1.22266090e+00,\n",
       "       -3.72225666e+00,  5.06644607e-01,  2.62696004e+00,  9.32936311e-01,\n",
       "        1.62033057e+00, -4.33968019e+00, -9.98352647e-01, -1.38659358e+00,\n",
       "        6.62510395e-02,  2.22483516e-01,  1.92737579e-01,  1.70838165e+00,\n",
       "        2.86959052e-01,  8.44151974e-02, -3.23477268e-01, -1.53193498e+00,\n",
       "       -2.69178033e-01,  1.09624910e+00, -1.56809711e+00, -1.67906523e-01,\n",
       "        1.91004491e+00, -3.85606706e-01, -1.75786757e+00, -1.39024663e+00,\n",
       "        1.34317935e+00, -1.37571299e+00, -3.10736966e+00, -4.90393996e-01,\n",
       "       -1.37613857e+00, -2.92345583e-02,  6.53279126e-02, -3.81178641e+00,\n",
       "        6.93152547e-01, -7.15712190e-01, -2.66287971e+00,  2.97534919e+00,\n",
       "       -5.10650992e-01, -2.11515427e+00, -2.50049531e-02, -3.35768461e+00,\n",
       "        3.08620501e+00,  6.29544854e-01,  2.97771573e+00, -1.23397279e+00,\n",
       "       -1.26781225e+00,  7.68521335e-03, -1.22714251e-01, -2.02728678e-02,\n",
       "                   nan, -6.82246732e-03,  9.41628233e+36, -3.88546623e-02,\n",
       "       -4.14710373e+36, -3.68717685e-03, -1.59195318e+36,  1.65468287e-02,\n",
       "       -3.06584500e-02, -2.99895741e-02,  0.00000000e+00,  5.79027086e-02,\n",
       "        2.18523107e-02,  2.54072975e-02,  0.00000000e+00,  1.72864869e-02,\n",
       "       -4.67972532e-02,  3.46250162e-02,  0.00000000e+00,  4.87435423e-02,\n",
       "       -8.89402926e-02,  3.55042703e-03,  0.00000000e+00, -1.91062111e-02,\n",
       "       -2.89970748e-02,  5.91386370e-02,  0.00000000e+00,  1.89039446e-02,\n",
       "       -9.58745107e-02, -2.59638429e-02,  0.00000000e+00, -1.30167650e-02,\n",
       "       -8.29281062e-02,  1.71666238e-02,  0.00000000e+00,  1.60441045e-02,\n",
       "        0.00000000e+00,  5.19987382e-02,  0.00000000e+00,  1.42284846e-02,\n",
       "       -1.21908002e-01,  1.00218952e-02,  0.00000000e+00,  4.25479077e-02,\n",
       "        1.11943185e-02,  3.98848131e-02], dtype=float32)"
      ]
     },
     "execution_count": 10,
     "metadata": {},
     "output_type": "execute_result"
    }
   ],
   "execution_count": 10
  },
  {
   "metadata": {},
   "cell_type": "code",
   "outputs": [],
   "execution_count": null,
   "source": ""
  }
 ],
 "metadata": {
  "kernelspec": {
   "display_name": "env_segment_shap",
   "language": "python",
   "name": "python3"
  },
  "language_info": {
   "codemirror_mode": {
    "name": "ipython",
    "version": 3
   },
   "file_extension": ".py",
   "mimetype": "text/x-python",
   "name": "python",
   "nbconvert_exporter": "python",
   "pygments_lexer": "ipython3",
   "version": "3.11.9"
  }
 },
 "nbformat": 4,
 "nbformat_minor": 2
}
