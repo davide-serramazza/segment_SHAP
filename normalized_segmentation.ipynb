{
 "cells": [
  {
   "cell_type": "code",
   "metadata": {
    "ExecuteTime": {
     "end_time": "2024-11-06T12:31:25.396190Z",
     "start_time": "2024-11-06T12:31:25.371759Z"
    }
   },
   "source": [
    "%reset -f"
   ],
   "outputs": [],
   "execution_count": 1
  },
  {
   "cell_type": "markdown",
   "metadata": {},
   "source": []
  },
  {
   "cell_type": "markdown",
   "metadata": {},
   "source": []
  },
  {
   "cell_type": "markdown",
   "metadata": {},
   "source": [
    "# imports"
   ]
  },
  {
   "cell_type": "code",
   "metadata": {
    "ExecuteTime": {
     "end_time": "2024-11-06T12:35:04.224384Z",
     "start_time": "2024-11-06T12:35:02.391943Z"
    }
   },
   "source": [
    "from captum.attr import ShapleyValueSampling\n",
    "from load_data import load_data\n",
    "\n",
    "from segmentation import *\n",
    "from utils import *\n",
    "import torch\n",
    "import os\n",
    "from tqdm import tqdm\n",
    "import timeit\n",
    "import sys\n",
    "\n",
    "# device for torch\n",
    "from torch.cuda import is_available as is_GPU_available\n",
    "device = \"cuda\" if is_GPU_available() else \"cpu\""
   ],
   "outputs": [],
   "execution_count": 1
  },
  {
   "cell_type": "markdown",
   "metadata": {},
   "source": [
    "# hyper-parameters"
   ]
  },
  {
   "cell_type": "code",
   "metadata": {
    "ExecuteTime": {
     "end_time": "2024-11-06T12:35:04.228098Z",
     "start_time": "2024-11-06T12:35:04.225332Z"
    }
   },
   "source": [
    "batch_size = 50\n",
    "\n",
    "dataset_names = {'gunpoint'}    #{sys.argv[1]}\n",
    "predictor_names = {'miniRocket'}    #{sys.argv[2]} {\"randomForest\", 'miniRocket', 'resNet'}\n",
    "segmentation_names = [ \"equal\", \"clasp\" ,\"greedygaussian\", \"infogain\",\"nnsegment\"]  # {\"clasp\",\"greedygaussian\", \"equal\", \"infogain\",\"nnsegment\"} # {\"clasp\",\"greedygaussian\", \"equal\", \"infogain\",\"nnsegment\"} \n",
    "background_names =  [ \"average\", \"sampling\" ,\"zero\" ] #{\"average\", \"zero\", \"sampling\"}\n",
    "normalization_names = {\"default\", \"normalized\"}\n",
    "\n",
    "demo_mode = False\n",
    "# demo\n",
    "if demo_mode:\n",
    "    dataset_names = {'UWAVE'}\n",
    "    predictor_names = {\"resNet\"}\n",
    "    segmentation_names = { \"clasp\" ,\"greedygaussian\", \"infogain\",\"nnsegment\", \"equal\"} #,'clasp'}\n",
    "    background_names ={\"zero\",\"average\", \"sampling\"} #,'sampling'}\n",
    "    normalization_names = {\"default\", \"normalized\"}\n"
   ],
   "outputs": [],
   "execution_count": 2
  },
  {
   "cell_type": "markdown",
   "metadata": {},
   "source": "# instantiate dictionaries used in the pipeline"
  },
  {
   "cell_type": "code",
   "metadata": {
    "ExecuteTime": {
     "end_time": "2024-11-06T12:35:04.237336Z",
     "start_time": "2024-11-06T12:35:04.228698Z"
    }
   },
   "source": [
    "# dictionary mapping predictors to torch vs other, step necessary for Captum \n",
    "predictors = {\n",
    "    'torch' : ['resNet'],\n",
    "    'scikit' : ['miniRocket','randomForest','QUANT']\n",
    "}\n",
    "segmentation_dict = {\"clasp\":get_claSP_segmentation, \"infogain\": get_InformationGain_segmentation, \"greedygaussian\": get_GreedyGaussian_segmentation, \"equal\": get_equal_segmentation, \"nnsegment\": get_NNSegment_segmentation}\n",
    "\n",
    "results = dict.fromkeys(('y_test_true', 'label_mapping', \"segments\", 'y_test_pred', \"attributions\"))\n",
    "for key in results.keys():\n",
    "    results[key] = dict.fromkeys(dataset_names)\n",
    "    \n",
    "normalization_names = normalization_names | {\"default\"}\n"
   ],
   "outputs": [],
   "execution_count": 3
  },
  {
   "cell_type": "markdown",
   "metadata": {},
   "source": [
    "# train model"
   ]
  },
  {
   "cell_type": "code",
   "metadata": {
    "ExecuteTime": {
     "end_time": "2024-11-06T12:35:05.653787Z",
     "start_time": "2024-11-06T12:35:05.295144Z"
    }
   },
   "source": [
    "from models.predictor_utils import load_predictor, predict_proba\n",
    "from models.train_models import *\n",
    "\n",
    "for dataset_name in dataset_names:\n",
    "    # init dataset and update the dict to be dumped\n",
    "    X_train, X_test, y_train, y_test, enc = load_data(subset='all', dataset_name=dataset_name)\n",
    "    results['y_test_true'][dataset_name] = y_test ; results['label_mapping'][dataset_name] = enc\n",
    "    for k in [\"attributions\", \"segments\", \"y_test_pred\"] :\n",
    "        results[k][dataset_name] =  dict.fromkeys(segmentation_names)\n",
    "        \n",
    "    # for debugging only\n",
    "    if demo_mode:\n",
    "        X_test = X_test[:2]\n",
    "        y_test = y_test[:2]\n",
    "\n",
    "    # TODO not to save if in demo mode!\n",
    "    for predictor_name in predictor_names:\n",
    "\n",
    "        if predictor_name=='resNet':\n",
    "            clf = load_predictor(\"trained_models\",predictor_name=predictor_name,dataset_name=dataset_name)\n",
    "            preds = predict_proba(clf=clf,samples=X_test)\n",
    "            #clf,preds = train_ResNet(X_train, y_train, X_test, y_test, dataset_name,device=device, dir_name=\"trained_models\")\n",
    "        elif predictor_name=='miniRocket':\n",
    "            #clf,preds = train_miniRocket(X_train, y_train, X_test, y_test, dataset_name, dir_name=\"trained_models\")\n",
    "            clf = load_predictor(\"trained_models\",predictor_name=predictor_name,dataset_name=dataset_name)\n",
    "            preds = predict_proba(clf=clf,samples=X_test)\n",
    "        elif predictor_name==\"randomForest\":\n",
    "            clf = load_predictor(\"trained_models\",predictor_name=predictor_name,dataset_name=dataset_name)\n",
    "            preds = predict_proba(clf=clf,samples=X_test)\n",
    "            #clf, preds = train_randomForest(X_train, y_train, X_test, y_test, dataset_name, dir_name=\"trained_models\")\n",
    "        elif predictor_name==\"QUANT\":\n",
    "            #clf, preds = train_QUANT(X_train, y_train, X_test, y_test, dataset_name, dir_name=\"trained_models\")\n",
    "            clf = load_predictor(\"trained_models\",predictor_name=predictor_name,dataset_name=dataset_name)\n",
    "            preds = predict_proba(clf=clf,samples=X_test)\n",
    "        else:\n",
    "            raise ValueError(\"predictor not found\")\n",
    "\n",
    "        results['y_test_pred'][dataset_name][predictor_name] = preds\n"
   ],
   "outputs": [],
   "execution_count": 4
  },
  {
   "cell_type": "code",
   "metadata": {
    "ExecuteTime": {
     "end_time": "2024-11-06T12:35:07.642116Z",
     "start_time": "2024-11-06T12:35:07.636015Z"
    }
   },
   "source": [
    "def initialize_result_dict(X_test,predictor_names,dataset_name,segmentation_name,results):\n",
    "    \n",
    "    init_segments = np.empty((X_test.shape[0], X_test.shape[1]), dtype=object) if X_test.shape[1] > 1 else ( np.empty(X_test.shape[0], dtype=object))\n",
    "    results[\"segments\"][dataset_name][segmentation_name] = init_segments.copy()\n",
    "    results[\"attributions\"][dataset_name][segmentation_name] = dict.fromkeys(predictor_names)\n",
    "    for predictor_name in predictor_names:\n",
    "        results[\"attributions\"][dataset_name][segmentation_name][predictor_name] = dict.fromkeys(background_names)"
   ],
   "outputs": [],
   "execution_count": 5
  },
  {
   "cell_type": "code",
   "metadata": {
    "ExecuteTime": {
     "end_time": "2024-11-06T12:35:07.971346Z",
     "start_time": "2024-11-06T12:35:07.968460Z"
    }
   },
   "source": [
    "def get_sample_info(segmentation_method, mask_list, ts_list, y_list, sample ,n_cps):\n",
    "    \n",
    "    # get current sample and label\n",
    "    x, y = sample[0]  , torch.tensor((sample[1]))\n",
    "    ts = torch.tensor(x)\n",
    "    # get segment and its tensor representation\n",
    "    current_segments = segmentation_method(x[0] , n_segments= n_cps)[:X_test.shape[1]]\n",
    "    mask = get_feature_mask(current_segments, ts.shape[-1])\n",
    "    \n",
    "    # append any relevant information into the correct list\n",
    "    mask_list.append(mask)\n",
    "    ts_list.append(ts)\n",
    "    y_list.append(y)\n",
    "    \n",
    "    return ts,y,mask, current_segments\n"
   ],
   "outputs": [],
   "execution_count": 6
  },
  {
   "cell_type": "code",
   "metadata": {
    "ExecuteTime": {
     "end_time": "2024-11-06T12:35:08.385022Z",
     "start_time": "2024-11-06T12:35:08.381034Z"
    }
   },
   "source": [
    "from utils import sample_background\n",
    "\n",
    "def get_background( background_name, X_train, n_background=50):\n",
    "\n",
    "    # background data\n",
    "    if background_name == \"zero\":\n",
    "        background_dataset = torch.zeros((1,) + X_train.shape[1:])\n",
    "    elif background_name == \"sampling\":\n",
    "        background_dataset = sample_background(X_train, n_background)\n",
    "    elif background_name == \"average\":\n",
    "        background_dataset = sample_background(X_train, n_background).mean(axis=0, keepdim=True)\n",
    "\n",
    "    return background_dataset\n"
   ],
   "outputs": [],
   "execution_count": 7
  },
  {
   "cell_type": "code",
   "metadata": {
    "ExecuteTime": {
     "end_time": "2024-11-06T12:35:08.729733Z",
     "start_time": "2024-11-06T12:35:08.726094Z"
    }
   },
   "source": [
    "def get_attribution(explainer, ts, mask, background_dataset,y, sampling ): \n",
    "    \n",
    "    if sampling:\n",
    "        # get rid of first dimension as it's always 1\n",
    "        # TODO try to flatten multiple singles \"50 samples\" into a 3D dataset and get the performances of that\n",
    "        ts = ts[0] ;  mask= mask[0] ; y=y[0]\n",
    "\n",
    "    if predictor_name in predictors['scikit']:\n",
    "        \n",
    "        tmp = explainer.attribute(ts, target=y, feature_mask=mask, baselines=background_dataset, additional_forward_args=clf)\n",
    "\n",
    "    elif predictor_name in predictors['torch']:\n",
    "        # if use torch make sure everything is on selected device\n",
    "        ts = ts.to(device); y = y.to(device) ; mask = mask.to(device); background_dataset = background_dataset.to(device)\n",
    "        tmp = explainer.attribute(ts, target=y, feature_mask=mask, baselines=background_dataset)\n",
    "\n",
    "    # in case of random forest 'un-flatten' result\n",
    "    if predictor_name==\"randomForest\":\n",
    "        tmp = tmp.reshape(-1,X_test.shape[1],X_test.shape[2])\n",
    "\n",
    "    # lastly store current explanation in the data structure; if sampling store the mean\n",
    "    saliency_map = torch.mean(tmp, dim=0,  keepdim=True).cpu().numpy() if sampling else tmp.cpu().numpy()\n",
    "    return saliency_map\n"
   ],
   "outputs": [],
   "execution_count": 8
  },
  {
   "cell_type": "code",
   "metadata": {
    "ExecuteTime": {
     "end_time": "2024-11-06T12:35:09.146479Z",
     "start_time": "2024-11-06T12:35:09.141844Z"
    }
   },
   "source": [
    "def store_results(table, segmentation_name, normalization_names, current_results, start):\n",
    "    \n",
    "    # store \"default\" result\n",
    "    n_results = current_results.shape[0]\n",
    "    if 'default' in normalization_names:\n",
    "        table['default'][start: (start+n_results) ] = current_results\n",
    "\n",
    "    \n",
    "    # and normalized result\n",
    "    if \"normalized\" in normalization_names:\n",
    "        weights = np.array(list(map(\n",
    "            lambda segmentation: list(map(\n",
    "                lambda channel_segemnts: lengths_to_weights(change_points_to_lengths(channel_segemnts, X_train.shape[-1])),\n",
    "                segmentation)),\n",
    "            results[\"segments\"][dataset_name][segmentation_name][start: (start+n_results) ]  )))\n",
    "        \n",
    "        table['normalized'][start: (start+n_results) ]  = current_results * weights\n",
    "    "
   ],
   "outputs": [],
   "execution_count": 9
  },
  {
   "metadata": {},
   "cell_type": "markdown",
   "source": "# ideal n_cps to be found"
  },
  {
   "metadata": {
    "ExecuteTime": {
     "end_time": "2024-11-06T12:35:09.962221Z",
     "start_time": "2024-11-06T12:35:09.960092Z"
    }
   },
   "cell_type": "code",
   "source": [
    "ideal_n_cps = {\n",
    "    \"gunpoint\" : 3,\n",
    "    \"UWAVE\" : 7 ,\n",
    "    \"EOG\" : 5,\n",
    "    \"MP8\" : 8,\n",
    "    \"KeplerLightCurves\" : 15\n",
    "}"
   ],
   "outputs": [],
   "execution_count": 10
  },
  {
   "cell_type": "code",
   "metadata": {
    "ExecuteTime": {
     "end_time": "2024-11-06T12:37:45.153938Z",
     "start_time": "2024-11-06T12:35:10.622800Z"
    }
   },
   "source": [
    "from models.SHAP_dataloader import SHAP_dataloader\n",
    "from torch.utils.data import DataLoader\n",
    "\n",
    "starttime = timeit.default_timer()\n",
    "\n",
    "with torch.no_grad():\n",
    "    for dataset_name in dataset_names:\n",
    "        \n",
    "        for segmentation_name in segmentation_names:\n",
    "            \n",
    "            # initialize part of the dictionary and lists to be used\n",
    "            initialize_result_dict(X_test,predictor_names,dataset_name,segmentation_name,results)\n",
    "            segmentation_method = segmentation_dict[segmentation_name]\n",
    "            \n",
    "            ts_list = [] ; mask_list = [] ; y_list = []\n",
    "            n_samples, n_chs, ts_length = X_test.shape\n",
    "\n",
    "            # first run segmentation\n",
    "            for i in range(n_samples) : \n",
    "                ts,y,mask, current_segment = get_sample_info( segmentation_method, mask_list, ts_list, y_list , sample=( X_test[i:i+1], y_test[i:i + 1]) ,n_cps = ideal_n_cps[dataset_name]  )\n",
    "                results['segments'][dataset_name][segmentation_name][i] = current_segment\n",
    "\n",
    "            for background_name in background_names:\n",
    "\n",
    "                # get the background for the current data\n",
    "                results[\"attributions\"][dataset_name][segmentation_name][predictor_name][background_name] = dict.fromkeys(normalization_names)\n",
    "                background_dataset = get_background( background_name, X_train)\n",
    "\n",
    "                for predictor_name in predictor_names:\n",
    "                    # get classifier and initialize attributions\n",
    "                    init_attributions = np.zeros(X_test.shape, dtype=np.float32)\n",
    "                    for normalization_name in normalization_names:\n",
    "                        results['attributions'][dataset_name][segmentation_name][predictor_name][background_name][normalization_name] = init_attributions.copy()\n",
    "\n",
    "                    # instantiate SHAP explainer                    \n",
    "                    SHAP = ShapleyValueSampling(clf) if predictor_name in predictors['torch'] else ShapleyValueSampling(forward_classification)\n",
    "                    \n",
    "                    # prepare for batch computation\n",
    "                    data_loader = DataLoader( SHAP_dataloader(ts_list,y_list,mask_list, background_dim=background_dataset.shape[0] ) ,\n",
    "                        batch_size= 1 if background_name=='sampling' else batch_size)\n",
    "                    \n",
    "                    # computation loop\n",
    "                    current_idx = 0\n",
    "                    with tqdm(total=len(ts_list)) as pbar:\n",
    "                        for (ts,y,mask) in data_loader:\n",
    "        \n",
    "                            current_results = get_attribution( SHAP, ts,mask,background_dataset,y, \n",
    "                                    sampling= (background_name=='sampling') )\n",
    "                            \n",
    "                            store_results(table=results['attributions'][dataset_name][segmentation_name][predictor_name][background_name], segmentation_name =segmentation_name, normalization_names=normalization_names,current_results=current_results, start=current_idx)\n",
    "                            \n",
    "                            # update counters\n",
    "                            pbar.update(current_results.shape[0])  ; current_idx+=current_results.shape[0]\n",
    "                            sys.stderr.flush() ; sys.stdout.flush()\n",
    "                            \n",
    "                    pbar.close()\n",
    "                    \n",
    "print(\"elapsed time\", ( timeit.default_timer() -starttime ) )\n"
   ],
   "outputs": [
    {
     "name": "stderr",
     "output_type": "stream",
     "text": [
      "100%|██████████| 150/150 [00:10<00:00, 14.83it/s]\n",
      " 25%|██▍       | 37/150 [02:24<07:20,  3.90s/it]\n",
      "\n",
      "KeyboardInterrupt\n",
      "\n"
     ]
    }
   ],
   "execution_count": 11
  },
  {
   "metadata": {
    "ExecuteTime": {
     "end_time": "2024-11-05T12:15:29.417268Z",
     "start_time": "2024-11-05T12:15:29.400219Z"
    }
   },
   "cell_type": "code",
   "source": [
    "# dump result to disk\n",
    "if not demo_mode:\n",
    "    file_name = \"_\".join( (\"all_results\",dataset_name,predictor_name) )\n",
    "else:\n",
    "\tfile_name = \"_\".join( (\"all_results_DEMO_\",dataset_name,predictor_name) )\n",
    "file_path = os.path.join(\"attributions\", file_name)\n",
    "np.save( file_path, results )"
   ],
   "outputs": [],
   "execution_count": 13
  },
  {
   "cell_type": "code",
   "execution_count": null,
   "metadata": {},
   "outputs": [],
   "source": []
  },
  {
   "cell_type": "code",
   "execution_count": null,
   "metadata": {},
   "outputs": [],
   "source": []
  },
  {
   "cell_type": "code",
   "execution_count": null,
   "metadata": {},
   "outputs": [],
   "source": []
  }
 ],
 "metadata": {
  "kernelspec": {
   "display_name": "Python 3 (ipykernel)",
   "language": "python",
   "name": "python3"
  },
  "language_info": {
   "codemirror_mode": {
    "name": "ipython",
    "version": 3
   },
   "file_extension": ".py",
   "mimetype": "text/x-python",
   "name": "python",
   "nbconvert_exporter": "python",
   "pygments_lexer": "ipython3",
   "version": "3.11.9"
  }
 },
 "nbformat": 4,
 "nbformat_minor": 4
}
