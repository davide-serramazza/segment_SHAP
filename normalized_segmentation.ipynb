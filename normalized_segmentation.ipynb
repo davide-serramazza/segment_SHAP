{
 "cells": [
  {
   "cell_type": "code",
   "metadata": {
    "ExecuteTime": {
     "end_time": "2024-10-24T10:07:53.731540Z",
     "start_time": "2024-10-24T10:07:53.614807Z"
    }
   },
   "source": "%reset -f",
   "outputs": [],
   "execution_count": 4
  },
  {
   "cell_type": "markdown",
   "metadata": {},
   "source": []
  },
  {
   "metadata": {},
   "cell_type": "markdown",
   "source": ""
  },
  {
   "metadata": {},
   "cell_type": "markdown",
   "source": "# imports"
  },
  {
   "cell_type": "code",
   "metadata": {
    "ExecuteTime": {
     "end_time": "2024-10-24T10:07:55.504607Z",
     "start_time": "2024-10-24T10:07:54.183265Z"
    }
   },
   "source": [
    "from captum.attr import ShapleyValueSampling\n",
    "from load_data import load_data\n",
    "from models.model_wrappers import *\n",
    "from models.train_models import *\n",
    "from segmentation import *\n",
    "from utils import *\n",
    "import torch\n",
    "import os\n",
    "from tqdm import tqdm\n",
    "import timeit\n",
    "import sys\n",
    "from torch.cuda import is_available as is_GPU_available\n",
    "# device for torch\n",
    "device = \"cuda\" if is_GPU_available() else \"cpu\""
   ],
   "outputs": [],
   "execution_count": 5
  },
  {
   "cell_type": "markdown",
   "metadata": {},
   "source": [
    "# hyper-parameters"
   ]
  },
  {
   "cell_type": "code",
   "metadata": {
    "ExecuteTime": {
     "end_time": "2024-10-24T10:07:55.724446Z",
     "start_time": "2024-10-24T10:07:55.722063Z"
    }
   },
   "source": [
    "batch_size = 50\n",
    "\n",
    "dataset_names = {'gunpoint'}    #{sys.argv[1]}\n",
    "predictor_names = {'resNet'}    #{sys.argv[2]} {\"randomForest\", 'miniRocket', 'resNet'}\n",
    "segmentation_names = [ \"equal\" ] #,\"clasp\",\"greedygaussian\", \"infogain\",\"nnsegment\"]  # {\"clasp\",\"greedygaussian\", \"equal\", \"infogain\",\"nnsegment\"} # {\"clasp\",\"greedygaussian\", \"equal\", \"infogain\",\"nnsegment\"} \n",
    "background_names =  [ \"sampling\", \"average\" , \"zero\"] # , \"sampling\",] #{\"average\", \"zero\", \"sampling\"}\n",
    "normalization_names = {\"default\", \"normalized\"}\n",
    "\n",
    "demo_mode = True\n",
    "# demo\n",
    "if demo_mode:\n",
    "    dataset_names = {'gunpoint'}\n",
    "    predictor_names = {\"resNet\"}\n",
    "    segmentation_names = { \"equal\", \"infogain\"} #,'clasp'}\n",
    "    background_names ={\"average\",\"sampling\"} #,'sampling'}\n",
    "    normalization_names = {\"default\", \"normalized\"}\n"
   ],
   "outputs": [],
   "execution_count": 6
  },
  {
   "cell_type": "markdown",
   "metadata": {},
   "source": "# instantiate dictionaries that gonna be used in the pipeline"
  },
  {
   "cell_type": "code",
   "metadata": {
    "ExecuteTime": {
     "end_time": "2024-10-24T10:07:56.426646Z",
     "start_time": "2024-10-24T10:07:56.423926Z"
    }
   },
   "source": [
    "# dictionary mapping predictors to torch vs other, step necessary for Captum \n",
    "predictors = {\n",
    "    'torch' : ['resNet'],\n",
    "    'scikit' : ['miniRocket','randomForest','QUANT']\n",
    "}\n",
    "segmentation_dict = {\"clasp\":get_claSP_segmentation, \"infogain\": get_InformationGain_segmentation, \"greedygaussian\": get_GreedyGaussian_segmentation, \"equal\": get_equal_segmentation, \"nnsegment\": get_NNSegment_segmentation}\n",
    "\n",
    "results = dict.fromkeys(('y_test_true', 'label_mapping', \"segments\", 'y_test_pred', \"attributions\"))\n",
    "for key in results.keys():\n",
    "    results[key] = dict.fromkeys(dataset_names)\n",
    "    \n",
    "normalization_names = normalization_names | {\"default\"}\n"
   ],
   "outputs": [],
   "execution_count": 7
  },
  {
   "cell_type": "markdown",
   "metadata": {},
   "source": [
    "# train model"
   ]
  },
  {
   "cell_type": "code",
   "metadata": {
    "ExecuteTime": {
     "end_time": "2024-10-24T10:07:58.739995Z",
     "start_time": "2024-10-24T10:07:57.394507Z"
    }
   },
   "source": [
    "from models.predictor_utils import load_predictor, predict_proba\n",
    "\n",
    "for dataset_name in dataset_names:\n",
    "    # init dataset\n",
    "    # load data\n",
    "    X_train, X_test, y_train, y_test, enc = load_data(subset='all', dataset_name=dataset_name)\n",
    "    # for debugging only\n",
    "    if demo_mode:\n",
    "        X_test = X_test[:2]\n",
    "        y_test = y_test[:2]\n",
    "\n",
    "    n_samples, n_chs, ts_length = X_test.shape\n",
    "\n",
    "    results['y_test_true'][dataset_name] = y_test\n",
    "    results['label_mapping'][dataset_name] = enc\n",
    "    results[\"attributions\"][dataset_name] = dict.fromkeys(segmentation_names)\n",
    "    results[\"segments\"][dataset_name] = dict.fromkeys(segmentation_names)\n",
    "    results[\"y_test_pred\"][dataset_name] = dict.fromkeys(predictor_names)\n",
    "\n",
    "    predictor_dict = dict()\n",
    "    # TODO not to save if in demo mode!\n",
    "    for predictor_name in predictor_names:\n",
    "        if demo_mode:\n",
    "            dataset_name=None\n",
    "\n",
    "        if predictor_name=='resNet':\n",
    "            clf,preds = train_ResNet(X_train, y_train, X_test, y_test, dataset_name,device=device, dir_name=\"trained_models\")\n",
    "        elif predictor_name=='miniRocket':\n",
    "            clf,preds = train_miniRocket(X_train, y_train, X_test, y_test, dataset_name, dir_name=\"trained_models\")\n",
    "        elif predictor_name==\"randomForest\":\n",
    "            clf, preds = train_randomForest(X_train, y_train, X_test, y_test, dataset_name, dir_name=\"trained_models\")\n",
    "        elif predictor_name==\"QUANT\":\n",
    "            clf, preds = train_QUANT(X_train, y_train, X_test, y_test, dataset_name, dir_name=\"trained_models\")\n",
    "        else:\n",
    "            raise ValueError(\"predictor not found\")\n",
    "\n",
    "        predictor_dict[predictor_name] = {\"clf\": clf, \"preds\": preds}\n"
   ],
   "outputs": [
    {
     "name": "stdout",
     "output_type": "stream",
     "text": [
      "training ResNet\n",
      "Epoch 1: train loss:  0.695, \t train accuracy  0.460 \n",
      "          test loss:  0.742,  \t test accuracy  0.500\n",
      "Epoch 11: train loss:  0.652, \t train accuracy  0.580 \n",
      "          test loss:  0.742,  \t test accuracy  0.500\n",
      "training early stopped! Final stats are:\n",
      "Epoch 15: train loss:  0.618, \t train accuracy  0.580 \n",
      "          test loss:  0.648,  \t test accuracy  1.000\n",
      "accuracy for resNet is  1.0\n"
     ]
    }
   ],
   "execution_count": 8
  },
  {
   "metadata": {
    "ExecuteTime": {
     "end_time": "2024-10-24T10:08:00.252543Z",
     "start_time": "2024-10-24T10:08:00.249238Z"
    }
   },
   "cell_type": "code",
   "source": [
    "def initialize_result_dict(X_test,predictor_names,dataset_name,segmentation_name,results):\n",
    "    \n",
    "    init_segments = np.empty((X_test.shape[0], X_test.shape[1]), dtype=object) if X_test.shape[1] > 1 else ( np.empty(X_test.shape[0], dtype=object))\n",
    "    results[\"segments\"][dataset_name][segmentation_name] = init_segments.copy()\n",
    "    results[\"attributions\"][dataset_name][segmentation_name] = dict.fromkeys(predictor_names)\n",
    "    for predictor_name in predictor_names:\n",
    "        results[\"attributions\"][dataset_name][segmentation_name][predictor_name] = dict.fromkeys(background_names)"
   ],
   "outputs": [],
   "execution_count": 9
  },
  {
   "metadata": {
    "ExecuteTime": {
     "end_time": "2024-10-24T10:08:00.414785Z",
     "start_time": "2024-10-24T10:08:00.410977Z"
    }
   },
   "cell_type": "code",
   "source": [
    "def get_sample_info(segmentation_method, mask_list, ts_list, y_list, sample):\n",
    "    \n",
    "    # get current sample and label\n",
    "    ts, y = torch.tensor(sample[0] ) , torch.tensor((sample[1]))\n",
    "    # get segment and its tensor representation\n",
    "    current_segments = segmentation_method(ts[0])[:X_test.shape[1]]\n",
    "    mask = get_feature_mask(current_segments, ts.shape[-1])\n",
    "    \n",
    "    # append any relevant information into the correct list\n",
    "    mask_list.append(mask)\n",
    "    ts_list.append(ts)\n",
    "    y_list.append(y)\n",
    "    \n",
    "    return ts,y,mask, current_segments\n"
   ],
   "outputs": [],
   "execution_count": 10
  },
  {
   "metadata": {
    "ExecuteTime": {
     "end_time": "2024-10-24T10:08:00.565610Z",
     "start_time": "2024-10-24T10:08:00.561378Z"
    }
   },
   "cell_type": "code",
   "source": [
    "from utils import sample_background\n",
    "\n",
    "def get_background( background_name, X_train, n_background=50):\n",
    "\n",
    "    # background data\n",
    "    if background_name == \"zero\":\n",
    "        background_dataset = torch.zeros((1,) + X_train.shape[1:])\n",
    "    elif background_name == \"sampling\":\n",
    "        background_dataset = sample_background(X_train, n_background)\n",
    "    elif background_name == \"average\":\n",
    "        background_dataset = sample_background(X_train, n_background).mean(axis=0, keepdim=True)\n",
    "\n",
    "    return background_dataset\n"
   ],
   "outputs": [],
   "execution_count": 11
  },
  {
   "metadata": {
    "ExecuteTime": {
     "end_time": "2024-10-24T10:08:00.737658Z",
     "start_time": "2024-10-24T10:08:00.730083Z"
    }
   },
   "cell_type": "code",
   "source": [
    "def get_attribution(explainer, ts, mask, background_dataset,y, sampling ): \n",
    "    \n",
    "    if sampling:\n",
    "        # get rid of first dimension as it's always 1\n",
    "        # TODO try to flatten multiple singles \"50 samples\" into a 3D dataset and get the performances of that\n",
    "        ts = ts[0] ;  mask= mask[0] ; y=y[0]\n",
    "\n",
    "    if predictor_name in predictors['scikit']:\n",
    "        \n",
    "        tmp = explainer.attribute(ts, target=y, feature_mask=mask, baselines=background_dataset, additional_forward_args=clf)\n",
    "\n",
    "    elif predictor_name in predictors['torch']:\n",
    "        # if use torch make sure everything is on selected device\n",
    "        ts = ts.to(device); y = y.to(device) ; mask = mask.to(device); background_dataset = background_dataset.to(device)\n",
    "        tmp = explainer.attribute(ts, target=y, feature_mask=mask, baselines=background_dataset)\n",
    "\n",
    "    # in case of random forest 'un-flatten' result\n",
    "    if predictor_name==\"randomForest\":\n",
    "        tmp = tmp.reshape(-1,X_test.shape[1],X_test.shape[2])\n",
    "\n",
    "    # lastly store current explanation in the data structure; if sampling store the mean\n",
    "    saliency_map = torch.mean(tmp, dim=0).cpu().numpy() if sampling else tmp.cpu().numpy()\n",
    "    return saliency_map\n"
   ],
   "outputs": [],
   "execution_count": 12
  },
  {
   "metadata": {},
   "cell_type": "markdown",
   "source": ""
  },
  {
   "metadata": {
    "ExecuteTime": {
     "end_time": "2024-10-24T10:08:01.126888Z",
     "start_time": "2024-10-24T10:08:01.123271Z"
    }
   },
   "cell_type": "code",
   "source": [
    "def store_results(table, segmentation_name, normalization_names, current_results, start):\n",
    "    \n",
    "    # store \"default\" result\n",
    "    n_results = current_results.shape[0]\n",
    "    if 'default' in normalization_names:\n",
    "        table['default'][start: (start+n_results) ] = current_results\n",
    "\n",
    "    \n",
    "    # and normalized result\n",
    "    # TODO to be improved!\n",
    "    if \"normalized\" in normalization_names:\n",
    "        weights = np.array(list(map(\n",
    "            lambda segmentation: list(map(\n",
    "                lambda channel_segemnts: lengths_to_weights(change_points_to_lengths(channel_segemnts, X_train.shape[-1])),\n",
    "                segmentation)),\n",
    "            results[\"segments\"][dataset_name][segmentation_name][start: (start+n_results) ]  )))\n",
    "        \n",
    "        table['normalized'][start: (start+n_results) ]  = current_results * weights\n",
    "    "
   ],
   "outputs": [],
   "execution_count": 13
  },
  {
   "metadata": {},
   "cell_type": "markdown",
   "source": "# DO WE WANT A STATIC BACKGROUND????????????????????????????????????????????????"
  },
  {
   "cell_type": "code",
   "metadata": {
    "ExecuteTime": {
     "end_time": "2024-10-24T10:08:07.812971Z",
     "start_time": "2024-10-24T10:08:02.359880Z"
    }
   },
   "source": [
    "from models.SHAP_dataloader import SHAP_dataloader\n",
    "from torch.utils.data import DataLoader\n",
    "\n",
    "starttime = timeit.default_timer()\n",
    "\n",
    "with torch.no_grad():\n",
    "    for dataset_name in dataset_names:\n",
    "        for predictor_name in predictor_names:\n",
    "            # copy current predictor prediction into the 'results' dictionary to be dumped\n",
    "            results['y_test_pred'][dataset_name][predictor_name] = predictor_dict[predictor_name][\"preds\"]\n",
    "        for segmentation_name in segmentation_names:\n",
    "            \n",
    "            # initialize part of the dictionary and lists to be used\n",
    "            initialize_result_dict(X_test,predictor_names,dataset_name,segmentation_name,results)\n",
    "            segmentation_method = segmentation_dict[segmentation_name]\n",
    "            ts_list = [] ; mask_list = [] ; y_list = []\n",
    "            \n",
    "            # first run the segmentation\n",
    "            for i in range(n_samples) : \n",
    "                ts,y,mask, current_segment = get_sample_info( segmentation_method, mask_list, ts_list, y_list , sample=( X_test[i:i+1], y_test[i:i + 1])  )\n",
    "                results['segments'][dataset_name][segmentation_name][i] = current_segment\n",
    "\n",
    "            for background_name in background_names:\n",
    "\n",
    "                # get the background for the current data\n",
    "                results[\"attributions\"][dataset_name][segmentation_name][predictor_name][background_name] = dict.fromkeys(normalization_names)\n",
    "                background_dataset = get_background( background_name, X_train)\n",
    "\n",
    "                for predictor_name in predictor_names:\n",
    "                    # get classifier and initialize attributions\n",
    "                    clf = predictor_dict[predictor_name][\"clf\"]\n",
    "                    init_attributions = np.zeros(X_test.shape, dtype=np.float32)\n",
    "                    for normalization_name in normalization_names:\n",
    "                        results['attributions'][dataset_name][segmentation_name][predictor_name][background_name][normalization_name] = init_attributions.copy()\n",
    "\n",
    "                    # instantiate SHAP explainer                    \n",
    "                    SHAP = ShapleyValueSampling(clf) if predictor_name in predictors['torch'] else ShapleyValueSampling(forward_classification)\n",
    "                    \n",
    "                    # prepare for batch computation\n",
    "                    batch_size = 1 if background_name=='sampling' else batch_size\n",
    "                    data_loader = DataLoader( SHAP_dataloader(ts_list,y_list,mask_list, background_dim=background_dataset.shape[0] ) ,  batch_size=batch_size )\n",
    "                    \n",
    "                    # computation loop\n",
    "                    current_idx = 0\n",
    "                    with tqdm(total=len(ts_list)) as pbar:\n",
    "                        for (ts,y,mask) in data_loader:\n",
    "                            \n",
    "                            current_results = get_attribution( SHAP, ts,mask,background_dataset,y, \n",
    "                                    sampling= (background_name=='sampling') )\n",
    "                            \n",
    "                            store_results(table=results['attributions'][dataset_name][segmentation_name][predictor_name][background_name], segmentation_name =segmentation_name, normalization_names=normalization_names,current_results=current_results, start=current_idx)\n",
    "                            \n",
    "                            # update counters\n",
    "                            pbar.update(batch_size) ; current_idx+=batch_size\n",
    "\n",
    "                    pbar.close()\n",
    "                    \n",
    "print(\"elapsed time\", ( timeit.default_timer() -starttime ) )\n"
   ],
   "outputs": [
    {
     "name": "stderr",
     "output_type": "stream",
     "text": [
      "50it [00:00, 259.65it/s]             \n",
      "100%|██████████| 2/2 [00:02<00:00,  1.36s/it]\n",
      "100%|██████████| 2/2 [00:00<00:00,  7.39it/s]\n",
      "100%|██████████| 2/2 [00:02<00:00,  1.12s/it]"
     ]
    },
    {
     "name": "stdout",
     "output_type": "stream",
     "text": [
      "elapsed time 5.444767906000379\n"
     ]
    },
    {
     "name": "stderr",
     "output_type": "stream",
     "text": [
      "\n"
     ]
    }
   ],
   "execution_count": 14
  },
  {
   "cell_type": "code",
   "metadata": {
    "ExecuteTime": {
     "end_time": "2024-10-24T10:08:08.491675Z",
     "start_time": "2024-10-24T10:08:08.488404Z"
    }
   },
   "source": [
    "# dump result to disk\n",
    "if not demo_mode:\n",
    "    file_name = \"_\".join( (\"all_results\",dataset_name,predictor_name) )\n",
    "else:\n",
    "\tfile_name = \"_\".join( (\"all_results_DEMO_\",dataset_name,predictor_name) )\n",
    "file_path = os.path.join(\"attributions\", file_name)\n",
    "np.save( file_path, results )"
   ],
   "outputs": [],
   "execution_count": 15
  },
  {
   "metadata": {},
   "cell_type": "code",
   "outputs": [],
   "execution_count": null,
   "source": ""
  }
 ],
 "metadata": {
  "kernelspec": {
   "display_name": "env_segment_shap",
   "language": "python",
   "name": "python3"
  },
  "language_info": {
   "codemirror_mode": {
    "name": "ipython",
    "version": 3
   },
   "file_extension": ".py",
   "mimetype": "text/x-python",
   "name": "python",
   "nbconvert_exporter": "python",
   "pygments_lexer": "ipython3",
   "version": "3.11.9"
  }
 },
 "nbformat": 4,
 "nbformat_minor": 2
}
