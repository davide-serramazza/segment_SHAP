{
 "cells": [
  {
   "cell_type": "code",
   "metadata": {
    "ExecuteTime": {
     "end_time": "2024-06-11T14:41:16.588647Z",
     "start_time": "2024-06-11T14:41:14.639394Z"
    }
   },
   "source": [
    "from captum.attr import ShapleyValueSampling\n",
    "from tqdm import trange\n",
    "\n",
    "from load_data import load_data\n",
    "from train_models import *\n",
    "from segmentation import *\n",
    "from utils import *\n",
    "import os"
   ],
   "outputs": [],
   "execution_count": 1
  },
  {
   "cell_type": "code",
   "metadata": {
    "ExecuteTime": {
     "end_time": "2024-06-11T14:48:02.149011Z",
     "start_time": "2024-06-11T14:48:02.145251Z"
    }
   },
   "source": [
    "# to utils.py\n",
    "\n",
    "def change_points_to_lengths(change_points, array_length):\n",
    "    # change points is 1D iterable of idxs\n",
    "    # assumes that each change point is the start of a new segment, aka change_points = start points\n",
    "    start_points = np.array(change_points)\n",
    "    end_points = np.append(change_points[1:], [array_length])\n",
    "    print(start_points, end_points)\n",
    "    lengths = end_points - start_points\n",
    "    return lengths\n",
    "\n",
    "def lengths_to_weights(lengths):\n",
    "    # lengths is 1D iterable of positive ints\n",
    "    start_idx = 0\n",
    "    end_idx = 0\n",
    "    segment_weights = 1 / lengths\n",
    "    weights = np.ones(lengths.sum())\n",
    "    for segment_weight, length in zip(segment_weights, lengths):\n",
    "        end_idx += length\n",
    "        weights[start_idx: end_idx] = segment_weight\n",
    "        start_idx = end_idx\n",
    "    return weights\n"
   ],
   "outputs": [],
   "execution_count": 8
  },
  {
   "cell_type": "code",
   "metadata": {
    "ExecuteTime": {
     "end_time": "2024-06-11T14:48:02.907780Z",
     "start_time": "2024-06-11T14:48:02.904917Z"
    }
   },
   "source": [
    "# device for torch\n",
    "from torch.cuda import is_available as is_GPU_available\n",
    "device = \"cuda\" if is_GPU_available() else \"cpu\"\n",
    "\n",
    "# dictionary mapping predictors to torch vs other, step necessary for Captum \n",
    "predictors = {\n",
    "\t'torch' : ['resNet'],\n",
    "\t'scikit' : ['miniRocket','randomForest']\n",
    "}"
   ],
   "outputs": [],
   "execution_count": 9
  },
  {
   "cell_type": "code",
   "metadata": {
    "ExecuteTime": {
     "end_time": "2024-06-11T14:48:03.798299Z",
     "start_time": "2024-06-11T14:48:03.601346Z"
    }
   },
   "source": [
    "# load data\n",
    "dataset_name = 'gunpoint'\n",
    "X_train, X_test, y_train, y_test, enc = load_data(subset='all', dataset_name=dataset_name)\n",
    "n_samples, n_chs, ts_length = X_test.shape\n",
    "\n",
    "# train model\n",
    "predictor_name = 'randomForest'\n",
    "if predictor_name=='resNet':\n",
    "\tclf,preds = train_ResNet(X_train, y_train, X_test, y_test, dataset_name,device=device)\n",
    "elif predictor_name=='miniRocket':\n",
    "\tclf,preds = train_miniRocket(X_train, y_train, X_test, y_test, dataset_name)\n",
    "elif predictor_name==\"randomForest\":\n",
    "\tclf, preds = train_randomForest(X_train, y_train, X_test, y_test, dataset_name)\n",
    "else:\n",
    "\traise ValueError(\n",
    "\t\t\"predictor not found\"\n",
    "\t)\n",
    "\n",
    "# initialize data structure meant to contain the segments\n",
    "# TODO can I be cleaner here?\n",
    "segments =  np.empty( (X_test.shape[0] , X_test.shape[1]), dtype=object) if X_test.shape[1] > 1  else (\n",
    "\tnp.empty( X_test.shape[0] , dtype=object))\n",
    "\n",
    "# create a dictionary to be dumped containing attribution and metadata\n",
    "results = {\n",
    "\t'attributions' : {},\n",
    "\t'segments' : segments,\n",
    "\t'y_test_true' : y_test,\n",
    "\t'y_test_pred' : preds,\n",
    "\t'label_mapping' : enc,\n",
    "}"
   ],
   "outputs": [
    {
     "name": "stdout",
     "output_type": "stream",
     "text": [
      "training random forest\n",
      "random forest accuracy is 0.9133333333333333\n"
     ]
    }
   ],
   "execution_count": 10
  },
  {
   "metadata": {
    "ExecuteTime": {
     "end_time": "2024-06-11T15:06:16.164871Z",
     "start_time": "2024-06-11T15:06:16.162376Z"
    }
   },
   "cell_type": "code",
   "source": [
    "# define different background to be used and number of samples as n_background\n",
    "# TODO set a number of TOTAL sampling regardless of the background type?\n",
    "n_background = 50\n",
    "background_types = [\"average\", \"zero\",\"sampling\"] # zero, constant, average, multisample\n",
    "for bt in background_types:\n",
    "\tresults['attributions'][bt] = np.zeros( X_test.shape ,dtype=np.float32 )"
   ],
   "outputs": [],
   "execution_count": 13
  },
  {
   "cell_type": "code",
   "metadata": {
    "ExecuteTime": {
     "end_time": "2024-06-11T15:06:16.161496Z",
     "start_time": "2024-06-11T14:48:06.116425Z"
    }
   },
   "source": [
    "with torch.no_grad():\n",
    "\t\n",
    "\tSHAP = ShapleyValueSampling(clf) if predictor_name in predictors['torch'] \\ \n",
    "\t\telse ShapleyValueSampling(forward_classification)\n",
    "\t\n",
    "\tfor i in trange ( n_samples ) : #\n",
    "\t\t\n",
    "\t\t# get current sample and label\n",
    "\t\tts, y = X_test[i] , torch.tensor( y_test[i:i+1] )\n",
    "\n",
    "\t\t# get segment and its tensor representation\n",
    "\t\tcurrent_segments = get_claSP_segmentation(ts)[:X_test.shape[1]]\n",
    "\t\tresults['segments'][i] = current_segments\n",
    "\t\tmask = get_feature_mask(current_segments,ts.shape[-1])\n",
    "\n",
    "\t\tts = torch.tensor(ts).repeat(1,1,1)\t#TODO use something similar to np.expand_dim?\n",
    "\n",
    "\t\tfor background_type in background_types:\n",
    "\n",
    "\t\t\t# background data\n",
    "\t\t\tif background_type==\"zero\":\n",
    "\t\t\t\tbackground_dataset = torch.zeros((1,) + X_train.shape[1:])\n",
    "\t\t\telif background_type==\"sampling\":\n",
    "\t\t\t\tbackground_dataset = sample_background(X_train, n_background)\n",
    "\t\t\telif background_type==\"average\":\n",
    "\t\t\t\tbackground_dataset = sample_background(X_train, n_background).mean(axis=0, keepdim=True)\n",
    "\n",
    "\t\t\t# for sampling strategy repeat the ts many times as the background dataset size\n",
    "\t\t\tts = ts.repeat(background_dataset.shape[0],1,1) if background_type==\"sampling\" else ts\n",
    "\n",
    "\t\t\t# different call depending on predictor type\n",
    "\t\t\tif predictor_name in predictors['scikit']:\n",
    "\t\t\t\t# if using random forest flat everything\n",
    "\t\t\t\tif predictor_name==\"randomForest\":\n",
    "\t\t\t\t\tts = ts.reshape( -1, n_chs*ts_length); mask = mask.reshape( -1, n_chs*ts_length);\n",
    "\t\t\t\t\tbackground_dataset = background_dataset.reshape( -1, n_chs*ts_length)\n",
    "\t\t\t\t\n",
    "\t\t\t\ttmp = SHAP.attribute( ts, target=y , feature_mask=mask, baselines=background_dataset, additional_forward_args=clf)\n",
    "\t\t\t\n",
    "\t\t\telif predictor_name in predictors['torch']:\n",
    "\t\t\t\t# if use torch make sure everything is on selected device\n",
    "\t\t\t\tts = ts.to(device); y = y.to(device)\n",
    "\t\t\t\tmask = mask.to(device) ; background_dataset =  background_dataset.to(device)\n",
    "\t\t\t\ttmp = SHAP.attribute( ts, target=y , feature_mask=mask, baselines=background_dataset)\n",
    "\t\t\t\n",
    "\t\t\t# 'un-flatten' for randomForest\n",
    "\t\t\tif predictor_name==\"randomForest\":\n",
    "\t\t\t\ttmp = tmp.reshape(-1,X_test.shape[1],X_test.shape[2])\n",
    "\n",
    "\t\t\t# store current explanation in the data structure; if sampling store the mean\n",
    "\t\t\tresults['attributions'][background_type][i] = torch.mean(tmp, dim=0).cpu().numpy() if \\\n",
    "\t\t\t\tbackground_type==\"sampling\" else tmp[0].cpu().numpy()"
   ],
   "outputs": [
    {
     "name": "stderr",
     "output_type": "stream",
     "text": [
      "100%|██████████| 150/150 [18:10<00:00,  7.27s/it]\n"
     ]
    }
   ],
   "execution_count": 12
  },
  {
   "metadata": {
    "ExecuteTime": {
     "end_time": "2024-06-11T15:06:20.125770Z",
     "start_time": "2024-06-11T15:06:20.107042Z"
    }
   },
   "cell_type": "code",
   "source": [
    " # normalized weights\n",
    "weights = np.array(list(map(lambda x: list(map(lambda y: lengths_to_weights(change_points_to_lengths(y, X_train.shape[-1])), x)), results[\"segments\"])))\n",
    "results[\"attributions\"][background_type] *= weights"
   ],
   "outputs": [
    {
     "name": "stdout",
     "output_type": "stream",
     "text": [
      "[  0   7  16  47  96 109 118] [  7  16  47  96 109 118 150]\n",
      "[  0  35  45  68  78 101 132] [ 35  45  68  78 101 132 150]\n",
      "[  0  23  47  69 106 119 131] [ 23  47  69 106 119 131 150]\n",
      "[  0  27  61  96 111 119 135] [ 27  61  96 111 119 135 150]\n",
      "[0] [150]\n",
      "[  0   9  19  42  63 112 129] [  9  19  42  63 112 129 150]\n",
      "[ 0 56 64 72 86 99] [ 56  64  72  86  99 150]\n",
      "[  0 123] [123 150]\n",
      "[  0  27  42  80 110 124 141] [ 27  42  80 110 124 141 150]\n",
      "[  0  15  41  57  87 100 132] [ 15  41  57  87 100 132 150]\n",
      "[  0  80  87  99 108 119 137] [ 80  87  99 108 119 137 150]\n",
      "[ 0 10 39 46 63 88 97] [ 10  39  46  63  88  97 150]\n",
      "[  0   9  18  39  77 114 139] [  9  18  39  77 114 139 150]\n",
      "[  0  79  99 131 138] [ 79  99 131 138 150]\n",
      "[  0  15  65  88 103 119 138] [ 15  65  88 103 119 138 150]\n",
      "[ 0 12 83] [ 12  83 150]\n",
      "[  0  34  69 120] [ 34  69 120 150]\n",
      "[ 0  8 19 34 42 77 98] [  8  19  34  42  77  98 150]\n",
      "[0] [150]\n",
      "[  0  33  40  48  65  77 106] [ 33  40  48  65  77 106 150]\n",
      "[  0  26 129] [ 26 129 150]\n",
      "[  0  16  38  70  87  96 115] [ 16  38  70  87  96 115 150]\n",
      "[ 0  7 19] [  7  19 150]\n",
      "[  0  10  40  63  74  88 131] [ 10  40  63  74  88 131 150]\n",
      "[  0  41  50  61  71 128 139] [ 41  50  61  71 128 139 150]\n",
      "[  0  15  24  39  95 111 123] [ 15  24  39  95 111 123 150]\n",
      "[  0  15  47  82 103 124 137] [ 15  47  82 103 124 137 150]\n",
      "[  0  51  83  91  99 109 134] [ 51  83  91  99 109 134 150]\n",
      "[  0  34  42 128 137] [ 34  42 128 137 150]\n",
      "[  0 135] [135 150]\n",
      "[  0  28  45  55  64  76 124] [ 28  45  55  64  76 124 150]\n",
      "[  0  11  86 116 137] [ 11  86 116 137 150]\n",
      "[  0  26  43  51 125] [ 26  43  51 125 150]\n",
      "[  0  68  83  95 108 115 130] [ 68  83  95 108 115 130 150]\n",
      "[  0  11  62  78 128] [ 11  62  78 128 150]\n",
      "[  0  22  45  82 111 121 134] [ 22  45  82 111 121 134 150]\n",
      "[  0  19  34  69  83 110 140] [ 19  34  69  83 110 140 150]\n",
      "[  0 109 124 137] [109 124 137 150]\n",
      "[  0  56 141] [ 56 141 150]\n",
      "[  0   7  17  31  41  62 120] [  7  17  31  41  62 120 150]\n",
      "[  0  36  53  78 109 118 131] [ 36  53  78 109 118 131 150]\n",
      "[  0  18  37  52  66 141] [ 18  37  52  66 141 150]\n",
      "[  0  73  88 101 116 131] [ 73  88 101 116 131 150]\n",
      "[0] [150]\n",
      "[0] [150]\n",
      "[  0  13 100] [ 13 100 150]\n",
      "[ 0 20] [ 20 150]\n",
      "[  0  41  75  89 102 110 119] [ 41  75  89 102 110 119 150]\n",
      "[  0   9  22  40  62 122 133] [  9  22  40  62 122 133 150]\n",
      "[  0  27  71  81 111 126 137] [ 27  71  81 111 126 137 150]\n",
      "[ 0 17 34 44 61 69 79] [ 17  34  44  61  69  79 150]\n",
      "[  0 100] [100 150]\n",
      "[  0  76  86  98 111 118 130] [ 76  86  98 111 118 130 150]\n",
      "[  0  31  41  75  91 110 138] [ 31  41  75  91 110 138 150]\n",
      "[  0  60  71  84  93 107 137] [ 60  71  84  93 107 137 150]\n",
      "[  0  38  60  95 118 128 140] [ 38  60  95 118 128 140 150]\n",
      "[  0  11  23  44 104 119 129] [ 11  23  44 104 119 129 150]\n",
      "[  0  85 131] [ 85 131 150]\n",
      "[  0  19  75  97 107 114 126] [ 19  75  97 107 114 126 150]\n",
      "[  0  32  68  79  97 122 140] [ 32  68  79  97 122 140 150]\n",
      "[  0  14  51 103 117 125 137] [ 14  51 103 117 125 137 150]\n",
      "[  0   9  24  37 133 141] [  9  24  37 133 141 150]\n",
      "[  0  38  49  56  84 117 136] [ 38  49  56  84 117 136 150]\n",
      "[  0  22  31  70  87 123 138] [ 22  31  70  87 123 138 150]\n",
      "[  0 106] [106 150]\n",
      "[ 0  8 75 84] [  8  75  84 150]\n",
      "[  0  13  39  49  68 100 137] [ 13  39  49  68 100 137 150]\n",
      "[  0  66  74  95 105 114 136] [ 66  74  95 105 114 136 150]\n",
      "[  0  27  78  99 119 129] [ 27  78  99 119 129 150]\n",
      "[0] [150]\n",
      "[  0  11  46  69  83 106 125] [ 11  46  69  83 106 125 150]\n",
      "[  0   8  16  36  70 103 122] [  8  16  36  70 103 122 150]\n",
      "[  0  44  67  77 108 122 132] [ 44  67  77 108 122 132 150]\n",
      "[  0  14  37  62  84 107 116] [ 14  37  62  84 107 116 150]\n",
      "[  0  14  30  45  54  91 112] [ 14  30  45  54  91 112 150]\n",
      "[  0  13  34  43  75  86 103] [ 13  34  43  75  86 103 150]\n",
      "[  0  33  62  78  90 104 134] [ 33  62  78  90 104 134 150]\n",
      "[  0  43  57  71  99 119 139] [ 43  57  71  99 119 139 150]\n",
      "[  0  20  34  42  94 131] [ 20  34  42  94 131 150]\n",
      "[  0  28  62 103 125 133 141] [ 28  62 103 125 133 141 150]\n",
      "[  0  32  57  68 104 112 123] [ 32  57  68 104 112 123 150]\n",
      "[ 0  7 19 44 64 83 98] [  7  19  44  64  83  98 150]\n",
      "[  0  21  33  50 128 136] [ 21  33  50 128 136 150]\n",
      "[  0  22  33  46  80 101] [ 22  33  46  80 101 150]\n",
      "[ 0 30 39 75] [ 30  39  75 150]\n",
      "[0] [150]\n",
      "[0] [150]\n",
      "[ 0  9 32 40 48 56 72] [  9  32  40  48  56  72 150]\n",
      "[  0  25  50  70  83 104 134] [ 25  50  70  83 104 134 150]\n",
      "[ 0 23 60 67 80] [ 23  60  67  80 150]\n",
      "[  0  27  41  52  59  72 122] [ 27  41  52  59  72 122 150]\n",
      "[  0  43  88 101 109 120 132] [ 43  88 101 109 120 132 150]\n",
      "[ 0 12 30 72 81] [ 12  30  72  81 150]\n",
      "[  0  11  28  41  65  76 132] [ 11  28  41  65  76 132 150]\n",
      "[0] [150]\n",
      "[  0   7  19  30  75 124 139] [  7  19  30  75 124 139 150]\n",
      "[  0  28  74  82  94 102 135] [ 28  74  82  94 102 135 150]\n",
      "[  0  16  78 101 112 124 137] [ 16  78 101 112 124 137 150]\n",
      "[  0  70  78  94 106 122 140] [ 70  78  94 106 122 140 150]\n",
      "[  0  10  31  55  67 108 139] [ 10  31  55  67 108 139 150]\n",
      "[  0   8  62  77  87 107 120] [  8  62  77  87 107 120 150]\n",
      "[  0  18  63  85 113 126 141] [ 18  63  85 113 126 141 150]\n",
      "[  0  84  96 107 125 139] [ 84  96 107 125 139 150]\n",
      "[  0  87  95 113 132] [ 87  95 113 132 150]\n",
      "[ 0 34 41 54 66] [ 34  41  54  66 150]\n",
      "[  0  25  66 109 117 129 137] [ 25  66 109 117 129 137 150]\n",
      "[  0  65  76 106 119 132] [ 65  76 106 119 132 150]\n",
      "[  0  13  30  99 110 128] [ 13  30  99 110 128 150]\n",
      "[  0   9  25  32  42  67 128] [  9  25  32  42  67 128 150]\n",
      "[  0  15  30  41  66 122] [ 15  30  41  66 122 150]\n",
      "[  0  13  35  77 101 117 141] [ 13  35  77 101 117 141 150]\n",
      "[  0  14 118 137] [ 14 118 137 150]\n",
      "[  0  16  47  67  78  89 138] [ 16  47  67  78  89 138 150]\n",
      "[  0  16  43  62  79  99 126] [ 16  43  62  79  99 126 150]\n",
      "[  0  14  28  43  56  67 111] [ 14  28  43  56  67 111 150]\n",
      "[0] [150]\n",
      "[ 0 15 22 37 69 87 96] [ 15  22  37  69  87  96 150]\n",
      "[  0  34  42  53  81 108] [ 34  42  53  81 108 150]\n",
      "[ 0 19 29] [ 19  29 150]\n",
      "[  0  22  34  49  64  87 104] [ 22  34  49  64  87 104 150]\n",
      "[  0  15  34  45  56  72 125] [ 15  34  45  56  72 125 150]\n",
      "[  0  19  36  69  99 131 141] [ 19  36  69  99 131 141 150]\n",
      "[  0  27  76  84 102 117 137] [ 27  76  84 102 117 137 150]\n",
      "[  0   9 102 109 121 139] [  9 102 109 121 139 150]\n",
      "[  0  19  88 101 117 129] [ 19  88 101 117 129 150]\n",
      "[ 0 25 39 65 82 97] [ 25  39  65  82  97 150]\n",
      "[  0  39  62  79  87 103 119] [ 39  62  79  87 103 119 150]\n",
      "[  0  11  34  54  68  80 139] [ 11  34  54  68  80 139 150]\n",
      "[  0 112 137] [112 137 150]\n",
      "[  0  17  37  56 106 121 137] [ 17  37  56 106 121 137 150]\n",
      "[  0  80  94 107 128 137] [ 80  94 107 128 137 150]\n",
      "[0] [150]\n",
      "[  0  73  84  91 102 117 132] [ 73  84  91 102 117 132 150]\n",
      "[  0  10  19  39  77  93 109] [ 10  19  39  77  93 109 150]\n",
      "[  0  16  42  55  71 109] [ 16  42  55  71 109 150]\n",
      "[  0  23  40  56 117 125 134] [ 23  40  56 117 125 134 150]\n",
      "[ 0 14 38 47 56 85 96] [ 14  38  47  56  85  96 150]\n",
      "[  0  21  42  60  70 128 138] [ 21  42  60  70 128 138 150]\n",
      "[  0   7  50  92 103 111 124] [  7  50  92 103 111 124 150]\n",
      "[  0  74  89  97 110 118 128] [ 74  89  97 110 118 128 150]\n",
      "[0] [150]\n",
      "[  0 111 122 136] [111 122 136 150]\n",
      "[  0  70  79 101] [ 70  79 101 150]\n",
      "[  0  20  31  78  94 125] [ 20  31  78  94 125 150]\n",
      "[  0  72  85 100 112 123 137] [ 72  85 100 112 123 137 150]\n",
      "[  0  37  48  69  76  98 123] [ 37  48  69  76  98 123 150]\n",
      "[  0  57  69  79  98 105 135] [ 57  69  79  98 105 135 150]\n",
      "[  0  13  37  44  77  84 138] [ 13  37  44  77  84 138 150]\n",
      "[  0  19  40  69 101 129] [ 19  40  69 101 129 150]\n",
      "[  0  28  41  49  66 103 115] [ 28  41  49  66 103 115 150]\n"
     ]
    }
   ],
   "execution_count": 14
  },
  {
   "cell_type": "code",
   "metadata": {
    "ExecuteTime": {
     "end_time": "2024-06-11T15:08:49.634218Z",
     "start_time": "2024-06-11T15:08:49.630046Z"
    }
   },
   "source": [
    "# dump result to disk\n",
    "file_name = \"_\".join ( ( predictor_name, dataset_name ) )+\".npy\"\n",
    "file_path = os.path.join(\"attributions\", file_name)\n",
    "np.save( file_path, results )"
   ],
   "outputs": [],
   "execution_count": 16
  },
  {
   "cell_type": "code",
   "execution_count": 10,
   "metadata": {
    "ExecuteTime": {
     "end_time": "2024-06-10T14:23:42.722545Z",
     "start_time": "2024-06-10T14:23:42.718744Z"
    }
   },
   "outputs": [
    {
     "data": {
      "text/plain": [
       "array([ 1.70120507e-01,  1.52841201e-02,  9.28617418e-02,  1.13407120e-01,\n",
       "        1.83220327e-01,  2.10560542e-02,  1.27464145e-01,  1.06733963e-01,\n",
       "        1.75181329e-02,  1.57249138e-01,  1.40664607e-01,  1.49215162e-01,\n",
       "        1.59901679e-02,  1.27517417e-01,  1.47278994e-01,  1.60658777e-01,\n",
       "        2.17270672e-01,  5.09824380e-02,  3.32470946e-02,  3.66214737e-02,\n",
       "        1.30641073e-01,  1.23184487e-01,  1.96215227e-01,  1.38463348e-01,\n",
       "        8.75410587e-02,  9.70023274e-02,  1.71967596e-01,  1.50519937e-01,\n",
       "        5.04426882e-02,  1.61408171e-01,  2.16436416e-01,  1.41229391e-01,\n",
       "        1.41947210e-01,  1.62317842e-01,  1.64650887e-01,  1.64535791e-01,\n",
       "        1.46388069e-01,  1.16750002e-01,  1.22873716e-01,  4.31026220e-02,\n",
       "        1.57310590e-01,  1.00012690e-01,  1.55799270e-01,  1.55326679e-01,\n",
       "        8.71996731e-02,  1.57125652e-01,  1.36757612e-01,  3.19495164e-02,\n",
       "        1.55807734e-01,  3.47837806e-02,  9.90368426e-05,  1.06972188e-01,\n",
       "        1.50174171e-01,  1.25235200e-01,  2.20670074e-01,  1.48426294e-01,\n",
       "        5.72129600e-02,  5.23135811e-03,  1.69855252e-01, -9.55441408e-03,\n",
       "        1.81595162e-01,  8.55566040e-02,  1.83773547e-01,  1.74469322e-01,\n",
       "        3.58385742e-02,  1.50771007e-01,  1.02175027e-01,  1.56581402e-03,\n",
       "        7.39983469e-03, -7.07995798e-03,  2.82760896e-02,  2.25948971e-02,\n",
       "        3.39109339e-02,  1.27417088e-01,  9.65246856e-02,  3.17281187e-02,\n",
       "        5.00109047e-03,  1.26921579e-01,  1.34369999e-01,  1.73745632e-01,\n",
       "        1.57104641e-01,  1.37270853e-01,  7.70949945e-02, -4.15297691e-04,\n",
       "        2.89354324e-02,  4.62383078e-03,  1.20482042e-01,  7.14676976e-02,\n",
       "        1.84177309e-01,  1.62069023e-01,  1.86456561e-01,  8.48496482e-02,\n",
       "        2.18016014e-01,  1.39586866e-01,  1.34663373e-01,  1.53521806e-01,\n",
       "        2.53173076e-02,  8.60062540e-02,  1.18714899e-01,  1.63239688e-01,\n",
       "        7.53705502e-02,  1.18462563e-01,  1.14391193e-01,  2.68483628e-02,\n",
       "        2.29834616e-02,  1.15697414e-01,  2.02667177e-01,  6.56441450e-02,\n",
       "        1.53643370e-01,  4.30381391e-03,  5.79964779e-02,  1.98596139e-02,\n",
       "        1.90514505e-01,  9.38736200e-02,  1.25028551e-01,  1.28209993e-01,\n",
       "        1.33996025e-01,  1.38196483e-01,  2.03438237e-01,  1.31943494e-01,\n",
       "        1.49502069e-01,  1.43413126e-01,  1.34794991e-02,  1.24804698e-01,\n",
       "        1.04686841e-01,  7.56240487e-02,  1.34499803e-01,  1.21700674e-01,\n",
       "        6.39081597e-02,  9.29444805e-02,  9.19372439e-02,  2.13646851e-02,\n",
       "        1.33988142e-01,  1.86901391e-01,  1.58457816e-01,  7.32089505e-02,\n",
       "        1.22220784e-01, -1.01578850e-02,  1.59590364e-01,  1.82752252e-01,\n",
       "        1.20933130e-01,  1.36274219e-01,  1.23209335e-01,  5.82058020e-02,\n",
       "        1.32585362e-01,  1.86867490e-02,  1.39303863e-01,  4.07059491e-02,\n",
       "        1.05080873e-01,  9.12766233e-02], dtype=float32)"
      ]
     },
     "execution_count": 10,
     "metadata": {},
     "output_type": "execute_result"
    }
   ],
   "source": [
    "results['attributions'][background_type].sum(axis=(1,2))"
   ]
  }
 ],
 "metadata": {
  "kernelspec": {
   "display_name": "env_segment_shap",
   "language": "python",
   "name": "python3"
  },
  "language_info": {
   "codemirror_mode": {
    "name": "ipython",
    "version": 3
   },
   "file_extension": ".py",
   "mimetype": "text/x-python",
   "name": "python",
   "nbconvert_exporter": "python",
   "pygments_lexer": "ipython3",
   "version": "3.11.9"
  }
 },
 "nbformat": 4,
 "nbformat_minor": 2
}
