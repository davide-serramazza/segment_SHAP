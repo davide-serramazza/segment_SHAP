{
 "cells": [
  {
   "metadata": {
    "ExecuteTime": {
     "end_time": "2024-07-26T14:39:10.103025Z",
     "start_time": "2024-07-26T14:38:45.856457Z"
    }
   },
   "cell_type": "code",
   "source": [
    "import numpy as np\n",
    "from load_data import load_data\n",
    "from sklearn.metrics import accuracy_score\n",
    "\n",
    "# import new src file!\n",
    "from predictor_utils import load_predictor, predict_proba\n",
    "\n",
    "\n",
    "# In order to check if every possible combination is working I defined the following two lists\n",
    "predictor_names = [\"QUANT\",\"miniRocket\",\"resNet\",\"randomForest\"]\n",
    "dataset_names =  [\"gunpoint\",\"UWAVE\",\"MP8\",\"EOG\",\"KeplerLightCurves\"]\n",
    "\n",
    "for dataset_name in dataset_names:\n",
    "    X_train, X_test, y_train, y_test, enc = load_data(subset='all', dataset_name=dataset_name)\n",
    "    for predictor_name in predictor_names:    \n",
    "        # load the predictor and in case it is random forest flat the dataset\n",
    "        predictor = load_predictor(path=\"trained_models\", predictor_name=predictor_name,dataset_name=dataset_name)\n",
    "            \n",
    "        # perform predict proba and compute the accuracy\n",
    "        res = predict_proba(predictor,X_test)\n",
    "        pred_labels = np.argmax(res, axis=1)\n",
    "        acc = accuracy_score(y_test, pred_labels)\n",
    "        print( predictor_name,\"\\t\",dataset_name,\"\\t\", acc)\n"
   ],
   "id": "401a7d36d6af52ab",
   "outputs": [
    {
     "name": "stdout",
     "output_type": "stream",
     "text": [
      "QUANT \t gunpoint \t 0.9933333333333333\n",
      "miniRocket \t gunpoint \t 0.9866666666666667\n",
      "resNet \t gunpoint \t 0.9933333333333333\n",
      "randomForest \t gunpoint \t 0.9333333333333333\n",
      "QUANT \t UWAVE \t 0.9042056074766355\n",
      "miniRocket \t UWAVE \t 0.9322429906542056\n",
      "resNet \t UWAVE \t 0.8504672897196262\n",
      "randomForest \t UWAVE \t 0.8598130841121495\n",
      "QUANT \t MP8 \t 0.680672268907563\n",
      "miniRocket \t MP8 \t 0.7495798319327731\n",
      "resNet \t MP8 \t 0.7949579831932773\n",
      "randomForest \t MP8 \t 0.6033613445378151\n",
      "QUANT \t EOG \t 0.8646408839779005\n",
      "miniRocket \t EOG \t 0.8176795580110497\n",
      "resNet \t EOG \t 0.7265193370165746\n",
      "randomForest \t EOG \t 0.6657458563535912\n",
      "QUANT \t KeplerLightCurves \t 0.9674185463659147\n",
      "miniRocket \t KeplerLightCurves \t 0.9273182957393483\n",
      "resNet \t KeplerLightCurves \t 0.8421052631578947\n",
      "randomForest \t KeplerLightCurves \t 0.7092731829573935\n"
     ]
    }
   ],
   "execution_count": 1
  },
  {
   "metadata": {},
   "cell_type": "code",
   "outputs": [],
   "execution_count": null,
   "source": "",
   "id": "bf2d9d86a740647e"
  }
 ],
 "metadata": {
  "kernelspec": {
   "display_name": "Python 3",
   "language": "python",
   "name": "python3"
  },
  "language_info": {
   "codemirror_mode": {
    "name": "ipython",
    "version": 2
   },
   "file_extension": ".py",
   "mimetype": "text/x-python",
   "name": "python",
   "nbconvert_exporter": "python",
   "pygments_lexer": "ipython2",
   "version": "2.7.6"
  }
 },
 "nbformat": 4,
 "nbformat_minor": 5
}
