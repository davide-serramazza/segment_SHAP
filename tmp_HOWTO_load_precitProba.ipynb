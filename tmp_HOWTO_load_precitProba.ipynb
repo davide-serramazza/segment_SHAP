{
 "cells": [
  {
   "metadata": {
    "ExecuteTime": {
     "end_time": "2024-07-23T10:01:53.176610Z",
     "start_time": "2024-07-23T09:58:27.148560Z"
    }
   },
   "cell_type": "code",
   "source": [
    "import numpy as np\n",
    "from load_data import load_data\n",
    "import os\n",
    "from sklearn.metrics import accuracy_score\n",
    "\n",
    "# import new src file!\n",
    "from predictor_utils import load_predictor, predict_proba\n",
    "\n",
    "\n",
    "# look into \"trained_models\" folder for available predictors\n",
    "predictors = os.listdir(\"trained_models\")\n",
    "\n",
    "for file_name in predictors:\n",
    "    # load dataset based on the previous file name (remember the format is predictorName_datasetName.pkl/pt)\n",
    "    dataset_name = file_name.split(\"_\")[1].split(\".\")[0]\n",
    "    X_train, X_test, y_train, y_test, enc = load_data(subset='all', dataset_name=dataset_name)    \n",
    "\n",
    "    # load the predictor and in case it is random forest flat the dataset\n",
    "    predictor = load_predictor(path=\"trained_models/\"+file_name)\n",
    "    if file_name.count(\"randomForest\")>0:\n",
    "        X_test = X_test.reshape(X_test.shape[0],-1)\n",
    "        \n",
    "    # perform predict proba and compute the accuracy\n",
    "    res = predict_proba(predictor,X_test)\n",
    "    pred_labels = np.argmax(res, axis=1)\n",
    "    acc = accuracy_score(y_test, pred_labels)\n",
    "    print( file_name,\"\\t\",dataset_name,\"\\t\", acc)\n"
   ],
   "id": "401a7d36d6af52ab",
   "outputs": [
    {
     "name": "stdout",
     "output_type": "stream",
     "text": [
      "QUANT_EOG.pkl \t EOG \t 0.8646408839779005\n",
      "randomForest_gunpoint.pkl \t gunpoint \t 0.9333333333333333\n",
      "randomForest_KeplerLightCurves.pkl \t KeplerLightCurves \t 0.7092731829573935\n",
      "QUANT_gunpoint.pkl \t gunpoint \t 0.9933333333333333\n",
      "miniRocket_KeplerLightCurves.pkl \t KeplerLightCurves \t 0.9273182957393483\n",
      "resNet_EOG.pt \t EOG \t 0.7265193370165746\n",
      "QUANT_KeplerLightCurves.pkl \t KeplerLightCurves \t 0.9674185463659147\n",
      "randomForest_UWAVE.pkl \t UWAVE \t 0.8598130841121495\n",
      "QUANT_MP8.pkl \t MP8 \t 0.680672268907563\n",
      "resNet_gunpoint.pt \t gunpoint \t 0.9933333333333333\n",
      "miniRocket_EOG.pkl \t EOG \t 0.8176795580110497\n",
      "miniRocket_gunpoint.pkl \t gunpoint \t 0.9866666666666667\n",
      "miniRocket_MP8.pkl \t MP8 \t 0.7495798319327731\n",
      "miniRocket_UWAVE.pkl \t UWAVE \t 0.9322429906542056\n",
      "resNet_KeplerLightCurves.pt \t KeplerLightCurves \t 0.8421052631578947\n",
      "resNet_MP8.pt \t MP8 \t 0.7949579831932773\n",
      "randomForest_EOG.pkl \t EOG \t 0.6657458563535912\n",
      "resNet_UWAVE.pt \t UWAVE \t 0.8504672897196262\n",
      "randomForest_MP8.pkl \t MP8 \t 0.6151260504201681\n",
      "QUANT_UWAVE.pkl \t UWAVE \t 0.9042056074766355\n"
     ]
    }
   ],
   "execution_count": 2
  },
  {
   "metadata": {},
   "cell_type": "code",
   "outputs": [],
   "execution_count": null,
   "source": "",
   "id": "bf2d9d86a740647e"
  }
 ],
 "metadata": {
  "kernelspec": {
   "display_name": "Python 3",
   "language": "python",
   "name": "python3"
  },
  "language_info": {
   "codemirror_mode": {
    "name": "ipython",
    "version": 2
   },
   "file_extension": ".py",
   "mimetype": "text/x-python",
   "name": "python",
   "nbconvert_exporter": "python",
   "pygments_lexer": "ipython2",
   "version": "2.7.6"
  }
 },
 "nbformat": 4,
 "nbformat_minor": 5
}
