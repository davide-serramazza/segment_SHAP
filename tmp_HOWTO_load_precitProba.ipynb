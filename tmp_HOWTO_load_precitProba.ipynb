{
 "cells": [
  {
   "metadata": {
    "ExecuteTime": {
     "end_time": "2024-08-23T08:51:11.618132Z",
     "start_time": "2024-08-23T08:51:09.897822Z"
    }
   },
   "cell_type": "code",
   "source": [
    "import numpy as np\n",
    "from load_data import load_data\n",
    "from sklearn.metrics import accuracy_score\n",
    "\n",
    "# import new src file!\n",
    "from models.predictor_utils import load_predictor, predict_proba\n",
    "\n",
    "\n",
    "# In order to check if every possible combination is working I defined the following two lists\n",
    "predictor_names = [\"resNet\"]\n",
    "dataset_names =  [\"gunpoint\",\"UWAVE\",\"EOG\",\"KeplerLightCurves\"]\n",
    "\n",
    "for dataset_name in dataset_names:\n",
    "    X_train, X_test, y_train, y_test, enc = load_data(subset='all', dataset_name=dataset_name)\n",
    "    for predictor_name in predictor_names:    \n",
    "        # load the predictor and in case it is random forest flat the dataset\n",
    "        predictor = load_predictor(path=\"models/trained_models\", predictor_name=predictor_name,dataset_name=dataset_name)\n",
    "            \n",
    "        # perform predict proba and compute the accuracy\n",
    "        res = predict_proba(predictor,X_test)\n",
    "        pred_labels = np.argmax(res, axis=1)\n",
    "        acc = accuracy_score(y_test, pred_labels)\n",
    "        print( predictor_name,\"\\t\",dataset_name,\"\\t\", acc)\n"
   ],
   "id": "401a7d36d6af52ab",
   "outputs": [
    {
     "name": "stdout",
     "output_type": "stream",
     "text": [
      "resNet \t gunpoint \t 0.9733333333333334\n",
      "resNet \t UWAVE \t 0.8364485981308412\n",
      "resNet \t EOG \t 0.7348066298342542\n"
     ]
    },
    {
     "ename": "ValueError",
     "evalue": "Unsupported predictor extension: models/trained_models",
     "output_type": "error",
     "traceback": [
      "\u001B[0;31m---------------------------------------------------------------------------\u001B[0m",
      "\u001B[0;31mValueError\u001B[0m                                Traceback (most recent call last)",
      "Cell \u001B[0;32mIn[6], line 17\u001B[0m\n\u001B[1;32m     14\u001B[0m X_train, X_test, y_train, y_test, enc \u001B[38;5;241m=\u001B[39m load_data(subset\u001B[38;5;241m=\u001B[39m\u001B[38;5;124m'\u001B[39m\u001B[38;5;124mall\u001B[39m\u001B[38;5;124m'\u001B[39m, dataset_name\u001B[38;5;241m=\u001B[39mdataset_name)\n\u001B[1;32m     15\u001B[0m \u001B[38;5;28;01mfor\u001B[39;00m predictor_name \u001B[38;5;129;01min\u001B[39;00m predictor_names:    \n\u001B[1;32m     16\u001B[0m     \u001B[38;5;66;03m# load the predictor and in case it is random forest flat the dataset\u001B[39;00m\n\u001B[0;32m---> 17\u001B[0m     predictor \u001B[38;5;241m=\u001B[39m load_predictor(path\u001B[38;5;241m=\u001B[39m\u001B[38;5;124m\"\u001B[39m\u001B[38;5;124mmodels/trained_models\u001B[39m\u001B[38;5;124m\"\u001B[39m, predictor_name\u001B[38;5;241m=\u001B[39mpredictor_name,dataset_name\u001B[38;5;241m=\u001B[39mdataset_name)\n\u001B[1;32m     19\u001B[0m     \u001B[38;5;66;03m# perform predict proba and compute the accuracy\u001B[39;00m\n\u001B[1;32m     20\u001B[0m     res \u001B[38;5;241m=\u001B[39m predict_proba(predictor,X_test)\n",
      "File \u001B[0;32m~/workspace/PhD/bristolSHAP/models/predictor_utils.py:37\u001B[0m, in \u001B[0;36mload_predictor\u001B[0;34m(path, predictor_name, dataset_name, device)\u001B[0m\n\u001B[1;32m     35\u001B[0m \tpredictor \u001B[38;5;241m=\u001B[39m Sequential(predictor, Softmax(dim\u001B[38;5;241m=\u001B[39m\u001B[38;5;241m-\u001B[39m\u001B[38;5;241m1\u001B[39m))\u001B[38;5;241m.\u001B[39meval()\n\u001B[1;32m     36\u001B[0m \u001B[38;5;28;01melse\u001B[39;00m:\n\u001B[0;32m---> 37\u001B[0m \t\u001B[38;5;28;01mraise\u001B[39;00m \u001B[38;5;167;01mValueError\u001B[39;00m(\u001B[38;5;124mf\u001B[39m\u001B[38;5;124m'\u001B[39m\u001B[38;5;124mUnsupported predictor extension: \u001B[39m\u001B[38;5;132;01m{\u001B[39;00mpath\u001B[38;5;132;01m}\u001B[39;00m\u001B[38;5;124m'\u001B[39m)\n\u001B[1;32m     39\u001B[0m \u001B[38;5;28;01mreturn\u001B[39;00m predictor\n",
      "\u001B[0;31mValueError\u001B[0m: Unsupported predictor extension: models/trained_models"
     ]
    }
   ],
   "execution_count": 6
  },
  {
   "metadata": {},
   "cell_type": "code",
   "outputs": [],
   "execution_count": null,
   "source": "",
   "id": "bf2d9d86a740647e"
  }
 ],
 "metadata": {
  "kernelspec": {
   "display_name": "Python 3",
   "language": "python",
   "name": "python3"
  },
  "language_info": {
   "codemirror_mode": {
    "name": "ipython",
    "version": 2
   },
   "file_extension": ".py",
   "mimetype": "text/x-python",
   "name": "python",
   "nbconvert_exporter": "python",
   "pygments_lexer": "ipython2",
   "version": "2.7.6"
  }
 },
 "nbformat": 4,
 "nbformat_minor": 5
}
